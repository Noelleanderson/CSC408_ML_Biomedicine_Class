{
  "nbformat": 4,
  "nbformat_minor": 0,
  "metadata": {
    "colab": {
      "provenance": [],
      "toc_visible": true,
      "include_colab_link": true
    },
    "kernelspec": {
      "name": "python3",
      "display_name": "Python 3"
    },
    "language_info": {
      "name": "python"
    }
  },
  "cells": [
    {
      "cell_type": "markdown",
      "metadata": {
        "id": "view-in-github",
        "colab_type": "text"
      },
      "source": [
        "<a href=\"https://colab.research.google.com/github/pleunipennings/CSC508_ML_Biomedicine_Class/blob/main/Module7/Module_7b_Making_a_graph_for_models_comparison_Antibiotic_resistance_CSC508.ipynb\" target=\"_parent\"><img src=\"https://colab.research.google.com/assets/colab-badge.svg\" alt=\"Open In Colab\"/></a>"
      ]
    },
    {
      "cell_type": "markdown",
      "metadata": {
        "id": "0jr_YDcEQgNX"
      },
      "source": [
        "##**Welcome to the module 7b coding part: Making a graph for Models comparison!**\n",
        "\n",
        "*This notebook was created at San Francisco State University (SFSU) for the Promoting INclusivity and Computing (PINC) and gSTAR programs by Dr. Pleuni Pennings (SFSU biology professor), Lucy Moctezuma Tan (California State University, East Bay CSUEB master student) and Lorena Benitez-Rivera (SFSU master student). All members of the COde to understand Drug resistance Evolution (CODE) lab in 2023.*\n",
        "\n",
        "The code is based on a project by Faye Orcales, Jameel Ali, Meris Johnson-Hagler, Kristiene Recto, Lucy Moctezuma Tan (all CODE lab members at SFSU), and in turn inspired by work by Danesh Moradigaravand and coauthors [Moradivaravand et al.](https://journals.plos.org/ploscompbiol/article?id=10.1371/journal.pcbi.1006258)"
      ]
    },
    {
      "cell_type": "markdown",
      "source": [
        "#OBJECTIVE OF THIS NOTEBOOK:\n",
        "\n",
        "**Recreating graphs of Accuracies and Recall**\n",
        "\n",
        "In this notebook we are going to create a graph that will let us compare the performance for all the three models used in notebooks 6b-7a:\n",
        "\n",
        "1.   **Gradient-Boosted Trees**\n",
        "2.   **Random Forest**\n",
        "3.   **Logistic Regression** \n",
        "\n",
        "We will also be able to check what combinations were best for each drug. Below is an example of the graph we want to achieve with this code:\n",
        "\n",
        "![main graph](https://drive.google.com/uc?export=view&id=1vXpJd53KWg2CjJUeAAfFk0iQdWzoKLF7)\n",
        "\n",
        "\n"
      ],
      "metadata": {
        "id": "mZzQPqYib3RV"
      }
    },
    {
      "cell_type": "markdown",
      "source": [
        "## **Step 1) Importing packages needed for visualization**\n",
        "\n",
        "**NOTE:** Please allow access to your google drive when prompted, this will let you create and store the files in your drive to be accessed."
      ],
      "metadata": {
        "id": "eyEsWoENgE1F"
      }
    },
    {
      "cell_type": "code",
      "execution_count": null,
      "metadata": {
        "id": "KI6qtXkG3ruy",
        "colab": {
          "base_uri": "https://localhost:8080/"
        },
        "outputId": "f76c3486-17a5-4363-cf2b-2fff1d2e3c4f"
      },
      "outputs": [
        {
          "output_type": "stream",
          "name": "stdout",
          "text": [
            "Mounted at /content/drive/\n"
          ]
        }
      ],
      "source": [
        "# Data Wrangling Imports\n",
        "import pandas as pd\n",
        "import numpy as np\n",
        "\n",
        "# Data visualization Imports\n",
        "import matplotlib.pyplot as plt\n",
        "import seaborn as sns\n",
        "import matplotlib.gridspec as gridspec\n",
        "from matplotlib.patches import Patch\n",
        "\n",
        "# File Manipulation Imports\n",
        "import os\n",
        "from google.colab import drive\n",
        "drive.mount('/content/drive/')"
      ]
    },
    {
      "cell_type": "markdown",
      "source": [
        "## **Step 2) Loading each models scores and join them into a single dictionary**"
      ],
      "metadata": {
        "id": "s31dSpjkgSZp"
      }
    },
    {
      "cell_type": "code",
      "source": [
        "# Loading all models metrics and joint them in a dictionary:\n",
        "filepath = \"/content/drive/MyDrive/EColi_ML_CSV_files/\"\n",
        "\n",
        "Model_Scores = {}\n",
        "\n",
        "# Loading all data frames\n",
        "LG_metrics = pd.read_csv(filepath+\"LG_metrics_df.csv\")\n",
        "RF_metrics = pd.read_csv(filepath+\"RF_metrics_df.csv\")\n",
        "GB_metrics = pd.read_csv(filepath+\"GB_metrics_df.csv\")\n",
        "\n",
        "# Adding all dataframes to dictionary\n",
        "Model_Scores[\"Logistic_Regression\"] = LG_metrics\n",
        "Model_Scores[\"Random_Forest\"] = RF_metrics\n",
        "Model_Scores[\"Gradient_Boosted_Trees\"] = GB_metrics\n"
      ],
      "metadata": {
        "id": "7a7nIbEvcVMB"
      },
      "execution_count": null,
      "outputs": []
    },
    {
      "cell_type": "markdown",
      "source": [
        "## **Step 3) Selecting only the bestscores for each drug from each model**"
      ],
      "metadata": {
        "id": "nHnUBCl-f4eQ"
      }
    },
    {
      "cell_type": "code",
      "source": [
        "# Extracting list of combos from dictionary created\n",
        "combo_list = list(Model_Scores['Gradient_Boosted_Trees'][\"Drug_combo\"].str.split(\"_\", expand= True)[1].unique())\n",
        "combo_list "
      ],
      "metadata": {
        "colab": {
          "base_uri": "https://localhost:8080/"
        },
        "id": "A8ZPxpuQPuJC",
        "outputId": "82f766e9-d422-4650-f5ed-ccaae9708949"
      },
      "execution_count": null,
      "outputs": [
        {
          "output_type": "execute_result",
          "data": {
            "text/plain": [
              "['G', 'S', 'GY', 'GS', 'SY', 'GYS']"
            ]
          },
          "metadata": {},
          "execution_count": 4
        }
      ]
    },
    {
      "cell_type": "code",
      "source": [
        "# Extracting list of drugs from dictionary created\n",
        "drug_list = list(Model_Scores['Gradient_Boosted_Trees'][\"Drug_combo\"].str[:3].unique()) \n",
        "drug_list "
      ],
      "metadata": {
        "id": "bQVnCVGXgBZE",
        "colab": {
          "base_uri": "https://localhost:8080/"
        },
        "outputId": "6cbd9a9d-7a8a-4b64-a954-a5dccb1634a6"
      },
      "execution_count": null,
      "outputs": [
        {
          "output_type": "execute_result",
          "data": {
            "text/plain": [
              "['CTZ',\n",
              " 'CTX',\n",
              " 'AMP',\n",
              " 'AMX',\n",
              " 'AMC',\n",
              " 'TZP',\n",
              " 'CXM',\n",
              " 'CET',\n",
              " 'GEN',\n",
              " 'TBM',\n",
              " 'TMP',\n",
              " 'CIP']"
            ]
          },
          "metadata": {},
          "execution_count": 5
        }
      ]
    },
    {
      "cell_type": "markdown",
      "source": [
        "**a) Creating a function to scan the best metrics for each drug**"
      ],
      "metadata": {
        "id": "sAL7amSTca_8"
      }
    },
    {
      "cell_type": "code",
      "source": [
        "# creating function that will take the best scores from each model\n",
        "def Best_metrics(model,df):\n",
        "  print(\"Selecting Best Scores for model: \",model)\n",
        "  bestcores_dic = {}\n",
        "  for drug in drug_list:\n",
        "    data = df.loc[df[\"Drug_combo\"].str.startswith(drug)]\n",
        "    max_acc = max(data[\"Accuracy\"])\n",
        "    drug_combo = data[\"Drug_combo\"][data[\"Accuracy\"] == max_acc].unique()[0]\n",
        "    S_rec = float(data[data[\"Drug_combo\"] == drug_combo][\"S_recall\"])\n",
        "    R_rec = float(data[data[\"Drug_combo\"] == drug_combo][\"R_recall\"])\n",
        "    bestcores_dic[drug_combo] = [max_acc, R_rec, S_rec]\n",
        "  bestscores_df = pd.DataFrame.from_dict(bestcores_dic, orient ='index',columns=[\"Accuracy\", \"R_recall\", \"S_recall\"]).reset_index()\n",
        "  bestscores_df = bestscores_df.rename(columns = {'index':'Drug_combo'})\n",
        "  return bestscores_df"
      ],
      "metadata": {
        "id": "5nca1_fT4_mx"
      },
      "execution_count": null,
      "outputs": []
    },
    {
      "cell_type": "markdown",
      "source": [
        "**b) Using the function for the results from our Logistic Regression model.**"
      ],
      "metadata": {
        "id": "AOou1ru7cyMC"
      }
    },
    {
      "cell_type": "code",
      "source": [
        "# Implementation of function Best_metrics() example with Logistic Regression scores\n",
        "LG_best_metrics = Best_metrics(\"Logistic_Regression\", Model_Scores[\"Logistic_Regression\"])\n",
        "LG_best_metrics"
      ],
      "metadata": {
        "colab": {
          "base_uri": "https://localhost:8080/",
          "height": 443
        },
        "id": "8xa0BRcSNW4s",
        "outputId": "64f822f0-cfa6-460a-8f6c-fc9baa783702"
      },
      "execution_count": null,
      "outputs": [
        {
          "output_type": "stream",
          "name": "stdout",
          "text": [
            "Selecting Best Scores for model:  Logistic_Regression\n"
          ]
        },
        {
          "output_type": "execute_result",
          "data": {
            "text/plain": [
              "   Drug_combo  Accuracy  R_recall  S_recall\n",
              "0       CTZ_G  0.935837  0.662921  0.980000\n",
              "1      CTX_GY  0.969055  0.868852  0.993902\n",
              "2       AMP_G  0.823741  0.913043  0.563380\n",
              "3      AMX_GY  0.875691  0.879464  0.869565\n",
              "4      AMC_GY  0.780180  0.582353  0.867532\n",
              "5       TZP_G  0.931408  0.090909  0.984645\n",
              "6      CXM_GY  0.876369  0.659218  0.960870\n",
              "7       CET_G  0.852518  0.817391  0.877301\n",
              "8       GEN_G  0.938967  0.696970  0.983333\n",
              "9       TBM_G  0.848921  0.674157  0.931217\n",
              "10      TMP_G  0.870504  0.857143  0.880503\n",
              "11      CIP_G  0.949922  0.842466  0.981744"
            ],
            "text/html": [
              "\n",
              "  <div id=\"df-15422a60-7f80-4b9f-b38c-cfa57e9d4c5a\">\n",
              "    <div class=\"colab-df-container\">\n",
              "      <div>\n",
              "<style scoped>\n",
              "    .dataframe tbody tr th:only-of-type {\n",
              "        vertical-align: middle;\n",
              "    }\n",
              "\n",
              "    .dataframe tbody tr th {\n",
              "        vertical-align: top;\n",
              "    }\n",
              "\n",
              "    .dataframe thead th {\n",
              "        text-align: right;\n",
              "    }\n",
              "</style>\n",
              "<table border=\"1\" class=\"dataframe\">\n",
              "  <thead>\n",
              "    <tr style=\"text-align: right;\">\n",
              "      <th></th>\n",
              "      <th>Drug_combo</th>\n",
              "      <th>Accuracy</th>\n",
              "      <th>R_recall</th>\n",
              "      <th>S_recall</th>\n",
              "    </tr>\n",
              "  </thead>\n",
              "  <tbody>\n",
              "    <tr>\n",
              "      <th>0</th>\n",
              "      <td>CTZ_G</td>\n",
              "      <td>0.935837</td>\n",
              "      <td>0.662921</td>\n",
              "      <td>0.980000</td>\n",
              "    </tr>\n",
              "    <tr>\n",
              "      <th>1</th>\n",
              "      <td>CTX_GY</td>\n",
              "      <td>0.969055</td>\n",
              "      <td>0.868852</td>\n",
              "      <td>0.993902</td>\n",
              "    </tr>\n",
              "    <tr>\n",
              "      <th>2</th>\n",
              "      <td>AMP_G</td>\n",
              "      <td>0.823741</td>\n",
              "      <td>0.913043</td>\n",
              "      <td>0.563380</td>\n",
              "    </tr>\n",
              "    <tr>\n",
              "      <th>3</th>\n",
              "      <td>AMX_GY</td>\n",
              "      <td>0.875691</td>\n",
              "      <td>0.879464</td>\n",
              "      <td>0.869565</td>\n",
              "    </tr>\n",
              "    <tr>\n",
              "      <th>4</th>\n",
              "      <td>AMC_GY</td>\n",
              "      <td>0.780180</td>\n",
              "      <td>0.582353</td>\n",
              "      <td>0.867532</td>\n",
              "    </tr>\n",
              "    <tr>\n",
              "      <th>5</th>\n",
              "      <td>TZP_G</td>\n",
              "      <td>0.931408</td>\n",
              "      <td>0.090909</td>\n",
              "      <td>0.984645</td>\n",
              "    </tr>\n",
              "    <tr>\n",
              "      <th>6</th>\n",
              "      <td>CXM_GY</td>\n",
              "      <td>0.876369</td>\n",
              "      <td>0.659218</td>\n",
              "      <td>0.960870</td>\n",
              "    </tr>\n",
              "    <tr>\n",
              "      <th>7</th>\n",
              "      <td>CET_G</td>\n",
              "      <td>0.852518</td>\n",
              "      <td>0.817391</td>\n",
              "      <td>0.877301</td>\n",
              "    </tr>\n",
              "    <tr>\n",
              "      <th>8</th>\n",
              "      <td>GEN_G</td>\n",
              "      <td>0.938967</td>\n",
              "      <td>0.696970</td>\n",
              "      <td>0.983333</td>\n",
              "    </tr>\n",
              "    <tr>\n",
              "      <th>9</th>\n",
              "      <td>TBM_G</td>\n",
              "      <td>0.848921</td>\n",
              "      <td>0.674157</td>\n",
              "      <td>0.931217</td>\n",
              "    </tr>\n",
              "    <tr>\n",
              "      <th>10</th>\n",
              "      <td>TMP_G</td>\n",
              "      <td>0.870504</td>\n",
              "      <td>0.857143</td>\n",
              "      <td>0.880503</td>\n",
              "    </tr>\n",
              "    <tr>\n",
              "      <th>11</th>\n",
              "      <td>CIP_G</td>\n",
              "      <td>0.949922</td>\n",
              "      <td>0.842466</td>\n",
              "      <td>0.981744</td>\n",
              "    </tr>\n",
              "  </tbody>\n",
              "</table>\n",
              "</div>\n",
              "      <button class=\"colab-df-convert\" onclick=\"convertToInteractive('df-15422a60-7f80-4b9f-b38c-cfa57e9d4c5a')\"\n",
              "              title=\"Convert this dataframe to an interactive table.\"\n",
              "              style=\"display:none;\">\n",
              "        \n",
              "  <svg xmlns=\"http://www.w3.org/2000/svg\" height=\"24px\"viewBox=\"0 0 24 24\"\n",
              "       width=\"24px\">\n",
              "    <path d=\"M0 0h24v24H0V0z\" fill=\"none\"/>\n",
              "    <path d=\"M18.56 5.44l.94 2.06.94-2.06 2.06-.94-2.06-.94-.94-2.06-.94 2.06-2.06.94zm-11 1L8.5 8.5l.94-2.06 2.06-.94-2.06-.94L8.5 2.5l-.94 2.06-2.06.94zm10 10l.94 2.06.94-2.06 2.06-.94-2.06-.94-.94-2.06-.94 2.06-2.06.94z\"/><path d=\"M17.41 7.96l-1.37-1.37c-.4-.4-.92-.59-1.43-.59-.52 0-1.04.2-1.43.59L10.3 9.45l-7.72 7.72c-.78.78-.78 2.05 0 2.83L4 21.41c.39.39.9.59 1.41.59.51 0 1.02-.2 1.41-.59l7.78-7.78 2.81-2.81c.8-.78.8-2.07 0-2.86zM5.41 20L4 18.59l7.72-7.72 1.47 1.35L5.41 20z\"/>\n",
              "  </svg>\n",
              "      </button>\n",
              "      \n",
              "  <style>\n",
              "    .colab-df-container {\n",
              "      display:flex;\n",
              "      flex-wrap:wrap;\n",
              "      gap: 12px;\n",
              "    }\n",
              "\n",
              "    .colab-df-convert {\n",
              "      background-color: #E8F0FE;\n",
              "      border: none;\n",
              "      border-radius: 50%;\n",
              "      cursor: pointer;\n",
              "      display: none;\n",
              "      fill: #1967D2;\n",
              "      height: 32px;\n",
              "      padding: 0 0 0 0;\n",
              "      width: 32px;\n",
              "    }\n",
              "\n",
              "    .colab-df-convert:hover {\n",
              "      background-color: #E2EBFA;\n",
              "      box-shadow: 0px 1px 2px rgba(60, 64, 67, 0.3), 0px 1px 3px 1px rgba(60, 64, 67, 0.15);\n",
              "      fill: #174EA6;\n",
              "    }\n",
              "\n",
              "    [theme=dark] .colab-df-convert {\n",
              "      background-color: #3B4455;\n",
              "      fill: #D2E3FC;\n",
              "    }\n",
              "\n",
              "    [theme=dark] .colab-df-convert:hover {\n",
              "      background-color: #434B5C;\n",
              "      box-shadow: 0px 1px 3px 1px rgba(0, 0, 0, 0.15);\n",
              "      filter: drop-shadow(0px 1px 2px rgba(0, 0, 0, 0.3));\n",
              "      fill: #FFFFFF;\n",
              "    }\n",
              "  </style>\n",
              "\n",
              "      <script>\n",
              "        const buttonEl =\n",
              "          document.querySelector('#df-15422a60-7f80-4b9f-b38c-cfa57e9d4c5a button.colab-df-convert');\n",
              "        buttonEl.style.display =\n",
              "          google.colab.kernel.accessAllowed ? 'block' : 'none';\n",
              "\n",
              "        async function convertToInteractive(key) {\n",
              "          const element = document.querySelector('#df-15422a60-7f80-4b9f-b38c-cfa57e9d4c5a');\n",
              "          const dataTable =\n",
              "            await google.colab.kernel.invokeFunction('convertToInteractive',\n",
              "                                                     [key], {});\n",
              "          if (!dataTable) return;\n",
              "\n",
              "          const docLinkHtml = 'Like what you see? Visit the ' +\n",
              "            '<a target=\"_blank\" href=https://colab.research.google.com/notebooks/data_table.ipynb>data table notebook</a>'\n",
              "            + ' to learn more about interactive tables.';\n",
              "          element.innerHTML = '';\n",
              "          dataTable['output_type'] = 'display_data';\n",
              "          await google.colab.output.renderOutput(dataTable, element);\n",
              "          const docLink = document.createElement('div');\n",
              "          docLink.innerHTML = docLinkHtml;\n",
              "          element.appendChild(docLink);\n",
              "        }\n",
              "      </script>\n",
              "    </div>\n",
              "  </div>\n",
              "  "
            ]
          },
          "metadata": {},
          "execution_count": 12
        }
      ]
    },
    {
      "cell_type": "markdown",
      "source": [
        "## **Step 4) Converting combo strings into separate columns**\n",
        "\n",
        "Combo strings for **years of isolation (Y), gene absence/presence (G) and the population structure (S)** data (features).\n",
        "\n",
        "The function below will allow us to plot the squares below our bar graphs so that we can tell which feature combinations were used."
      ],
      "metadata": {
        "id": "wfVa_Cb68iKn"
      }
    },
    {
      "cell_type": "code",
      "source": [
        "# Creating a function that takes the combo strings from Drug_combo column and turns them into separate columns\n",
        "def make_GYS(bestscores_df):\n",
        "  # Create 3 new columns one for each type of features (Year of isolation, gene absence or presence, and population structure)\n",
        "  bestscores_df[\"G\"] = \" \"\n",
        "  bestscores_df[\"Y\"] = \" \"\n",
        "  bestscores_df[\"S\"] = \" \"\n",
        "  \n",
        "  # Read the combo part of Drug_combo\n",
        "  split_c = bestscores_df[\"Drug_combo\"].str.split(\"_\", expand=True)\n",
        "  i=0\n",
        "  while i < len(split_c[1]):\n",
        "    split_each_c = [x for x in split_c[1][i]]\n",
        "    for g in split_each_c:\n",
        "      if \"G\" in split_each_c:\n",
        "        bestscores_df.at[i,\"G\"] = 1\n",
        "      else:\n",
        "        bestscores_df.at[i,\"G\"] = 0\n",
        "    for y in split_each_c:\n",
        "      if \"Y\" in split_each_c:\n",
        "        bestscores_df.at[i,\"Y\"] = 1\n",
        "      else:\n",
        "        bestscores_df.at[i,\"Y\"] = 0\n",
        "    for s in split_each_c:\n",
        "      if \"S\" in split_each_c:\n",
        "        bestscores_df.at[i,\"S\"] = 1\n",
        "      else:\n",
        "        bestscores_df.at[i,\"S\"] = 0\n",
        "    i += 1\n",
        "  bestscores_df[\"Drug_combo\"] = bestscores_df[\"Drug_combo\"].map(lambda x: x.rstrip('_GYS'))\n",
        "  bestscores_df.rename(columns={\"Drug_combo\": \"Drug\"}, inplace = True) \n",
        "\n",
        "  return bestscores_df"
      ],
      "metadata": {
        "id": "lwkHfYt6l4Va"
      },
      "execution_count": null,
      "outputs": []
    },
    {
      "cell_type": "markdown",
      "source": [
        "Below is an implementation of the function we just created, using our Logistic Regression results."
      ],
      "metadata": {
        "id": "wIKcVZSld41A"
      }
    },
    {
      "cell_type": "code",
      "source": [
        "# Implementing function make_GYS()\n",
        "GYS_LG_best_metrics = make_GYS(LG_best_metrics)\n",
        "GYS_LG_best_metrics"
      ],
      "metadata": {
        "id": "IlWaoH1vT8ih",
        "colab": {
          "base_uri": "https://localhost:8080/",
          "height": 425
        },
        "outputId": "7c355edc-edec-46db-ca83-97f938628b97"
      },
      "execution_count": null,
      "outputs": [
        {
          "output_type": "execute_result",
          "data": {
            "text/plain": [
              "   Drug  Accuracy  R_recall  S_recall  G  Y  S\n",
              "0   CTZ  0.935837  0.662921  0.980000  1  0  0\n",
              "1   CTX  0.969055  0.868852  0.993902  1  1  0\n",
              "2   AMP  0.823741  0.913043  0.563380  1  0  0\n",
              "3   AMX  0.875691  0.879464  0.869565  1  1  0\n",
              "4   AMC  0.780180  0.582353  0.867532  1  1  0\n",
              "5   TZP  0.931408  0.090909  0.984645  1  0  0\n",
              "6   CXM  0.876369  0.659218  0.960870  1  1  0\n",
              "7   CET  0.852518  0.817391  0.877301  1  0  0\n",
              "8   GEN  0.938967  0.696970  0.983333  1  0  0\n",
              "9   TBM  0.848921  0.674157  0.931217  1  0  0\n",
              "10  TMP  0.870504  0.857143  0.880503  1  0  0\n",
              "11  CIP  0.949922  0.842466  0.981744  1  0  0"
            ],
            "text/html": [
              "\n",
              "  <div id=\"df-95ace96e-fdad-4bf8-a478-830f8857f4af\">\n",
              "    <div class=\"colab-df-container\">\n",
              "      <div>\n",
              "<style scoped>\n",
              "    .dataframe tbody tr th:only-of-type {\n",
              "        vertical-align: middle;\n",
              "    }\n",
              "\n",
              "    .dataframe tbody tr th {\n",
              "        vertical-align: top;\n",
              "    }\n",
              "\n",
              "    .dataframe thead th {\n",
              "        text-align: right;\n",
              "    }\n",
              "</style>\n",
              "<table border=\"1\" class=\"dataframe\">\n",
              "  <thead>\n",
              "    <tr style=\"text-align: right;\">\n",
              "      <th></th>\n",
              "      <th>Drug</th>\n",
              "      <th>Accuracy</th>\n",
              "      <th>R_recall</th>\n",
              "      <th>S_recall</th>\n",
              "      <th>G</th>\n",
              "      <th>Y</th>\n",
              "      <th>S</th>\n",
              "    </tr>\n",
              "  </thead>\n",
              "  <tbody>\n",
              "    <tr>\n",
              "      <th>0</th>\n",
              "      <td>CTZ</td>\n",
              "      <td>0.935837</td>\n",
              "      <td>0.662921</td>\n",
              "      <td>0.980000</td>\n",
              "      <td>1</td>\n",
              "      <td>0</td>\n",
              "      <td>0</td>\n",
              "    </tr>\n",
              "    <tr>\n",
              "      <th>1</th>\n",
              "      <td>CTX</td>\n",
              "      <td>0.969055</td>\n",
              "      <td>0.868852</td>\n",
              "      <td>0.993902</td>\n",
              "      <td>1</td>\n",
              "      <td>1</td>\n",
              "      <td>0</td>\n",
              "    </tr>\n",
              "    <tr>\n",
              "      <th>2</th>\n",
              "      <td>AMP</td>\n",
              "      <td>0.823741</td>\n",
              "      <td>0.913043</td>\n",
              "      <td>0.563380</td>\n",
              "      <td>1</td>\n",
              "      <td>0</td>\n",
              "      <td>0</td>\n",
              "    </tr>\n",
              "    <tr>\n",
              "      <th>3</th>\n",
              "      <td>AMX</td>\n",
              "      <td>0.875691</td>\n",
              "      <td>0.879464</td>\n",
              "      <td>0.869565</td>\n",
              "      <td>1</td>\n",
              "      <td>1</td>\n",
              "      <td>0</td>\n",
              "    </tr>\n",
              "    <tr>\n",
              "      <th>4</th>\n",
              "      <td>AMC</td>\n",
              "      <td>0.780180</td>\n",
              "      <td>0.582353</td>\n",
              "      <td>0.867532</td>\n",
              "      <td>1</td>\n",
              "      <td>1</td>\n",
              "      <td>0</td>\n",
              "    </tr>\n",
              "    <tr>\n",
              "      <th>5</th>\n",
              "      <td>TZP</td>\n",
              "      <td>0.931408</td>\n",
              "      <td>0.090909</td>\n",
              "      <td>0.984645</td>\n",
              "      <td>1</td>\n",
              "      <td>0</td>\n",
              "      <td>0</td>\n",
              "    </tr>\n",
              "    <tr>\n",
              "      <th>6</th>\n",
              "      <td>CXM</td>\n",
              "      <td>0.876369</td>\n",
              "      <td>0.659218</td>\n",
              "      <td>0.960870</td>\n",
              "      <td>1</td>\n",
              "      <td>1</td>\n",
              "      <td>0</td>\n",
              "    </tr>\n",
              "    <tr>\n",
              "      <th>7</th>\n",
              "      <td>CET</td>\n",
              "      <td>0.852518</td>\n",
              "      <td>0.817391</td>\n",
              "      <td>0.877301</td>\n",
              "      <td>1</td>\n",
              "      <td>0</td>\n",
              "      <td>0</td>\n",
              "    </tr>\n",
              "    <tr>\n",
              "      <th>8</th>\n",
              "      <td>GEN</td>\n",
              "      <td>0.938967</td>\n",
              "      <td>0.696970</td>\n",
              "      <td>0.983333</td>\n",
              "      <td>1</td>\n",
              "      <td>0</td>\n",
              "      <td>0</td>\n",
              "    </tr>\n",
              "    <tr>\n",
              "      <th>9</th>\n",
              "      <td>TBM</td>\n",
              "      <td>0.848921</td>\n",
              "      <td>0.674157</td>\n",
              "      <td>0.931217</td>\n",
              "      <td>1</td>\n",
              "      <td>0</td>\n",
              "      <td>0</td>\n",
              "    </tr>\n",
              "    <tr>\n",
              "      <th>10</th>\n",
              "      <td>TMP</td>\n",
              "      <td>0.870504</td>\n",
              "      <td>0.857143</td>\n",
              "      <td>0.880503</td>\n",
              "      <td>1</td>\n",
              "      <td>0</td>\n",
              "      <td>0</td>\n",
              "    </tr>\n",
              "    <tr>\n",
              "      <th>11</th>\n",
              "      <td>CIP</td>\n",
              "      <td>0.949922</td>\n",
              "      <td>0.842466</td>\n",
              "      <td>0.981744</td>\n",
              "      <td>1</td>\n",
              "      <td>0</td>\n",
              "      <td>0</td>\n",
              "    </tr>\n",
              "  </tbody>\n",
              "</table>\n",
              "</div>\n",
              "      <button class=\"colab-df-convert\" onclick=\"convertToInteractive('df-95ace96e-fdad-4bf8-a478-830f8857f4af')\"\n",
              "              title=\"Convert this dataframe to an interactive table.\"\n",
              "              style=\"display:none;\">\n",
              "        \n",
              "  <svg xmlns=\"http://www.w3.org/2000/svg\" height=\"24px\"viewBox=\"0 0 24 24\"\n",
              "       width=\"24px\">\n",
              "    <path d=\"M0 0h24v24H0V0z\" fill=\"none\"/>\n",
              "    <path d=\"M18.56 5.44l.94 2.06.94-2.06 2.06-.94-2.06-.94-.94-2.06-.94 2.06-2.06.94zm-11 1L8.5 8.5l.94-2.06 2.06-.94-2.06-.94L8.5 2.5l-.94 2.06-2.06.94zm10 10l.94 2.06.94-2.06 2.06-.94-2.06-.94-.94-2.06-.94 2.06-2.06.94z\"/><path d=\"M17.41 7.96l-1.37-1.37c-.4-.4-.92-.59-1.43-.59-.52 0-1.04.2-1.43.59L10.3 9.45l-7.72 7.72c-.78.78-.78 2.05 0 2.83L4 21.41c.39.39.9.59 1.41.59.51 0 1.02-.2 1.41-.59l7.78-7.78 2.81-2.81c.8-.78.8-2.07 0-2.86zM5.41 20L4 18.59l7.72-7.72 1.47 1.35L5.41 20z\"/>\n",
              "  </svg>\n",
              "      </button>\n",
              "      \n",
              "  <style>\n",
              "    .colab-df-container {\n",
              "      display:flex;\n",
              "      flex-wrap:wrap;\n",
              "      gap: 12px;\n",
              "    }\n",
              "\n",
              "    .colab-df-convert {\n",
              "      background-color: #E8F0FE;\n",
              "      border: none;\n",
              "      border-radius: 50%;\n",
              "      cursor: pointer;\n",
              "      display: none;\n",
              "      fill: #1967D2;\n",
              "      height: 32px;\n",
              "      padding: 0 0 0 0;\n",
              "      width: 32px;\n",
              "    }\n",
              "\n",
              "    .colab-df-convert:hover {\n",
              "      background-color: #E2EBFA;\n",
              "      box-shadow: 0px 1px 2px rgba(60, 64, 67, 0.3), 0px 1px 3px 1px rgba(60, 64, 67, 0.15);\n",
              "      fill: #174EA6;\n",
              "    }\n",
              "\n",
              "    [theme=dark] .colab-df-convert {\n",
              "      background-color: #3B4455;\n",
              "      fill: #D2E3FC;\n",
              "    }\n",
              "\n",
              "    [theme=dark] .colab-df-convert:hover {\n",
              "      background-color: #434B5C;\n",
              "      box-shadow: 0px 1px 3px 1px rgba(0, 0, 0, 0.15);\n",
              "      filter: drop-shadow(0px 1px 2px rgba(0, 0, 0, 0.3));\n",
              "      fill: #FFFFFF;\n",
              "    }\n",
              "  </style>\n",
              "\n",
              "      <script>\n",
              "        const buttonEl =\n",
              "          document.querySelector('#df-95ace96e-fdad-4bf8-a478-830f8857f4af button.colab-df-convert');\n",
              "        buttonEl.style.display =\n",
              "          google.colab.kernel.accessAllowed ? 'block' : 'none';\n",
              "\n",
              "        async function convertToInteractive(key) {\n",
              "          const element = document.querySelector('#df-95ace96e-fdad-4bf8-a478-830f8857f4af');\n",
              "          const dataTable =\n",
              "            await google.colab.kernel.invokeFunction('convertToInteractive',\n",
              "                                                     [key], {});\n",
              "          if (!dataTable) return;\n",
              "\n",
              "          const docLinkHtml = 'Like what you see? Visit the ' +\n",
              "            '<a target=\"_blank\" href=https://colab.research.google.com/notebooks/data_table.ipynb>data table notebook</a>'\n",
              "            + ' to learn more about interactive tables.';\n",
              "          element.innerHTML = '';\n",
              "          dataTable['output_type'] = 'display_data';\n",
              "          await google.colab.output.renderOutput(dataTable, element);\n",
              "          const docLink = document.createElement('div');\n",
              "          docLink.innerHTML = docLinkHtml;\n",
              "          element.appendChild(docLink);\n",
              "        }\n",
              "      </script>\n",
              "    </div>\n",
              "  </div>\n",
              "  "
            ]
          },
          "metadata": {},
          "execution_count": 14
        }
      ]
    },
    {
      "cell_type": "markdown",
      "source": [
        "## **Step 5) Extracting best metrics and coding for GYS into columns for all models**\n",
        "\n",
        "We have 3 models so the code below will implement the function we created in the previous step for all 3 models results."
      ],
      "metadata": {
        "id": "GmFOU3Mfw6Ax"
      }
    },
    {
      "cell_type": "code",
      "source": [
        "# Getting the best metrics for all the models\n",
        "Best_metrics_models = {}\n",
        "for model, df in Model_Scores.items():\n",
        "  # select the best scores obtained from each model\n",
        "  Model_best_metrics = Best_metrics(model, df) \n",
        "\n",
        "  # Code GYS data in 0 \"for absence\" and 1 \"for presence\" into 3 columns\n",
        "  GYS_coded_best = make_GYS(Model_best_metrics)\n",
        "  print(GYS_coded_best)\n",
        "\n",
        "  # Save new dataframe in a dictionary with best metrics selected\n",
        "  Best_metrics_models[model] = GYS_coded_best\n"
      ],
      "metadata": {
        "colab": {
          "base_uri": "https://localhost:8080/"
        },
        "id": "DfmpOZNPryWw",
        "outputId": "81853a52-9d96-4e64-ee9c-8f61ff2b682b"
      },
      "execution_count": null,
      "outputs": [
        {
          "output_type": "stream",
          "name": "stdout",
          "text": [
            "Selecting Best Scores for model:  Logistic_Regression\n",
            "   Drug  Accuracy  R_recall  S_recall  G  Y  S\n",
            "0   CTZ  0.935837  0.662921  0.980000  1  0  0\n",
            "1   CTX  0.969055  0.868852  0.993902  1  1  0\n",
            "2   AMP  0.823741  0.913043  0.563380  1  0  0\n",
            "3   AMX  0.875691  0.879464  0.869565  1  1  0\n",
            "4   AMC  0.780180  0.582353  0.867532  1  1  0\n",
            "5   TZP  0.931408  0.090909  0.984645  1  0  0\n",
            "6   CXM  0.876369  0.659218  0.960870  1  1  0\n",
            "7   CET  0.852518  0.817391  0.877301  1  0  0\n",
            "8   GEN  0.938967  0.696970  0.983333  1  0  0\n",
            "9   TBM  0.848921  0.674157  0.931217  1  0  0\n",
            "10  TMP  0.870504  0.857143  0.880503  1  0  0\n",
            "11  CIP  0.949922  0.842466  0.981744  1  0  0\n",
            "Selecting Best Scores for model:  Random_Forest\n",
            "   Drug  Accuracy  R_recall  S_recall  G  Y  S\n",
            "0   CTZ  0.917058  0.505618  0.983636  1  0  1\n",
            "1   CTX  0.960912  0.852459  0.987805  1  0  0\n",
            "2   AMP  0.816547  0.937198  0.464789  1  1  0\n",
            "3   AMX  0.784530  0.879464  0.630435  1  1  0\n",
            "4   AMC  0.778378  0.464706  0.916883  1  0  0\n",
            "5   TZP  0.944043  0.060606  1.000000  1  0  1\n",
            "6   CXM  0.868545  0.642458  0.956522  1  0  1\n",
            "7   CET  0.866906  0.800000  0.914110  1  1  1\n",
            "8   GEN  0.932707  0.616162  0.990741  1  1  0\n",
            "9   TBM  0.870504  0.707865  0.947090  1  0  0\n",
            "10  TMP  0.859712  0.848739  0.867925  1  1  0\n",
            "11  CIP  0.949922  0.808219  0.991886  1  0  0\n",
            "Selecting Best Scores for model:  Gradient_Boosted_Trees\n",
            "   Drug  Accuracy  R_recall  S_recall  G  Y  S\n",
            "0   CTZ  0.954617  0.741573  0.989091  1  0  0\n",
            "1   CTX  0.980456  0.926230  0.993902  1  1  0\n",
            "2   AMP  0.917266  0.951691  0.816901  1  0  1\n",
            "3   AMX  0.897790  0.897321  0.898551  1  1  0\n",
            "4   AMC  0.796396  0.582353  0.890909  1  1  1\n",
            "5   TZP  0.938628  0.060606  0.994242  1  1  1\n",
            "6   CXM  0.887324  0.659218  0.976087  1  1  0\n",
            "7   CET  0.917266  0.878261  0.944785  1  0  1\n",
            "8   GEN  0.967136  0.808081  0.996296  1  0  1\n",
            "9   TBM  0.924460  0.831461  0.968254  1  1  1\n",
            "10  TMP  0.935252  0.932773  0.937107  1  0  0\n",
            "11  CIP  0.957746  0.863014  0.985801  1  1  0\n"
          ]
        }
      ]
    },
    {
      "cell_type": "markdown",
      "source": [
        "## **Step 6) Creating a function to plots bar charts for each metric**\n",
        "The function we create below will allow us to graph the bar charts for each of our antibiotic drugs."
      ],
      "metadata": {
        "id": "DHN5qX9420VL"
      }
    },
    {
      "cell_type": "code",
      "source": [
        "def barplot(metric_col, subplot_axis, label_show = True):\n",
        "  for model, df in Best_metrics_models.items():\n",
        "    X_axis = np.arange(len(drug_list))\n",
        "    X_labels = drug_list\n",
        "\n",
        "    Y_axis = np.arange(0,1.2,0.2)\n",
        "\n",
        "    subplot_axis.set_ylabel(metric_col, fontsize = 14)\n",
        "    subplot_axis.set_ylim(bottom=0, top=1)\n",
        "\n",
        "    subplot_axis.set_xticklabels(X_labels, fontsize = 15)\n",
        "    subplot_axis.set_xticks(X_axis)\n",
        "    subplot_axis.margins(x=0)\n",
        "\n",
        "    if label_show == False:\n",
        "      subplot_axis.tick_params(left = True, right = False , labelleft = True , labelbottom = False, bottom = True)\n",
        "\n",
        "    if model == \"Logistic_Regression\":\n",
        "      X_axis = X_axis - 0.2\n",
        "      color = \"plum\"\n",
        "      label = \"LG\"\n",
        "      subplot_axis.bar(X_axis, list(df[metric_col]), width =.25, align = 'center', color = color, label = label, edgecolor=\"gray\")\n",
        "    elif model == \"Random_Forest\":\n",
        "      X_axis = X_axis + 0.075\n",
        "      color = \"cadetblue\"\n",
        "      label = \"RF\"\n",
        "      subplot_axis.bar(X_axis, list(df[metric_col]), width =.25, align = 'center', color = color, label = label, edgecolor=\"gray\")\n",
        "    elif model == \"Gradient_Boosted_Trees\":\n",
        "      X_axis = X_axis + 0.35\n",
        "      color = \"goldenrod\"\n",
        "      label = \"GB\"\n",
        "      subplot_axis.bar(X_axis, list(df[metric_col]), width =.25, align = 'center', color = color, label = label, edgecolor=\"gray\")\n",
        "  return\n",
        "       "
      ],
      "metadata": {
        "id": "PI7lzr7c4WMD"
      },
      "execution_count": null,
      "outputs": []
    },
    {
      "cell_type": "markdown",
      "source": [
        "Below we implement this function for the best results obtained in our Logistic Regression Model. In this case we will be plotting the \"Accuracy\""
      ],
      "metadata": {
        "id": "bJmpkOPbg8DY"
      }
    },
    {
      "cell_type": "code",
      "source": [
        "# implementing function barplot() for one metric \"Accuracy\"\n",
        "figure, subs = plt.subplots(1, 1,figsize = (12,9))\n",
        "acc_plot = barplot(\"Accuracy\",subs,label_show=True)"
      ],
      "metadata": {
        "colab": {
          "base_uri": "https://localhost:8080/",
          "height": 800
        },
        "id": "m_KHDt9HLpWj",
        "outputId": "010c2043-aced-4c1f-af26-3ed3e546aecc"
      },
      "execution_count": null,
      "outputs": [
        {
          "output_type": "stream",
          "name": "stderr",
          "text": [
            "<ipython-input-112-d9497b1d36e3>:11: UserWarning: FixedFormatter should only be used together with FixedLocator\n",
            "  subplot_axis.set_xticklabels(X_labels, fontsize = 15)\n"
          ]
        },
        {
          "output_type": "display_data",
          "data": {
            "text/plain": [
              "<Figure size 1200x900 with 1 Axes>"
            ],
            "image/png": "[encoded data removed]"
          },
          "metadata": {}
        }
      ]
    },
    {
      "cell_type": "markdown",
      "source": [
        "## **Task 1**:\n",
        "- Create bar charts using the function above for the best Resistance (R) recall scores.  "
      ],
      "metadata": {
        "id": "NJ3vQZJPhZ3s"
      }
    },
    {
      "cell_type": "code",
      "source": [
        "# Input your code for task 1 in this cell!"
      ],
      "metadata": {
        "id": "v9QvvwLJObg0"
      },
      "execution_count": null,
      "outputs": []
    },
    {
      "cell_type": "markdown",
      "source": [
        "## **Step 7) Creating a function to plot GYS grids for each drug**\n",
        "The function below will let us introduce the graphics below each drug, to show us what is the best combination of features."
      ],
      "metadata": {
        "id": "2u7tQmwslrC_"
      }
    },
    {
      "cell_type": "code",
      "source": [
        "# function that creates a graph for each of the drugs\n",
        "def GYS_gridplot(drug,subplot_axis, label_show = True, title_pos = -0.2):\n",
        "  # Create 3 new lists one for each type of features (Year, Population structure and Gene presence)\n",
        "  Y_list = [] # storing whether it used or not year data\n",
        "  S_list = [] # storing whether it used or not population structure data\n",
        "  G_list = [] # storing whether it used or not accessory gene data\n",
        "  \n",
        "  # Fill up corresponding lists from drug results from each model\n",
        "  for model, df in Best_metrics_models.items():\n",
        "    for drug_name in df[\"Drug\"]:\n",
        "      if drug_name == drug:\n",
        "        Y_list.append(int(df[\"Y\"][df[\"Drug\"]==drug]))\n",
        "        S_list.append(int(df[\"S\"][df[\"Drug\"]==drug]))\n",
        "        G_list.append(int(df[\"G\"][df[\"Drug\"]==drug]))\n",
        "\n",
        "  Drug_GYS_list = [Y_list, S_list, G_list]     \n",
        "  \n",
        "  plt.yticks(np.arange(3), [\"Year\", \"Structure\", \"Accessory Genes\"])\n",
        "  if label_show == False:\n",
        "      subplot_axis.tick_params(left = False, labelleft = False)\n",
        "\n",
        "  orig_map = plt.cm.get_cmap('gray')\n",
        "  reversed_map = orig_map.reversed()\n",
        "  subplot_axis.imshow(Drug_GYS_list, cmap = reversed_map)\n",
        "\n",
        "  subplot_axis.axvline(x=0.5)\n",
        "  subplot_axis.axvline(x=1.5)\n",
        "  subplot_axis.axvline(x=2.5)\n",
        "  subplot_axis.axhline(y=0.5)\n",
        "  subplot_axis.axhline(y=1.5)\n",
        "  subplot_axis.set_title(drug, fontsize= 15, y=title_pos) \n",
        "  subplot_axis.tick_params(\n",
        "    axis = 'x',\n",
        "    which = 'both',\n",
        "    bottom = False,\n",
        "    top = False,\n",
        "    labelbottom = False)\n",
        "  return [Y_list, S_list, G_list]"
      ],
      "metadata": {
        "id": "I3HdYBHIqxcy"
      },
      "execution_count": null,
      "outputs": []
    },
    {
      "cell_type": "markdown",
      "source": [
        "The example implementation below shows us the best results obtained from the drug \"CTZ\" for each of the 3 models. In this case the order would be: **Logistic Regression, Random Forest and Gradient-Boosted Trees**. "
      ],
      "metadata": {
        "id": "Rte5RG0FiAMc"
      }
    },
    {
      "cell_type": "code",
      "source": [
        "# implementing function GYS_gridplot() for one drug \"CTZ\"\n",
        "figure, subs = plt.subplots()\n",
        "CTZ_gridplot = GYS_gridplot(\"CTZ\",subs, label_show=True)"
      ],
      "metadata": {
        "colab": {
          "base_uri": "https://localhost:8080/",
          "height": 531
        },
        "id": "b8X4Vg7Dl8eF",
        "outputId": "735256b4-4537-4c3b-aa94-33ead174c131"
      },
      "execution_count": null,
      "outputs": [
        {
          "output_type": "stream",
          "name": "stderr",
          "text": [
            "<ipython-input-114-ad239a960cb7>:22: MatplotlibDeprecationWarning: The get_cmap function was deprecated in Matplotlib 3.7 and will be removed two minor releases later. Use ``matplotlib.colormaps[name]`` or ``matplotlib.colormaps.get_cmap(obj)`` instead.\n",
            "  orig_map = plt.cm.get_cmap('gray')\n"
          ]
        },
        {
          "output_type": "display_data",
          "data": {
            "text/plain": [
              "<Figure size 640x480 with 1 Axes>"
            ],
            "image/png": "[encoded data removed]"
          },
          "metadata": {}
        }
      ]
    },
    {
      "cell_type": "markdown",
      "source": [
        "## **Step 8) Create the final composite graph (Bargraphs + GYS gridplots)**\n",
        "\n",
        "Below we create our composite plot (bar charts for each measurement + gridplots) for each of the drugs."
      ],
      "metadata": {
        "id": "8y8GnAPHpac1"
      }
    },
    {
      "cell_type": "code",
      "source": [
        "# Code to create bargraphs\n",
        "\n",
        "fig = plt.figure(figsize = (20,15), constrained_layout=False)\n",
        "\n",
        "gs1 = fig.add_gridspec(nrows=4, ncols=12, left=0.05, right=0.6, wspace=0.07)\n",
        "# Accuracy barcharts for all models\n",
        "acc_axis = fig.add_subplot(gs1[0, :])\n",
        "acc_axis.set_title('Prediction of Antibiotic Resistance From Pan-Genome Data', fontsize = 20)\n",
        "acc_plot = barplot(\"Accuracy\",acc_axis, label_show = False)\n",
        "\n",
        "# R_recall barcharts for all models\n",
        "R_rec_axis = fig.add_subplot(gs1[1, :])\n",
        "R_rec_plot = barplot('R_recall',R_rec_axis, label_show = False)\n",
        "\n",
        "# S_recall barcharts for all models\n",
        "S_rec_axis = fig.add_subplot(gs1[2, :])\n",
        "S_rec_plot = barplot('S_recall',S_rec_axis, label_show = False)\n",
        "\n",
        "# GYS gridplot charts for each drug\n",
        "gs2 = fig.add_gridspec(nrows=1, ncols=12, top=0.50,bottom=0,left=0.05, right=0.6, wspace=0.2)\n",
        "i=0\n",
        "while (i< len(drug_list)):\n",
        "  for drug in drug_list:\n",
        "    if i == 0:\n",
        "      Drug_grid = fig.add_subplot(gs2[-1, i])\n",
        "      drug_GYS = GYS_gridplot(drug, Drug_grid, label_show=True, title_pos=-0.5)\n",
        "      i+=1\n",
        "    else:\n",
        "      Drug_grid = fig.add_subplot(gs2[-1, i])\n",
        "      drug_GYS = GYS_gridplot(drug, Drug_grid, label_show=False, title_pos=-0.5)\n",
        "      i+=1\n",
        "\n",
        "legend_elements = [Patch(facecolor='plum', edgecolor='plum', label='LG'),\n",
        "                   Patch(facecolor='cadetblue', edgecolor='cadetblue', label='RF'),\n",
        "                   Patch(facecolor='goldenrod', edgecolor='goldenrod', label='GB'),\n",
        "                   Patch(facecolor='black', edgecolor=\"black\", label='Used'),\n",
        "                   Patch(facecolor='white', edgecolor=\"black\",label='Not Used')]\n",
        "\n",
        "plt.legend(handles=legend_elements,loc = 'lower center', bbox_to_anchor=(-6.1, -1), prop ={'size': 15}, borderaxespad=-2, ncol = len(legend_elements))\n",
        "\n"
      ],
      "metadata": {
        "colab": {
          "base_uri": "https://localhost:8080/",
          "height": 962
        },
        "outputId": "00b68ce0-038e-4455-fff9-2fa765dbfa12",
        "id": "phhRs6WNd77S"
      },
      "execution_count": null,
      "outputs": [
        {
          "output_type": "stream",
          "name": "stderr",
          "text": [
            "<ipython-input-112-d9497b1d36e3>:11: UserWarning: FixedFormatter should only be used together with FixedLocator\n",
            "  subplot_axis.set_xticklabels(X_labels, fontsize = 15)\n",
            "<ipython-input-114-ad239a960cb7>:22: MatplotlibDeprecationWarning: The get_cmap function was deprecated in Matplotlib 3.7 and will be removed two minor releases later. Use ``matplotlib.colormaps[name]`` or ``matplotlib.colormaps.get_cmap(obj)`` instead.\n",
            "  orig_map = plt.cm.get_cmap('gray')\n"
          ]
        },
        {
          "output_type": "execute_result",
          "data": {
            "text/plain": [
              "<matplotlib.legend.Legend at 0x7f0b53134f10>"
            ]
          },
          "metadata": {},
          "execution_count": 127
        },
        {
          "output_type": "display_data",
          "data": {
            "text/plain": [
              "<Figure size 2000x1000 with 15 Axes>"
            ],
            "image/png": "[encoded data removed]"
          },
          "metadata": {}
        }
      ]
    },
    {
      "cell_type": "markdown",
      "source": [
        "## **Task 2**:\n",
        "\n",
        "- Look at the results from our final graph, do you think there might be ways to improve our results? \n",
        "\n",
        "- Consider some of the following: would you use different models? Different hyperparameters? Collect more data? Use different parts of the data? "
      ],
      "metadata": {
        "id": "mROs8SxqsjJy"
      }
    },
    {
      "cell_type": "markdown",
      "source": [
        "**Task 2 answer:**"
      ],
      "metadata": {
        "id": "_5PoigXdqwN1"
      }
    },
    {
      "cell_type": "markdown",
      "source": [
        "# 🙂 Congratulations, you are done with this module! Now you know how to check if a model performs better for a specific dataset you need to work on for your projects."
      ],
      "metadata": {
        "id": "1UsrBTAk5buA"
      }
    }
  ]
}