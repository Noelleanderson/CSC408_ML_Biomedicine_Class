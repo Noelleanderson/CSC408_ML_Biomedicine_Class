{
  "nbformat": 4,
  "nbformat_minor": 0,
  "metadata": {
    "colab": {
      "provenance": [],
      "toc_visible": true,
      "include_colab_link": true
    },
    "kernelspec": {
      "name": "python3",
      "display_name": "Python 3"
    },
    "language_info": {
      "name": "python"
    }
  },
  "cells": [
    {
      "cell_type": "markdown",
      "metadata": {
        "id": "view-in-github",
        "colab_type": "text"
      },
      "source": [
        "<a href=\"https://colab.research.google.com/github/pleunipennings/CSC508_ML_Biomedicine_Class/blob/main/Module7/Module_7a_Logistic_Regression_Antibiotic_resistance_dataset_CSC508.ipynb\" target=\"_parent\"><img src=\"https://colab.research.google.com/assets/colab-badge.svg\" alt=\"Open In Colab\"/></a>"
      ]
    },
    {
      "cell_type": "markdown",
      "metadata": {
        "id": "0jr_YDcEQgNX"
      },
      "source": [
        "##**Welcome to the module 7a coding part: Logistic Regression!**\n",
        "\n",
        "*This notebook was created at San Francisco State University (SFSU) for the Promoting INclusivity and Computing (PINC) and gSTAR programs by Dr. Pleuni Pennings (SFSU biology professor), Lucy Moctezuma Tan (California State University, East Bay CSUEB master student) and Lorena Benitez-Rivera (SFSU master student). All members of the COde to understand Drug resistance Evolution (CODE) lab in 2023.*\n",
        "\n",
        "The code is based on a project by Faye Orcales, Jameel Ali, Meris Johnson-Hagler, Kristiene Recto, Lucy Moctezuma Tan (all CODE lab members at SFSU), and in turn inspired by work by Danesh Moradigaravand and coauthors [Moradivaravand et al.](https://journals.plos.org/ploscompbiol/article?id=10.1371/journal.pcbi.1006258)"
      ]
    },
    {
      "cell_type": "markdown",
      "source": [
        "#OBJECTIVE OF THIS NOTEBOOK:\n",
        "\n",
        "In this notebook we are going to continue using the dataframe we merged in notebook 6a: EColi_Merged_dfs.csv that has the antibiotic resistance features of:\n",
        "\n",
        "*   **Year of isolation (Y)**\n",
        "*   **Gene absence or presence (G)**\n",
        "*   **Population Structure (S)**  \n",
        "\n",
        "The main **goal** is to create a **logistic regression** model to predict **Resistance (R)** and **Susceptibility (S)** for each strain.\n",
        "\n",
        "In this notebook you will learn:\n",
        "\n",
        "- Familiarize with the basics of how logistic regression model works.\n",
        "- Learn how to create functions to implement logistic Regression in our dataset. "
      ],
      "metadata": {
        "id": "Jf3h3xRn03K6"
      }
    },
    {
      "cell_type": "markdown",
      "source": [
        "#WHAT IS LOGISTIC REGRESSION?\n",
        "\n",
        "**Logistic Regression** is a classification model that allows us to predict the probability for a binary outcome (2 classes). Typically it is expected that the threshold for logistic regression is 0.5. In our example, **0.5** means that **above** this probability, the model would predict **Resistant (R)** and **below** this it will predict **Susceptible (S)**. \n",
        "\n",
        "The equation for Logistic Regression is actually derived from Linear Regression, but instead of Y (Response) we have a log of odds: \n",
        "\n",
        "$$ ln(\\frac{P}{1-P}) = \\hat \\beta_0 + \\hat \\beta_jX$$\n",
        "\n",
        "After isolating P, we end up with the equation below:\n",
        "\n",
        "$$P = \\frac{e^{\\hat{\\beta}_{0}+\\hat{\\beta}_{j}X}}{1+e^{\\hat{\\beta}_{0}+\\hat{\\beta}_{j}X}}$$\n",
        "\n",
        "- ***P*** is the probability of an outcome. Therefore **P** is a number between 0 (0%) and 1 (100%). Our threshold would be 50%, for our example: \n",
        "\n",
        "  - If **P < 0.5** our model would predict **Susceptibility (S)** \n",
        "  - If **P > 0.5** our model would predict **Resistance (R)** \n",
        "\n",
        "- **$\\hat \\beta_0$** is the intercept term and $\\hat \\beta_j = [\\beta_1 , \\beta_2 , \\beta_3, ... , \\beta_{18293}]$ all these are the coefficients that our model will try to estimate using our data. There is one coefficient per column feature we are using making 18,293 of them in our example.\n",
        "\n",
        "- $X = [Year \\ of \\ isolation \\ (Y)\\ + Gene \\ absence \\ and \\ presence \\ (G) + Population \\ Structure \\ (S) \\ columns]$ is the matrix of features that is composed of the actual data.\n",
        "\n",
        "We will see each of the parts of this equation as we go along in the notebook, so we can have a better picture of these.\n",
        "\n",
        "More information about Logistic Regression can be found here: [Scikit-learn: Logistic Regression](https://scikit-learn.org/stable/modules/generated/sklearn.linear_model.LogisticRegression.html)\n"
      ],
      "metadata": {
        "id": "4s_KUXfGSthq"
      }
    },
    {
      "cell_type": "markdown",
      "source": [
        "## **Step 1) Importing packages**\n",
        "\n",
        "The code below will allow you to import the packages needed to load and pre-process the data use for our models. \n",
        "\n",
        "**NOTE:** Please allow access to your google drive when prompted, this will let you create and store the files in your drive to be accessed later by subsequent notebooks as we make progress towards getting our final results."
      ],
      "metadata": {
        "id": "fnpxHzYUUJ_M"
      }
    },
    {
      "cell_type": "code",
      "execution_count": null,
      "metadata": {
        "id": "eDa820s0JSoJ",
        "colab": {
          "base_uri": "https://localhost:8080/"
        },
        "outputId": "d69397b5-ac12-4084-bfaa-3bee106a275d"
      },
      "outputs": [
        {
          "output_type": "stream",
          "name": "stdout",
          "text": [
            "Mounted at /content/drive\n"
          ]
        }
      ],
      "source": [
        "# Data manipulation imports for ML\n",
        "import pandas as pd\n",
        "import numpy as np\n",
        "from sklearn.model_selection import train_test_split\n",
        "\n",
        "# Import packages for logistic regression model\n",
        "from sklearn.linear_model import LogisticRegression\n",
        "from sklearn.utils._testing import ignore_warnings\n",
        "from sklearn.exceptions import ConvergenceWarning\n",
        "\n",
        "# Imports for model evaluation \n",
        "from sklearn import metrics\n",
        "from sklearn.metrics import classification_report, confusion_matrix, ConfusionMatrixDisplay\n",
        "\n",
        "# Imports for data visualization\n",
        "import matplotlib.pyplot as plt\n",
        "\n",
        "# Imports for file management\n",
        "import os\n",
        "from google.colab import drive\n",
        "drive.mount('/content/drive')"
      ]
    },
    {
      "cell_type": "markdown",
      "source": [
        "## **Step 2) Loading CSV file and creating dataframes for each antibiotic**\n",
        "\n",
        "Here we will be loading the CSV we created in the previous notebook 6a. This file should contain all out **antibiotic drugs** (labels), all the **years of isolation (Y)**, **gene absence/presence (G)** and the **population structure (S)** data (features)."
      ],
      "metadata": {
        "id": "1MTk8vozVJqi"
      }
    },
    {
      "cell_type": "markdown",
      "source": [
        "#### **a) Loading CSV created from previous 6a notebook**\n",
        "\n",
        "Please make sure that the dataframe you have loaded is correct with the corresponding column names appropiately matched with the data. \n",
        "\n",
        "When we check our dataframe, we can see that there is a total of **1,936 rows** and **18,304 columns** (Isolate number + 12 drug columns + 18,291 columns of features)"
      ],
      "metadata": {
        "id": "QNuEJfKcVSLb"
      }
    },
    {
      "cell_type": "code",
      "source": [
        "# Loads csv file as a dataframe\n",
        "filepath = '/content/drive/My Drive/EColi_ML_CSV_files/'\n",
        "\n",
        "# reads csv file as a dataframe\n",
        "All_Drugs_df = pd.read_csv(filepath+\"EColi_Merged_dfs.csv\", na_values=\"NaN\")\n",
        "All_Drugs_df"
      ],
      "metadata": {
        "id": "psqfFp_yVsmy",
        "colab": {
          "base_uri": "https://localhost:8080/",
          "height": 458
        },
        "outputId": "3826817c-9563-4ba9-817a-f3953076b6cf"
      },
      "execution_count": null,
      "outputs": [
        {
          "output_type": "stream",
          "name": "stderr",
          "text": [
            "<ipython-input-2-c8b505bfe564>:5: DtypeWarning: Columns (4,5,6) have mixed types. Specify dtype option on import or set low_memory=False.\n",
            "  All_Drugs_df = pd.read_csv(filepath+\"EColi_Merged_dfs.csv\", na_values=\"NaN\")\n"
          ]
        },
        {
          "output_type": "execute_result",
          "data": {
            "text/plain": [
              "         Isolate CTZ CTX AMP  AMX  AMC  TZP CXM CET GEN  ... cutoff_25459  \\\n",
              "0     11657_5#10   S   S   S  NaN    S    S   S   S   S  ...            0   \n",
              "1     11657_5#11   S   S   R  NaN    R    S   S   S   S  ...            0   \n",
              "2     11657_5#12   S   S   S  NaN    S    S   S   S   S  ...            0   \n",
              "3     11657_5#13   S   S   R  NaN    R    S   S   S   S  ...            0   \n",
              "4     11657_5#14   S   S   R  NaN    S    S   S   S   S  ...            0   \n",
              "...          ...  ..  ..  ..  ...  ...  ...  ..  ..  ..  ...          ...   \n",
              "1931  24742_1#96   S   S   S  NaN  NaN  NaN   S   S   S  ...            0   \n",
              "1932  24742_1#97   S   S   S  NaN  NaN  NaN   S   S   S  ...            0   \n",
              "1933  24742_1#98   S   S   R  NaN  NaN  NaN   S   S   S  ...            0   \n",
              "1934  24742_1#99   S   S   R  NaN  NaN  NaN   S   S   S  ...            0   \n",
              "1935   24742_1#9   S   S   R  NaN  NaN  NaN   S   S   S  ...            0   \n",
              "\n",
              "     cutoff_25654 cutoff_25772  cutoff_25979  cutoff_26792  cutoff_27119  \\\n",
              "0               0            0             0             0             0   \n",
              "1               0            0             0             0             0   \n",
              "2               0            0             0             0             0   \n",
              "3               0            0             0             0             0   \n",
              "4               0            0             0             0             0   \n",
              "...           ...          ...           ...           ...           ...   \n",
              "1931            0            0             0             0             0   \n",
              "1932            0            0             0             0             0   \n",
              "1933            0            0             0             0             0   \n",
              "1934            0            0             0             0             0   \n",
              "1935            0            0             0             0             0   \n",
              "\n",
              "      cutoff_27236  cutoff_27248  cutoff_27690  cutoff_45092  \n",
              "0                0             0             0             0  \n",
              "1                0             0             0             0  \n",
              "2                0             0             0             0  \n",
              "3                0             0             0             0  \n",
              "4                0             0             0             0  \n",
              "...            ...           ...           ...           ...  \n",
              "1931             0             0             0             0  \n",
              "1932             0             0             0             0  \n",
              "1933             0             0             0             0  \n",
              "1934             0             0             0             0  \n",
              "1935             0             0             0             0  \n",
              "\n",
              "[1936 rows x 18304 columns]"
            ],
            "text/html": [
              "\n",
              "  <div id=\"df-97d9902e-dc85-41de-9174-4093a8e8c5cb\">\n",
              "    <div class=\"colab-df-container\">\n",
              "      <div>\n",
              "<style scoped>\n",
              "    .dataframe tbody tr th:only-of-type {\n",
              "        vertical-align: middle;\n",
              "    }\n",
              "\n",
              "    .dataframe tbody tr th {\n",
              "        vertical-align: top;\n",
              "    }\n",
              "\n",
              "    .dataframe thead th {\n",
              "        text-align: right;\n",
              "    }\n",
              "</style>\n",
              "<table border=\"1\" class=\"dataframe\">\n",
              "  <thead>\n",
              "    <tr style=\"text-align: right;\">\n",
              "      <th></th>\n",
              "      <th>Isolate</th>\n",
              "      <th>CTZ</th>\n",
              "      <th>CTX</th>\n",
              "      <th>AMP</th>\n",
              "      <th>AMX</th>\n",
              "      <th>AMC</th>\n",
              "      <th>TZP</th>\n",
              "      <th>CXM</th>\n",
              "      <th>CET</th>\n",
              "      <th>GEN</th>\n",
              "      <th>...</th>\n",
              "      <th>cutoff_25459</th>\n",
              "      <th>cutoff_25654</th>\n",
              "      <th>cutoff_25772</th>\n",
              "      <th>cutoff_25979</th>\n",
              "      <th>cutoff_26792</th>\n",
              "      <th>cutoff_27119</th>\n",
              "      <th>cutoff_27236</th>\n",
              "      <th>cutoff_27248</th>\n",
              "      <th>cutoff_27690</th>\n",
              "      <th>cutoff_45092</th>\n",
              "    </tr>\n",
              "  </thead>\n",
              "  <tbody>\n",
              "    <tr>\n",
              "      <th>0</th>\n",
              "      <td>11657_5#10</td>\n",
              "      <td>S</td>\n",
              "      <td>S</td>\n",
              "      <td>S</td>\n",
              "      <td>NaN</td>\n",
              "      <td>S</td>\n",
              "      <td>S</td>\n",
              "      <td>S</td>\n",
              "      <td>S</td>\n",
              "      <td>S</td>\n",
              "      <td>...</td>\n",
              "      <td>0</td>\n",
              "      <td>0</td>\n",
              "      <td>0</td>\n",
              "      <td>0</td>\n",
              "      <td>0</td>\n",
              "      <td>0</td>\n",
              "      <td>0</td>\n",
              "      <td>0</td>\n",
              "      <td>0</td>\n",
              "      <td>0</td>\n",
              "    </tr>\n",
              "    <tr>\n",
              "      <th>1</th>\n",
              "      <td>11657_5#11</td>\n",
              "      <td>S</td>\n",
              "      <td>S</td>\n",
              "      <td>R</td>\n",
              "      <td>NaN</td>\n",
              "      <td>R</td>\n",
              "      <td>S</td>\n",
              "      <td>S</td>\n",
              "      <td>S</td>\n",
              "      <td>S</td>\n",
              "      <td>...</td>\n",
              "      <td>0</td>\n",
              "      <td>0</td>\n",
              "      <td>0</td>\n",
              "      <td>0</td>\n",
              "      <td>0</td>\n",
              "      <td>0</td>\n",
              "      <td>0</td>\n",
              "      <td>0</td>\n",
              "      <td>0</td>\n",
              "      <td>0</td>\n",
              "    </tr>\n",
              "    <tr>\n",
              "      <th>2</th>\n",
              "      <td>11657_5#12</td>\n",
              "      <td>S</td>\n",
              "      <td>S</td>\n",
              "      <td>S</td>\n",
              "      <td>NaN</td>\n",
              "      <td>S</td>\n",
              "      <td>S</td>\n",
              "      <td>S</td>\n",
              "      <td>S</td>\n",
              "      <td>S</td>\n",
              "      <td>...</td>\n",
              "      <td>0</td>\n",
              "      <td>0</td>\n",
              "      <td>0</td>\n",
              "      <td>0</td>\n",
              "      <td>0</td>\n",
              "      <td>0</td>\n",
              "      <td>0</td>\n",
              "      <td>0</td>\n",
              "      <td>0</td>\n",
              "      <td>0</td>\n",
              "    </tr>\n",
              "    <tr>\n",
              "      <th>3</th>\n",
              "      <td>11657_5#13</td>\n",
              "      <td>S</td>\n",
              "      <td>S</td>\n",
              "      <td>R</td>\n",
              "      <td>NaN</td>\n",
              "      <td>R</td>\n",
              "      <td>S</td>\n",
              "      <td>S</td>\n",
              "      <td>S</td>\n",
              "      <td>S</td>\n",
              "      <td>...</td>\n",
              "      <td>0</td>\n",
              "      <td>0</td>\n",
              "      <td>0</td>\n",
              "      <td>0</td>\n",
              "      <td>0</td>\n",
              "      <td>0</td>\n",
              "      <td>0</td>\n",
              "      <td>0</td>\n",
              "      <td>0</td>\n",
              "      <td>0</td>\n",
              "    </tr>\n",
              "    <tr>\n",
              "      <th>4</th>\n",
              "      <td>11657_5#14</td>\n",
              "      <td>S</td>\n",
              "      <td>S</td>\n",
              "      <td>R</td>\n",
              "      <td>NaN</td>\n",
              "      <td>S</td>\n",
              "      <td>S</td>\n",
              "      <td>S</td>\n",
              "      <td>S</td>\n",
              "      <td>S</td>\n",
              "      <td>...</td>\n",
              "      <td>0</td>\n",
              "      <td>0</td>\n",
              "      <td>0</td>\n",
              "      <td>0</td>\n",
              "      <td>0</td>\n",
              "      <td>0</td>\n",
              "      <td>0</td>\n",
              "      <td>0</td>\n",
              "      <td>0</td>\n",
              "      <td>0</td>\n",
              "    </tr>\n",
              "    <tr>\n",
              "      <th>...</th>\n",
              "      <td>...</td>\n",
              "      <td>...</td>\n",
              "      <td>...</td>\n",
              "      <td>...</td>\n",
              "      <td>...</td>\n",
              "      <td>...</td>\n",
              "      <td>...</td>\n",
              "      <td>...</td>\n",
              "      <td>...</td>\n",
              "      <td>...</td>\n",
              "      <td>...</td>\n",
              "      <td>...</td>\n",
              "      <td>...</td>\n",
              "      <td>...</td>\n",
              "      <td>...</td>\n",
              "      <td>...</td>\n",
              "      <td>...</td>\n",
              "      <td>...</td>\n",
              "      <td>...</td>\n",
              "      <td>...</td>\n",
              "      <td>...</td>\n",
              "    </tr>\n",
              "    <tr>\n",
              "      <th>1931</th>\n",
              "      <td>24742_1#96</td>\n",
              "      <td>S</td>\n",
              "      <td>S</td>\n",
              "      <td>S</td>\n",
              "      <td>NaN</td>\n",
              "      <td>NaN</td>\n",
              "      <td>NaN</td>\n",
              "      <td>S</td>\n",
              "      <td>S</td>\n",
              "      <td>S</td>\n",
              "      <td>...</td>\n",
              "      <td>0</td>\n",
              "      <td>0</td>\n",
              "      <td>0</td>\n",
              "      <td>0</td>\n",
              "      <td>0</td>\n",
              "      <td>0</td>\n",
              "      <td>0</td>\n",
              "      <td>0</td>\n",
              "      <td>0</td>\n",
              "      <td>0</td>\n",
              "    </tr>\n",
              "    <tr>\n",
              "      <th>1932</th>\n",
              "      <td>24742_1#97</td>\n",
              "      <td>S</td>\n",
              "      <td>S</td>\n",
              "      <td>S</td>\n",
              "      <td>NaN</td>\n",
              "      <td>NaN</td>\n",
              "      <td>NaN</td>\n",
              "      <td>S</td>\n",
              "      <td>S</td>\n",
              "      <td>S</td>\n",
              "      <td>...</td>\n",
              "      <td>0</td>\n",
              "      <td>0</td>\n",
              "      <td>0</td>\n",
              "      <td>0</td>\n",
              "      <td>0</td>\n",
              "      <td>0</td>\n",
              "      <td>0</td>\n",
              "      <td>0</td>\n",
              "      <td>0</td>\n",
              "      <td>0</td>\n",
              "    </tr>\n",
              "    <tr>\n",
              "      <th>1933</th>\n",
              "      <td>24742_1#98</td>\n",
              "      <td>S</td>\n",
              "      <td>S</td>\n",
              "      <td>R</td>\n",
              "      <td>NaN</td>\n",
              "      <td>NaN</td>\n",
              "      <td>NaN</td>\n",
              "      <td>S</td>\n",
              "      <td>S</td>\n",
              "      <td>S</td>\n",
              "      <td>...</td>\n",
              "      <td>0</td>\n",
              "      <td>0</td>\n",
              "      <td>0</td>\n",
              "      <td>0</td>\n",
              "      <td>0</td>\n",
              "      <td>0</td>\n",
              "      <td>0</td>\n",
              "      <td>0</td>\n",
              "      <td>0</td>\n",
              "      <td>0</td>\n",
              "    </tr>\n",
              "    <tr>\n",
              "      <th>1934</th>\n",
              "      <td>24742_1#99</td>\n",
              "      <td>S</td>\n",
              "      <td>S</td>\n",
              "      <td>R</td>\n",
              "      <td>NaN</td>\n",
              "      <td>NaN</td>\n",
              "      <td>NaN</td>\n",
              "      <td>S</td>\n",
              "      <td>S</td>\n",
              "      <td>S</td>\n",
              "      <td>...</td>\n",
              "      <td>0</td>\n",
              "      <td>0</td>\n",
              "      <td>0</td>\n",
              "      <td>0</td>\n",
              "      <td>0</td>\n",
              "      <td>0</td>\n",
              "      <td>0</td>\n",
              "      <td>0</td>\n",
              "      <td>0</td>\n",
              "      <td>0</td>\n",
              "    </tr>\n",
              "    <tr>\n",
              "      <th>1935</th>\n",
              "      <td>24742_1#9</td>\n",
              "      <td>S</td>\n",
              "      <td>S</td>\n",
              "      <td>R</td>\n",
              "      <td>NaN</td>\n",
              "      <td>NaN</td>\n",
              "      <td>NaN</td>\n",
              "      <td>S</td>\n",
              "      <td>S</td>\n",
              "      <td>S</td>\n",
              "      <td>...</td>\n",
              "      <td>0</td>\n",
              "      <td>0</td>\n",
              "      <td>0</td>\n",
              "      <td>0</td>\n",
              "      <td>0</td>\n",
              "      <td>0</td>\n",
              "      <td>0</td>\n",
              "      <td>0</td>\n",
              "      <td>0</td>\n",
              "      <td>0</td>\n",
              "    </tr>\n",
              "  </tbody>\n",
              "</table>\n",
              "<p>1936 rows × 18304 columns</p>\n",
              "</div>\n",
              "      <button class=\"colab-df-convert\" onclick=\"convertToInteractive('df-97d9902e-dc85-41de-9174-4093a8e8c5cb')\"\n",
              "              title=\"Convert this dataframe to an interactive table.\"\n",
              "              style=\"display:none;\">\n",
              "        \n",
              "  <svg xmlns=\"http://www.w3.org/2000/svg\" height=\"24px\"viewBox=\"0 0 24 24\"\n",
              "       width=\"24px\">\n",
              "    <path d=\"M0 0h24v24H0V0z\" fill=\"none\"/>\n",
              "    <path d=\"M18.56 5.44l.94 2.06.94-2.06 2.06-.94-2.06-.94-.94-2.06-.94 2.06-2.06.94zm-11 1L8.5 8.5l.94-2.06 2.06-.94-2.06-.94L8.5 2.5l-.94 2.06-2.06.94zm10 10l.94 2.06.94-2.06 2.06-.94-2.06-.94-.94-2.06-.94 2.06-2.06.94z\"/><path d=\"M17.41 7.96l-1.37-1.37c-.4-.4-.92-.59-1.43-.59-.52 0-1.04.2-1.43.59L10.3 9.45l-7.72 7.72c-.78.78-.78 2.05 0 2.83L4 21.41c.39.39.9.59 1.41.59.51 0 1.02-.2 1.41-.59l7.78-7.78 2.81-2.81c.8-.78.8-2.07 0-2.86zM5.41 20L4 18.59l7.72-7.72 1.47 1.35L5.41 20z\"/>\n",
              "  </svg>\n",
              "      </button>\n",
              "      \n",
              "  <style>\n",
              "    .colab-df-container {\n",
              "      display:flex;\n",
              "      flex-wrap:wrap;\n",
              "      gap: 12px;\n",
              "    }\n",
              "\n",
              "    .colab-df-convert {\n",
              "      background-color: #E8F0FE;\n",
              "      border: none;\n",
              "      border-radius: 50%;\n",
              "      cursor: pointer;\n",
              "      display: none;\n",
              "      fill: #1967D2;\n",
              "      height: 32px;\n",
              "      padding: 0 0 0 0;\n",
              "      width: 32px;\n",
              "    }\n",
              "\n",
              "    .colab-df-convert:hover {\n",
              "      background-color: #E2EBFA;\n",
              "      box-shadow: 0px 1px 2px rgba(60, 64, 67, 0.3), 0px 1px 3px 1px rgba(60, 64, 67, 0.15);\n",
              "      fill: #174EA6;\n",
              "    }\n",
              "\n",
              "    [theme=dark] .colab-df-convert {\n",
              "      background-color: #3B4455;\n",
              "      fill: #D2E3FC;\n",
              "    }\n",
              "\n",
              "    [theme=dark] .colab-df-convert:hover {\n",
              "      background-color: #434B5C;\n",
              "      box-shadow: 0px 1px 3px 1px rgba(0, 0, 0, 0.15);\n",
              "      filter: drop-shadow(0px 1px 2px rgba(0, 0, 0, 0.3));\n",
              "      fill: #FFFFFF;\n",
              "    }\n",
              "  </style>\n",
              "\n",
              "      <script>\n",
              "        const buttonEl =\n",
              "          document.querySelector('#df-97d9902e-dc85-41de-9174-4093a8e8c5cb button.colab-df-convert');\n",
              "        buttonEl.style.display =\n",
              "          google.colab.kernel.accessAllowed ? 'block' : 'none';\n",
              "\n",
              "        async function convertToInteractive(key) {\n",
              "          const element = document.querySelector('#df-97d9902e-dc85-41de-9174-4093a8e8c5cb');\n",
              "          const dataTable =\n",
              "            await google.colab.kernel.invokeFunction('convertToInteractive',\n",
              "                                                     [key], {});\n",
              "          if (!dataTable) return;\n",
              "\n",
              "          const docLinkHtml = 'Like what you see? Visit the ' +\n",
              "            '<a target=\"_blank\" href=https://colab.research.google.com/notebooks/data_table.ipynb>data table notebook</a>'\n",
              "            + ' to learn more about interactive tables.';\n",
              "          element.innerHTML = '';\n",
              "          dataTable['output_type'] = 'display_data';\n",
              "          await google.colab.output.renderOutput(dataTable, element);\n",
              "          const docLink = document.createElement('div');\n",
              "          docLink.innerHTML = docLinkHtml;\n",
              "          element.appendChild(docLink);\n",
              "        }\n",
              "      </script>\n",
              "    </div>\n",
              "  </div>\n",
              "  "
            ]
          },
          "metadata": {},
          "execution_count": 2
        }
      ]
    },
    {
      "cell_type": "markdown",
      "source": [
        "#### **b) Creating dataframes for each drug**\n",
        "If everything looks good in part a, we can now concentrate on isolating each antibiotic with it's predictor. The objective of this part will be to create a single dataframe for each antibiotic drug. This means that we want all our features being used to predict the label for only one drug. \n",
        "\n",
        "This is because expressions of **Resistance (R)** or **Susceptibility (S)** are not universal. For example, just because a sample *E. coli* is resistant to say AMP (Ampicilin), it doesn't mean that is resistant to AMX (Amoxicilin). \n",
        "\n",
        "- As a review let's look at the list of antibiotic drugs we will be working with on the code below. Each of these drugs will be matched with all the features (years of isolation, gene absence and presence, and population structure) we are interested in using."
      ],
      "metadata": {
        "id": "7R5n7AplVk-Y"
      }
    },
    {
      "cell_type": "code",
      "source": [
        "# creating a list of antibiotic names\n",
        "drug_list = All_Drugs_df.iloc[:,1:13].columns\n",
        "drug_list"
      ],
      "metadata": {
        "colab": {
          "base_uri": "https://localhost:8080/"
        },
        "id": "lLeCU30hD0Wk",
        "outputId": "3d34cc2d-6099-43a3-dacf-d3bb8ff22aa9"
      },
      "execution_count": null,
      "outputs": [
        {
          "output_type": "execute_result",
          "data": {
            "text/plain": [
              "Index(['CTZ', 'CTX', 'AMP', 'AMX', 'AMC', 'TZP', 'CXM', 'CET', 'GEN', 'TBM',\n",
              "       'TMP', 'CIP'],\n",
              "      dtype='object')"
            ]
          },
          "metadata": {},
          "execution_count": 3
        }
      ]
    },
    {
      "cell_type": "markdown",
      "source": [
        "- Now in the code below we will be creating a general function that will help us do the task of match a particular drug with all the features. In addition it will eliminate missing data in features for that particular drug. Creating this function will help us not have to repeat this chunk of code for every drug. Instead we can just call the function. "
      ],
      "metadata": {
        "id": "I8vDrkad-D_L"
      }
    },
    {
      "cell_type": "code",
      "source": [
        "# creating a function that makes dataframes for each antibiotic and dropping NaN values\n",
        "def makeDF(drug):\n",
        "  df_list = [All_Drugs_df[[\"Isolate\",drug]],All_Drugs_df.iloc[:,13:]]\n",
        "  Drug_df = pd.concat(df_list, axis=1)\n",
        "  Drug_df = Drug_df.dropna()\n",
        "  return Drug_df"
      ],
      "metadata": {
        "id": "CL1DDOxXEXER"
      },
      "execution_count": null,
      "outputs": []
    },
    {
      "cell_type": "markdown",
      "source": [
        "- The code below will show an example on how our function **makeDF()** works. All we have to do is to put the drug of interest in the parenthesis and it will inmediately execute the chunk of code we wrote before. In the example below, it will match the CTZ drug label column with the rest of the features and it will eliminate the rows that contain a missing feature value.\n",
        "- The **output** of this function will be the dataframe of the antibiotic drug we specified. The output is the dataframe called **CTZ_df**"
      ],
      "metadata": {
        "id": "7cLW_pGT-iLG"
      }
    },
    {
      "cell_type": "code",
      "source": [
        "# implementing function using as example the drug CTZ\n",
        "CTZ_df = makeDF(\"CTZ\")\n",
        "\n",
        "# looking at the shape of CTZ dataframe\n",
        "print(\"CTZ dataframe shape: \", CTZ_df.shape)\n",
        "\n",
        "# looking at the first 5 rows of this dataframe\n",
        "CTZ_df.head()"
      ],
      "metadata": {
        "colab": {
          "base_uri": "https://localhost:8080/",
          "height": 317
        },
        "id": "goNBMMQFJkJn",
        "outputId": "0f8664aa-275c-4ae4-d026-53e29af28372"
      },
      "execution_count": null,
      "outputs": [
        {
          "output_type": "stream",
          "name": "stdout",
          "text": [
            "CTZ dataframe shape:  (1935, 18293)\n"
          ]
        },
        {
          "output_type": "execute_result",
          "data": {
            "text/plain": [
              "      Isolate CTZ  Year_1970.0  Year_1977.0  Year_1994.0  Year_1997.0  \\\n",
              "0  11657_5#10   S            0            0            0            0   \n",
              "1  11657_5#11   S            0            0            0            0   \n",
              "2  11657_5#12   S            0            0            0            0   \n",
              "3  11657_5#13   S            0            0            0            0   \n",
              "4  11657_5#14   S            0            0            0            0   \n",
              "\n",
              "   Year_1998.0  Year_1999.0  Year_2001.0  Year_2002.0  ...  cutoff_25459  \\\n",
              "0            0            0            0            0  ...             0   \n",
              "1            0            0            0            0  ...             0   \n",
              "2            0            0            0            0  ...             0   \n",
              "3            0            0            0            0  ...             0   \n",
              "4            0            0            0            0  ...             0   \n",
              "\n",
              "   cutoff_25654  cutoff_25772  cutoff_25979  cutoff_26792  cutoff_27119  \\\n",
              "0             0             0             0             0             0   \n",
              "1             0             0             0             0             0   \n",
              "2             0             0             0             0             0   \n",
              "3             0             0             0             0             0   \n",
              "4             0             0             0             0             0   \n",
              "\n",
              "   cutoff_27236  cutoff_27248  cutoff_27690  cutoff_45092  \n",
              "0             0             0             0             0  \n",
              "1             0             0             0             0  \n",
              "2             0             0             0             0  \n",
              "3             0             0             0             0  \n",
              "4             0             0             0             0  \n",
              "\n",
              "[5 rows x 18293 columns]"
            ],
            "text/html": [
              "\n",
              "  <div id=\"df-71b69fa0-2aa9-475e-bde6-19d2a70fbfd4\">\n",
              "    <div class=\"colab-df-container\">\n",
              "      <div>\n",
              "<style scoped>\n",
              "    .dataframe tbody tr th:only-of-type {\n",
              "        vertical-align: middle;\n",
              "    }\n",
              "\n",
              "    .dataframe tbody tr th {\n",
              "        vertical-align: top;\n",
              "    }\n",
              "\n",
              "    .dataframe thead th {\n",
              "        text-align: right;\n",
              "    }\n",
              "</style>\n",
              "<table border=\"1\" class=\"dataframe\">\n",
              "  <thead>\n",
              "    <tr style=\"text-align: right;\">\n",
              "      <th></th>\n",
              "      <th>Isolate</th>\n",
              "      <th>CTZ</th>\n",
              "      <th>Year_1970.0</th>\n",
              "      <th>Year_1977.0</th>\n",
              "      <th>Year_1994.0</th>\n",
              "      <th>Year_1997.0</th>\n",
              "      <th>Year_1998.0</th>\n",
              "      <th>Year_1999.0</th>\n",
              "      <th>Year_2001.0</th>\n",
              "      <th>Year_2002.0</th>\n",
              "      <th>...</th>\n",
              "      <th>cutoff_25459</th>\n",
              "      <th>cutoff_25654</th>\n",
              "      <th>cutoff_25772</th>\n",
              "      <th>cutoff_25979</th>\n",
              "      <th>cutoff_26792</th>\n",
              "      <th>cutoff_27119</th>\n",
              "      <th>cutoff_27236</th>\n",
              "      <th>cutoff_27248</th>\n",
              "      <th>cutoff_27690</th>\n",
              "      <th>cutoff_45092</th>\n",
              "    </tr>\n",
              "  </thead>\n",
              "  <tbody>\n",
              "    <tr>\n",
              "      <th>0</th>\n",
              "      <td>11657_5#10</td>\n",
              "      <td>S</td>\n",
              "      <td>0</td>\n",
              "      <td>0</td>\n",
              "      <td>0</td>\n",
              "      <td>0</td>\n",
              "      <td>0</td>\n",
              "      <td>0</td>\n",
              "      <td>0</td>\n",
              "      <td>0</td>\n",
              "      <td>...</td>\n",
              "      <td>0</td>\n",
              "      <td>0</td>\n",
              "      <td>0</td>\n",
              "      <td>0</td>\n",
              "      <td>0</td>\n",
              "      <td>0</td>\n",
              "      <td>0</td>\n",
              "      <td>0</td>\n",
              "      <td>0</td>\n",
              "      <td>0</td>\n",
              "    </tr>\n",
              "    <tr>\n",
              "      <th>1</th>\n",
              "      <td>11657_5#11</td>\n",
              "      <td>S</td>\n",
              "      <td>0</td>\n",
              "      <td>0</td>\n",
              "      <td>0</td>\n",
              "      <td>0</td>\n",
              "      <td>0</td>\n",
              "      <td>0</td>\n",
              "      <td>0</td>\n",
              "      <td>0</td>\n",
              "      <td>...</td>\n",
              "      <td>0</td>\n",
              "      <td>0</td>\n",
              "      <td>0</td>\n",
              "      <td>0</td>\n",
              "      <td>0</td>\n",
              "      <td>0</td>\n",
              "      <td>0</td>\n",
              "      <td>0</td>\n",
              "      <td>0</td>\n",
              "      <td>0</td>\n",
              "    </tr>\n",
              "    <tr>\n",
              "      <th>2</th>\n",
              "      <td>11657_5#12</td>\n",
              "      <td>S</td>\n",
              "      <td>0</td>\n",
              "      <td>0</td>\n",
              "      <td>0</td>\n",
              "      <td>0</td>\n",
              "      <td>0</td>\n",
              "      <td>0</td>\n",
              "      <td>0</td>\n",
              "      <td>0</td>\n",
              "      <td>...</td>\n",
              "      <td>0</td>\n",
              "      <td>0</td>\n",
              "      <td>0</td>\n",
              "      <td>0</td>\n",
              "      <td>0</td>\n",
              "      <td>0</td>\n",
              "      <td>0</td>\n",
              "      <td>0</td>\n",
              "      <td>0</td>\n",
              "      <td>0</td>\n",
              "    </tr>\n",
              "    <tr>\n",
              "      <th>3</th>\n",
              "      <td>11657_5#13</td>\n",
              "      <td>S</td>\n",
              "      <td>0</td>\n",
              "      <td>0</td>\n",
              "      <td>0</td>\n",
              "      <td>0</td>\n",
              "      <td>0</td>\n",
              "      <td>0</td>\n",
              "      <td>0</td>\n",
              "      <td>0</td>\n",
              "      <td>...</td>\n",
              "      <td>0</td>\n",
              "      <td>0</td>\n",
              "      <td>0</td>\n",
              "      <td>0</td>\n",
              "      <td>0</td>\n",
              "      <td>0</td>\n",
              "      <td>0</td>\n",
              "      <td>0</td>\n",
              "      <td>0</td>\n",
              "      <td>0</td>\n",
              "    </tr>\n",
              "    <tr>\n",
              "      <th>4</th>\n",
              "      <td>11657_5#14</td>\n",
              "      <td>S</td>\n",
              "      <td>0</td>\n",
              "      <td>0</td>\n",
              "      <td>0</td>\n",
              "      <td>0</td>\n",
              "      <td>0</td>\n",
              "      <td>0</td>\n",
              "      <td>0</td>\n",
              "      <td>0</td>\n",
              "      <td>...</td>\n",
              "      <td>0</td>\n",
              "      <td>0</td>\n",
              "      <td>0</td>\n",
              "      <td>0</td>\n",
              "      <td>0</td>\n",
              "      <td>0</td>\n",
              "      <td>0</td>\n",
              "      <td>0</td>\n",
              "      <td>0</td>\n",
              "      <td>0</td>\n",
              "    </tr>\n",
              "  </tbody>\n",
              "</table>\n",
              "<p>5 rows × 18293 columns</p>\n",
              "</div>\n",
              "      <button class=\"colab-df-convert\" onclick=\"convertToInteractive('df-71b69fa0-2aa9-475e-bde6-19d2a70fbfd4')\"\n",
              "              title=\"Convert this dataframe to an interactive table.\"\n",
              "              style=\"display:none;\">\n",
              "        \n",
              "  <svg xmlns=\"http://www.w3.org/2000/svg\" height=\"24px\"viewBox=\"0 0 24 24\"\n",
              "       width=\"24px\">\n",
              "    <path d=\"M0 0h24v24H0V0z\" fill=\"none\"/>\n",
              "    <path d=\"M18.56 5.44l.94 2.06.94-2.06 2.06-.94-2.06-.94-.94-2.06-.94 2.06-2.06.94zm-11 1L8.5 8.5l.94-2.06 2.06-.94-2.06-.94L8.5 2.5l-.94 2.06-2.06.94zm10 10l.94 2.06.94-2.06 2.06-.94-2.06-.94-.94-2.06-.94 2.06-2.06.94z\"/><path d=\"M17.41 7.96l-1.37-1.37c-.4-.4-.92-.59-1.43-.59-.52 0-1.04.2-1.43.59L10.3 9.45l-7.72 7.72c-.78.78-.78 2.05 0 2.83L4 21.41c.39.39.9.59 1.41.59.51 0 1.02-.2 1.41-.59l7.78-7.78 2.81-2.81c.8-.78.8-2.07 0-2.86zM5.41 20L4 18.59l7.72-7.72 1.47 1.35L5.41 20z\"/>\n",
              "  </svg>\n",
              "      </button>\n",
              "      \n",
              "  <style>\n",
              "    .colab-df-container {\n",
              "      display:flex;\n",
              "      flex-wrap:wrap;\n",
              "      gap: 12px;\n",
              "    }\n",
              "\n",
              "    .colab-df-convert {\n",
              "      background-color: #E8F0FE;\n",
              "      border: none;\n",
              "      border-radius: 50%;\n",
              "      cursor: pointer;\n",
              "      display: none;\n",
              "      fill: #1967D2;\n",
              "      height: 32px;\n",
              "      padding: 0 0 0 0;\n",
              "      width: 32px;\n",
              "    }\n",
              "\n",
              "    .colab-df-convert:hover {\n",
              "      background-color: #E2EBFA;\n",
              "      box-shadow: 0px 1px 2px rgba(60, 64, 67, 0.3), 0px 1px 3px 1px rgba(60, 64, 67, 0.15);\n",
              "      fill: #174EA6;\n",
              "    }\n",
              "\n",
              "    [theme=dark] .colab-df-convert {\n",
              "      background-color: #3B4455;\n",
              "      fill: #D2E3FC;\n",
              "    }\n",
              "\n",
              "    [theme=dark] .colab-df-convert:hover {\n",
              "      background-color: #434B5C;\n",
              "      box-shadow: 0px 1px 3px 1px rgba(0, 0, 0, 0.15);\n",
              "      filter: drop-shadow(0px 1px 2px rgba(0, 0, 0, 0.3));\n",
              "      fill: #FFFFFF;\n",
              "    }\n",
              "  </style>\n",
              "\n",
              "      <script>\n",
              "        const buttonEl =\n",
              "          document.querySelector('#df-71b69fa0-2aa9-475e-bde6-19d2a70fbfd4 button.colab-df-convert');\n",
              "        buttonEl.style.display =\n",
              "          google.colab.kernel.accessAllowed ? 'block' : 'none';\n",
              "\n",
              "        async function convertToInteractive(key) {\n",
              "          const element = document.querySelector('#df-71b69fa0-2aa9-475e-bde6-19d2a70fbfd4');\n",
              "          const dataTable =\n",
              "            await google.colab.kernel.invokeFunction('convertToInteractive',\n",
              "                                                     [key], {});\n",
              "          if (!dataTable) return;\n",
              "\n",
              "          const docLinkHtml = 'Like what you see? Visit the ' +\n",
              "            '<a target=\"_blank\" href=https://colab.research.google.com/notebooks/data_table.ipynb>data table notebook</a>'\n",
              "            + ' to learn more about interactive tables.';\n",
              "          element.innerHTML = '';\n",
              "          dataTable['output_type'] = 'display_data';\n",
              "          await google.colab.output.renderOutput(dataTable, element);\n",
              "          const docLink = document.createElement('div');\n",
              "          docLink.innerHTML = docLinkHtml;\n",
              "          element.appendChild(docLink);\n",
              "        }\n",
              "      </script>\n",
              "    </div>\n",
              "  </div>\n",
              "  "
            ]
          },
          "metadata": {},
          "execution_count": 5
        }
      ]
    },
    {
      "cell_type": "markdown",
      "source": [
        "- As you can see our original data had 12 antibiotic drug columns, but now it only contains the drug CTZ column.\n",
        "- In addition notice that our initial dataframe had 1936 rows but the new one only has **1935 rows**. This means that only one row was eliminated due to the presence of missing values. We now have **18,293 columns**( Isolate number + CTZ label column  + all 18291 feature columns = 18293)**\n",
        "\n",
        "**NOTE:** Notice that the code above is just demonstrating how the function works, but our ultimate objective is to use it later for each of our antibiotic drugs to create a total of 12 dataframes each with its respective drug. \n"
      ],
      "metadata": {
        "id": "WcRUPyCaMnky"
      }
    },
    {
      "cell_type": "markdown",
      "source": [
        "## **Step 3) Separating each drug dataframe into 4 sections : Training (features and labels) and Testing (features and labels)**"
      ],
      "metadata": {
        "id": "NMKzeaqPojso"
      }
    },
    {
      "cell_type": "markdown",
      "source": [
        "#### **a) Creating testing and training datasets for each antibiotic drug**\n",
        "\n",
        "Next in our process we will need to split each of our 12 antibiotic dataframes into 4 different sections:\n",
        "\n",
        "**TRAINING**\n",
        "\n",
        "**a) labels_train:** are the labels **Resistant (R)** and **Susceptible (S)** for a single antibiotic drug that will be used to teach our model how to make predictions. \n",
        "\n",
        "**b) features_train:** are the features that will be used along with the labels_train to teach our model to make predictions. Note that feature_train is actually the X matrix in our logistic equation! They will be used to estimate our $\\beta_0$ and all the $\\beta_j$ values with a process called *Maximum Likelyhood*. You can watch the mathematical details of how this is done by watching this [video](https://www.youtube.com/watch?v=BfKanl1aSG0) by Josh Starmer.\n",
        "\n",
        "**TESTING** \n",
        "\n",
        "**c) labels_test:** are the labels we will holding out so that we can see at the end if we made accurate predictions. \n",
        "\n",
        "**d) features_test:** are the X values we will plug into our model, once $\\beta_0$ and all the $\\beta_j$ values have already been estimated.\n",
        "\n",
        "- Below we create a function that will be used to separate each of our 12 antibiotic dataframes into the 4 separate parts described above. \n",
        "\n",
        "Specifically we also specified that **33%** of our data to be used as a **testing set** and thus **67%** of our data remains to become our **training set**. You can choose a different percentage to split them just know that the majority of our data should be used for training, other splits people try are 30/70 or 20/80 for testing/training respectively. \n",
        "\n",
        "- In addition, the function will save each of these 4 parts into a python dictionary object. If you are unfamiliar with what a dictionary is in python, feel free to check out this useful [link](https://docs.python.org/3/tutorial/datastructures.html#dictionaries). This way we can organize and access our 4 data chunks for a specific antibiotic drug."
      ],
      "metadata": {
        "id": "B2BblFQkce6s"
      }
    },
    {
      "cell_type": "code",
      "source": [
        "# Separating each dataframe into labels and features for training and testing data\n",
        "def Split_train_test(Drug_df,drug):\n",
        "  Train_test_dic = {}\n",
        "  labels = Drug_df[drug]\n",
        "  features = Drug_df.drop(columns=[drug])\n",
        "  features_train, features_test, labels_train, labels_test = train_test_split(features, labels, test_size=0.33, random_state=42)\n",
        "\n",
        "  Train_test_dic['labels_train'] = labels_train\n",
        "  Train_test_dic['features_train'] = features_train\n",
        "  Train_test_dic['labels_test'] = labels_test\n",
        "  Train_test_dic['features_test'] = features_test\n",
        "\n",
        "  return Train_test_dic"
      ],
      "metadata": {
        "id": "iP4HEW4qBO7l"
      },
      "execution_count": null,
      "outputs": []
    },
    {
      "cell_type": "markdown",
      "source": [
        "- To demonstrate how our function works, we will test it using the previous CTZ dataframe we created already in step 2, called **CTZ_df**. Our function **Split_train_test()** will accept 2 arguments, the first is the dataframe, the second is the drug name.\n",
        "\n",
        "- The **output** of the function below is a data dictionary of the specific drug dataframe we asked it to split into 4 chunks. In this case we have used **CTZ_df** to create the data dictionary called **CTZ_Train_test_dic**"
      ],
      "metadata": {
        "id": "jSYdDGJ2d-iU"
      }
    },
    {
      "cell_type": "markdown",
      "source": [
        "## **Task 1:**\n",
        "- Use the function created above to create a data split for a drug of your choice. \n",
        "- Check the shape for each the dataframes in the dictionary"
      ],
      "metadata": {
        "id": "ujMM6GIlPkI7"
      }
    },
    {
      "cell_type": "code",
      "source": [
        "# Input your code for task 1 in this cell!"
      ],
      "metadata": {
        "id": "v9QvvwLJObg0"
      },
      "execution_count": null,
      "outputs": []
    },
    {
      "cell_type": "markdown",
      "source": [
        "**Task 1 answer:**"
      ],
      "metadata": {
        "id": "_5PoigXdqwN1"
      }
    },
    {
      "cell_type": "markdown",
      "source": [
        "## **Step 4) Creating different combination of features before training**\n",
        "\n",
        "Below we create a function that will take the features dataframe (train or test) from the dictionary we have created in step 3 and then will create different feature combinations dataframe. For instance, a **\"GY\"** combination implies that we would like to use the **gene absence and presence (G)** feature columns and the **years of isolation (Y)** columns.\n",
        "\n",
        "Reference for the combinations\n",
        "\n",
        "- **Year of isolation (Y)** \n",
        "- **Genes absence or presence (G)**\n",
        "- **Population Structure (S)**\n",
        "\n"
      ],
      "metadata": {
        "id": "2IyqN506dQn4"
      }
    },
    {
      "cell_type": "code",
      "source": [
        "# making a list of combinations of data sources we would like to test in our ML models\n",
        "combo_list = ['G', 'S', 'GY','GS' ,'SY', 'GYS' ] "
      ],
      "metadata": {
        "id": "a39bjJh0oLAT"
      },
      "execution_count": null,
      "outputs": []
    },
    {
      "cell_type": "code",
      "source": [
        "# making a function that creates different feature combinations of the predictor features\n",
        "def combo_feat(features_df, drug, combo):\n",
        "\n",
        "  # creating Year column filters for features_df\n",
        "  year_filter = [col for col in features_df if col.startswith(\"Year\")]\n",
        "  year_feat = features_df[year_filter]\n",
        "\n",
        "  # creating Population structure column filters for features_df\n",
        "  pop_str_filter = [col for col in features_df if col.startswith(\"cutoff\")]\n",
        "  pop_struc_feat = features_df[pop_str_filter]\n",
        "\n",
        "  # creating Gene precence column filters for features_df\n",
        "  gene_presc_filter = [col for col in features_df.columns if col not in pop_str_filter and col not in year_filter and col != \"Isolate\"]\n",
        "  gene_presc_feat = features_df[gene_presc_filter]  \n",
        "\n",
        "  if combo == 'G':\n",
        "    df_list = [features_df['Isolate'], gene_presc_feat]\n",
        "    G_feat_df = pd.concat(df_list, axis=1)\n",
        "    G_feat_df = G_feat_df.drop(columns=['Isolate'])\n",
        "    return G_feat_df\n",
        "\n",
        "  if combo == 'S':\n",
        "    df_list = [features_df['Isolate'], pop_struc_feat]\n",
        "    S_feat_df = pd.concat(df_list, axis=1)\n",
        "    S_feat_df = S_feat_df.drop(columns=['Isolate'])\n",
        "    return S_feat_df\n",
        "\n",
        "  if combo == 'GY':\n",
        "    df_list = [features_df['Isolate'], gene_presc_feat, year_feat]\n",
        "    GY_feat_df = pd.concat(df_list, axis=1)\n",
        "    GY_feat_df = GY_feat_df.drop(columns=['Isolate'])\n",
        "    return GY_feat_df\n",
        "\n",
        "  if combo== \"GS\":\n",
        "    df_list = [features_df['Isolate'], gene_presc_feat, pop_struc_feat]\n",
        "    GS_feat_df = pd.concat(df_list, axis=1)\n",
        "    GS_feat_df = GS_feat_df.drop(columns=['Isolate'])\n",
        "    return GS_feat_df\n",
        "\n",
        "  if combo == 'SY':\n",
        "    df_list = [features_df['Isolate'], pop_struc_feat, year_feat]\n",
        "    SY_feat_df = pd.concat(df_list, axis=1)\n",
        "    SY_feat_df = SY_feat_df.drop(columns=['Isolate'])\n",
        "    return SY_feat_df\n",
        "\n",
        "  if combo == 'GYS':\n",
        "    df_list = [features_df['Isolate'], gene_presc_feat, year_feat, pop_struc_feat, ]\n",
        "    GYS_feat_df = pd.concat(df_list, axis=1)\n",
        "    GYS_feat_df = GYS_feat_df.drop(columns=['Isolate'])\n",
        "    return GYS_feat_df\n",
        "  "
      ],
      "metadata": {
        "id": "JmzbwQBxlylk"
      },
      "execution_count": null,
      "outputs": []
    },
    {
      "cell_type": "markdown",
      "source": [
        "## **Task 2:**\n",
        "\n",
        "- Use the function above and try implementing its function, using the dataframe you created in the prior step."
      ],
      "metadata": {
        "id": "wZY9uTs5Q0Jh"
      }
    },
    {
      "cell_type": "code",
      "source": [
        "# Input your code for task 2 in this cell!"
      ],
      "metadata": {
        "id": "6E_Ez3g5MFVO"
      },
      "execution_count": null,
      "outputs": []
    },
    {
      "cell_type": "markdown",
      "source": [
        "**Task 2 answer:**"
      ],
      "metadata": {
        "id": "qRFkgLZuMFVh"
      }
    },
    {
      "cell_type": "markdown",
      "source": [
        "## **Step 5) Creating Logistic Regression model and training it per feature combination**\n",
        "The next step involves finally creating a function that will actually make our Logistic Regression model and fit our desired training features combination. We will realize that although this function seems fairly straight forward, there is a lot of calculations happening. We will only take a small peak at what's going on in the background."
      ],
      "metadata": {
        "id": "ZVOKCEZNeHzB"
      }
    },
    {
      "cell_type": "code",
      "source": [
        "# creating Logistic regression model function\n",
        "@ignore_warnings(category=ConvergenceWarning)\n",
        "def run_LG(feat_train_df, lab_train, drug, combo):\n",
        "  print(drug +\" Training combo: \"+ combo)\n",
        "  LG = LogisticRegression(random_state = 42, solver= 'lbfgs', C=1.0, max_iter=500) \n",
        "  LG = LG.fit(feat_train_df, lab_train)\n",
        "  return LG"
      ],
      "metadata": {
        "id": "QbEP2WYkWPxB"
      },
      "execution_count": null,
      "outputs": []
    },
    {
      "cell_type": "markdown",
      "source": [
        "## **Task 3:**\n",
        "- Use the function above and try implementing its function, using the data training data from the previous step."
      ],
      "metadata": {
        "id": "PmhsVo7BRnQr"
      }
    },
    {
      "cell_type": "code",
      "source": [
        "# Input your code for task 3 in this cell!"
      ],
      "metadata": {
        "id": "GdbH8kOyMiOk"
      },
      "execution_count": null,
      "outputs": []
    },
    {
      "cell_type": "markdown",
      "source": [
        "**Task 3 answer:**"
      ],
      "metadata": {
        "id": "Wo5p_g31MiPJ"
      }
    },
    {
      "cell_type": "markdown",
      "source": [
        "In the code below we can now actually observe what were the $\\beta$ values estimated for our model. First we can check that our intercept or $\\beta_0$ is aproximately $1.89 * 10^{-4}$"
      ],
      "metadata": {
        "id": "zsn8RmsZ72vf"
      }
    },
    {
      "cell_type": "code",
      "source": [
        "# printing the beta_0 or intercept value of our model\n",
        "print(\"Intercept:\",LG_CTZ_GYS_model.intercept_[0])"
      ],
      "metadata": {
        "colab": {
          "base_uri": "https://localhost:8080/"
        },
        "id": "Wta9874D8b6r",
        "outputId": "c2a66504-26c8-44f7-8e4c-5ef255a59f86"
      },
      "execution_count": null,
      "outputs": [
        {
          "output_type": "stream",
          "name": "stdout",
          "text": [
            "Intercept: 0.00013519426238687302\n"
          ]
        }
      ]
    },
    {
      "cell_type": "markdown",
      "source": [
        "Then we can check all the $\\beta_j$ values, recall there is for this model (GYS) a total of 18,291 feature columns used thus, there should be the same value of $\\beta_j$ values. \n",
        "\n",
        "**NOTE:** the computer has it's limitations when it comes to representing really small values so for instance the last $\\beta_j$ value looks like 5.56440932e-05 . But this essentially means $5.56440932 * 10^{-5}$ which is aproximately $5.56 * 10^{-5}$"
      ],
      "metadata": {
        "id": "rdQ2gbqR8gZx"
      }
    },
    {
      "cell_type": "code",
      "source": [
        "# printing all the beta_j's or coefficients of our logistic regression model\n",
        "print(\"All beta_j values:\", LG_CTZ_GYS_model.coef_[0])\n",
        "\n",
        "# printing the number of all the beta_j values\n",
        "print(\"Number of beta_j values: \", len(LG_CTZ_GYS_model.coef_[0]))"
      ],
      "metadata": {
        "colab": {
          "base_uri": "https://localhost:8080/"
        },
        "id": "orQw-1DG8812",
        "outputId": "9014f91e-7707-4c63-b9c4-a4cd162308d4"
      },
      "execution_count": null,
      "outputs": [
        {
          "output_type": "stream",
          "name": "stdout",
          "text": [
            "All beta_j values: [1.35187440e-04 1.31359374e-04 9.19583740e-05 ... 1.42517276e-05\n",
            " 2.86786921e-05 4.32290657e-05]\n",
            "Number of beta_j values:  18291\n"
          ]
        }
      ]
    },
    {
      "cell_type": "markdown",
      "source": [
        "Now that we have these values estimated ($\\beta_0$ and all the $\\beta_j$ values ) we have essentially the following equation as the actual model: \n",
        "\n",
        "$$ ln(\\frac{P}{1-P}) = (1.89 * 10^{-4}) + (1.89 * 10^{-4})feat_1 + (1.84 * 10^{-4})feat_2 + ... + (5.56∗10^{−5})feat_{18291}$$\n",
        "\n",
        "- *feat* = features\n"
      ],
      "metadata": {
        "id": "4yDcMb3K-5L4"
      }
    },
    {
      "cell_type": "markdown",
      "source": [
        "## **Step 6) Making predictions from Logistic Regression model**\n",
        "Now that our model has been trained and all $\\beta$ values have been estimated, we are actually ready to make predictions using the testing features chunk we have already separated when we made our antibiotic drug dictionary.\n",
        "\n",
        "Below we create another function where we predict labels using the actual model and the \"features_test\" chunk. "
      ],
      "metadata": {
        "id": "1px3jn-Djn77"
      }
    },
    {
      "cell_type": "code",
      "execution_count": null,
      "metadata": {
        "id": "IzEGZrwHAZ3W"
      },
      "outputs": [],
      "source": [
        "# creating a function using the model created and trained and the feature combinations from testing data\n",
        "def predict(LG_combo_Model, features_test):\n",
        "  labels_pred = LG_combo_Model.predict(features_test)\n",
        "  return labels_pred"
      ]
    },
    {
      "cell_type": "markdown",
      "source": [
        "## **Step 7) Evaluating our model using a confusion matrix**\n",
        "\n",
        "Below we create our last function **evaluate**, where we are able to extract our **accuracy**, and **recall** for **Resistant (R)** and **Susceptible (S)** *E.coli*. We also create a Confusion Matrix. \n",
        "\n",
        "Notice that within the function, we had to convert the labels test into numbers as well in order to be able to be compared with our predicted labels. "
      ],
      "metadata": {
        "id": "5dox3JfFn5wz"
      }
    },
    {
      "cell_type": "code",
      "source": [
        "# Creating a function that evaluates our model using our actual and predicted data\n",
        "def evaluate(LG_combo_model, labels_test, labels_pred, cf= True):\n",
        "  report = classification_report(labels_test, labels_pred, output_dict = True)\n",
        "  accuracy = report['accuracy']\n",
        "  R_recall = report['R']['recall']# Resistant\n",
        "  S_recall = report['S']['recall']# Susceptible\n",
        "  if cf == True:\n",
        "    cm = confusion_matrix(labels_test, labels_pred, labels=LG_combo_model.classes_)\n",
        "    disp = ConfusionMatrixDisplay(confusion_matrix=cm, display_labels=LG_combo_model.classes_)\n",
        "    disp.plot()\n",
        "    plt.show()\n",
        "  return [accuracy,R_recall,S_recall]"
      ],
      "metadata": {
        "id": "YJJmoOq-o97t"
      },
      "execution_count": null,
      "outputs": []
    },
    {
      "cell_type": "markdown",
      "source": [
        "## **Task 4:**\n",
        "- Using prior functions created, and model created and trained, make predictions and finally evaluate your model.\n",
        "\n",
        "- If your results could be better, try tunning some of the hyperparameters for Logistic Regression to improve your score.\n"
      ],
      "metadata": {
        "id": "3Lc6qtAPSYdL"
      }
    },
    {
      "cell_type": "markdown",
      "source": [
        "## **Step 8) Use all functions and evaluate every drug in every feature combination!**"
      ],
      "metadata": {
        "id": "N5lGr0hoDCip"
      }
    },
    {
      "cell_type": "markdown",
      "source": [
        "#### **a) Creating a loop with all possible drugs and feature combinations**\n",
        "\n",
        "Below is how we chose to chain these functions in order to get all our results and store them in a dictionary called **LG_model_metrics**. Note that this will take a long time as it is training for each drug every combination of features we have specified.  You can check the print out to see what model it's currently training.\n",
        "\n",
        "**NOTE:** If the waiting time is too long for you, feel free to focus on fewer of the drugs and fewer of the combinations. For example, you could loop over part of the drug_list (for drug in drug_list[:3])"
      ],
      "metadata": {
        "id": "yExXAdaWZL4_"
      }
    },
    {
      "cell_type": "code",
      "source": [
        "# Lets use all our functions this time and save our report into a single data structure\n",
        "LG_model_metrics = {}\n",
        "\n",
        "for drug in drug_list:\n",
        "  print(drug)\n",
        "  Drug_df = makeDF(drug) # creates one df per drug\n",
        "  Test_Train_dic = Split_train_test(Drug_df, drug) # splits each drug df into a dictionary with testing and training data\n",
        "  for combo in combo_list:\n",
        "    # Training each drug_combo features\n",
        "    labels_train = Test_Train_dic[\"labels_train\"]\n",
        "    features_train = combo_feat(Test_Train_dic[\"features_train\"], drug, combo) # create corresponding feature_df for training\n",
        "    LG_combo_model = run_LG(features_train, labels_train, drug, combo) # runs logistic regression model using the corresponding training feature_df \n",
        "    \n",
        "    # Predicting each drug_combo features\n",
        "    features_test = combo_feat(Test_Train_dic[\"features_test\"], drug, combo) # create corresponding feature_df for testing\n",
        "    labels_pred = predict(LG_combo_model, features_test) # generate predictions based on the feature combination tested\n",
        "\n",
        "    # Evaluating our models\n",
        "    labels_test = Test_Train_dic[\"labels_test\"]\n",
        "    report = evaluate(LG_combo_model, labels_test, labels_pred, cf=False)\n",
        "    LG_model_metrics[drug+\"_\"+combo] = report\n",
        "    \n",
        "    print(report)"
      ],
      "metadata": {
        "colab": {
          "base_uri": "https://localhost:8080/"
        },
        "id": "glSAeIj2DrnP",
        "outputId": "feafd3c2-2f92-4f85-f72c-3527d220e8f1"
      },
      "execution_count": null,
      "outputs": [
        {
          "output_type": "stream",
          "name": "stdout",
          "text": [
            "CTZ\n",
            "CTZ Training combo: G\n",
            "[0.9358372456964006, 0.6629213483146067, 0.98]\n",
            "CTZ Training combo: S\n",
            "[0.8450704225352113, 0.43820224719101125, 0.9109090909090909]\n",
            "CTZ Training combo: GY\n",
            "[0.9358372456964006, 0.6629213483146067, 0.98]\n",
            "CTZ Training combo: GS\n",
            "[0.8466353677621283, 0.43820224719101125, 0.9127272727272727]\n",
            "CTZ Training combo: SY\n",
            "[0.8482003129890454, 0.43820224719101125, 0.9145454545454546]\n",
            "CTZ Training combo: GYS\n",
            "[0.8403755868544601, 0.43820224719101125, 0.9054545454545454]\n",
            "CTX\n",
            "CTX Training combo: G\n",
            "[0.9641693811074918, 0.8442622950819673, 0.9939024390243902]\n",
            "CTX Training combo: S\n",
            "[0.8289902280130294, 0.6721311475409836, 0.8678861788617886]\n",
            "CTX Training combo: GY\n",
            "[0.9690553745928339, 0.8688524590163934, 0.9939024390243902]\n",
            "CTX Training combo: GS\n",
            "[0.8306188925081434, 0.6967213114754098, 0.8638211382113821]\n",
            "CTX Training combo: SY\n",
            "[0.8306188925081434, 0.6967213114754098, 0.8638211382113821]\n",
            "CTX Training combo: GYS\n",
            "[0.8371335504885994, 0.6967213114754098, 0.8719512195121951]\n",
            "AMP\n",
            "AMP Training combo: G\n",
            "[0.8237410071942446, 0.9130434782608695, 0.5633802816901409]\n",
            "AMP Training combo: S\n",
            "[0.6510791366906474, 0.7198067632850241, 0.4507042253521127]\n",
            "AMP Training combo: GY\n",
            "[0.8237410071942446, 0.9178743961352657, 0.5492957746478874]\n",
            "AMP Training combo: GS\n",
            "[0.6618705035971223, 0.7198067632850241, 0.49295774647887325]\n",
            "AMP Training combo: SY\n",
            "[0.6294964028776978, 0.6763285024154589, 0.49295774647887325]\n",
            "AMP Training combo: GYS\n",
            "[0.6366906474820144, 0.6763285024154589, 0.5211267605633803]\n",
            "AMX\n",
            "AMX Training combo: G\n",
            "[0.8729281767955801, 0.875, 0.8695652173913043]\n",
            "AMX Training combo: S\n",
            "[0.6215469613259669, 0.6830357142857143, 0.5217391304347826]\n",
            "AMX Training combo: GY\n",
            "[0.8756906077348067, 0.8794642857142857, 0.8695652173913043]\n",
            "AMX Training combo: GS\n",
            "[0.6325966850828729, 0.6919642857142857, 0.5362318840579711]\n",
            "AMX Training combo: SY\n",
            "[0.6243093922651933, 0.6785714285714286, 0.5362318840579711]\n",
            "AMX Training combo: GYS\n",
            "[0.6325966850828729, 0.6919642857142857, 0.5362318840579711]\n",
            "AMC\n",
            "AMC Training combo: G\n",
            "[0.7783783783783784, 0.5764705882352941, 0.8675324675324675]\n",
            "AMC Training combo: S\n",
            "[0.654054054054054, 0.40588235294117647, 0.7636363636363637]\n",
            "AMC Training combo: GY\n",
            "[0.7801801801801802, 0.5823529411764706, 0.8675324675324675]\n",
            "AMC Training combo: GS\n",
            "[0.6612612612612613, 0.45294117647058824, 0.7532467532467533]\n",
            "AMC Training combo: SY\n",
            "[0.6504504504504505, 0.4294117647058823, 0.7480519480519481]\n",
            "AMC Training combo: GYS\n",
            "[0.6738738738738739, 0.3941176470588235, 0.7974025974025974]\n",
            "TZP\n",
            "TZP Training combo: G\n",
            "[0.9314079422382672, 0.09090909090909091, 0.9846449136276392]\n",
            "TZP Training combo: S\n",
            "[0.8411552346570397, 0.12121212121212122, 0.8867562380038387]\n",
            "TZP Training combo: GY\n",
            "[0.9314079422382672, 0.09090909090909091, 0.9846449136276392]\n",
            "TZP Training combo: GS\n",
            "[0.8285198555956679, 0.18181818181818182, 0.8694817658349329]\n",
            "TZP Training combo: SY\n",
            "[0.8375451263537906, 0.12121212121212122, 0.8829174664107485]\n",
            "TZP Training combo: GYS\n",
            "[0.8357400722021661, 0.12121212121212122, 0.8809980806142035]\n",
            "CXM\n",
            "CXM Training combo: G\n",
            "[0.8716744913928013, 0.664804469273743, 0.9521739130434783]\n",
            "CXM Training combo: S\n",
            "[0.755868544600939, 0.5642458100558659, 0.8304347826086956]\n",
            "CXM Training combo: GY\n",
            "[0.8763693270735524, 0.659217877094972, 0.9608695652173913]\n",
            "CXM Training combo: GS\n",
            "[0.758998435054773, 0.5698324022346368, 0.8326086956521739]\n",
            "CXM Training combo: SY\n",
            "[0.755868544600939, 0.5586592178770949, 0.8326086956521739]\n",
            "CXM Training combo: GYS\n",
            "[0.758998435054773, 0.5698324022346368, 0.8326086956521739]\n",
            "CET\n",
            "CET Training combo: G\n",
            "[0.8525179856115108, 0.8173913043478261, 0.8773006134969326]\n",
            "CET Training combo: S\n",
            "[0.7446043165467626, 0.7739130434782608, 0.7239263803680982]\n",
            "CET Training combo: GY\n",
            "[0.8525179856115108, 0.8173913043478261, 0.8773006134969326]\n",
            "CET Training combo: GS\n",
            "[0.7517985611510791, 0.7652173913043478, 0.7423312883435583]\n",
            "CET Training combo: SY\n",
            "[0.7553956834532374, 0.782608695652174, 0.7361963190184049]\n",
            "CET Training combo: GYS\n",
            "[0.762589928057554, 0.7913043478260869, 0.7423312883435583]\n",
            "GEN\n",
            "GEN Training combo: G\n",
            "[0.9389671361502347, 0.696969696969697, 0.9833333333333333]\n",
            "GEN Training combo: S\n",
            "[0.8294209702660407, 0.5353535353535354, 0.8833333333333333]\n",
            "GEN Training combo: GY\n",
            "[0.9342723004694836, 0.6767676767676768, 0.9814814814814815]\n",
            "GEN Training combo: GS\n",
            "[0.8294209702660407, 0.5252525252525253, 0.8851851851851852]\n",
            "GEN Training combo: SY\n",
            "[0.8262910798122066, 0.48484848484848486, 0.8888888888888888]\n",
            "GEN Training combo: GYS\n",
            "[0.8325508607198748, 0.5353535353535354, 0.8870370370370371]\n",
            "TBM\n",
            "TBM Training combo: G\n",
            "[0.8489208633093526, 0.6741573033707865, 0.9312169312169312]\n",
            "TBM Training combo: S\n",
            "[0.7482014388489209, 0.6404494382022472, 0.798941798941799]\n",
            "TBM Training combo: GY\n",
            "[0.8489208633093526, 0.6741573033707865, 0.9312169312169312]\n",
            "TBM Training combo: GS\n",
            "[0.7482014388489209, 0.6292134831460674, 0.8042328042328042]\n",
            "TBM Training combo: SY\n",
            "[0.737410071942446, 0.6179775280898876, 0.7936507936507936]\n",
            "TBM Training combo: GYS\n",
            "[0.7517985611510791, 0.6404494382022472, 0.8042328042328042]\n",
            "TMP\n",
            "TMP Training combo: G\n",
            "[0.8705035971223022, 0.8571428571428571, 0.8805031446540881]\n",
            "TMP Training combo: S\n",
            "[0.6294964028776978, 0.5966386554621849, 0.6540880503144654]\n",
            "TMP Training combo: GY\n",
            "[0.8705035971223022, 0.8571428571428571, 0.8805031446540881]\n",
            "TMP Training combo: GS\n",
            "[0.6258992805755396, 0.5798319327731093, 0.660377358490566]\n",
            "TMP Training combo: SY\n",
            "[0.6223021582733813, 0.5882352941176471, 0.6477987421383647]\n",
            "TMP Training combo: GYS\n",
            "[0.6187050359712231, 0.5966386554621849, 0.6352201257861635]\n",
            "CIP\n",
            "CIP Training combo: G\n",
            "[0.9499217527386542, 0.8424657534246576, 0.9817444219066938]\n",
            "CIP Training combo: S\n",
            "[0.8544600938967136, 0.7534246575342466, 0.8843813387423936]\n",
            "CIP Training combo: GY\n",
            "[0.9499217527386542, 0.8424657534246576, 0.9817444219066938]\n",
            "CIP Training combo: GS\n",
            "[0.8497652582159625, 0.7465753424657534, 0.8803245436105477]\n",
            "CIP Training combo: SY\n",
            "[0.8419405320813772, 0.7534246575342466, 0.8681541582150102]\n",
            "CIP Training combo: GYS\n",
            "[0.8591549295774648, 0.7671232876712328, 0.8864097363083164]\n"
          ]
        }
      ]
    },
    {
      "cell_type": "markdown",
      "source": [
        "#### **b) Store the metrics report for all drugs and features combinations as a csv file**"
      ],
      "metadata": {
        "id": "m8CQMKARZ1zC"
      }
    },
    {
      "cell_type": "code",
      "source": [
        "# convert dictionary into a dataframe\n",
        "LG_metrics = pd.DataFrame.from_dict(LG_model_metrics, orient='index',columns=[\"Accuracy\", \"R_recall\", \"S_recall\"]).reset_index()\n",
        "LG_metrics = LG_metrics.rename(columns = {'index':'Drug_combo'})\n",
        "\n",
        "# saving our metric results into a CSV file\n",
        "LG_metrics.to_csv(filepath+\"LG_metrics_df.csv\", index= False)\n",
        "LG_metrics\n"
      ],
      "metadata": {
        "colab": {
          "base_uri": "https://localhost:8080/",
          "height": 424
        },
        "id": "VmNdWS65fhRn",
        "outputId": "a7456de1-0ceb-4b39-f6b5-832a0417e771"
      },
      "execution_count": null,
      "outputs": [
        {
          "output_type": "execute_result",
          "data": {
            "text/plain": [
              "   Drug_combo  Accuracy  R_recall  S_recall\n",
              "0       CTZ_G  0.935837  0.662921  0.980000\n",
              "1       CTZ_S  0.845070  0.438202  0.910909\n",
              "2      CTZ_GY  0.935837  0.662921  0.980000\n",
              "3      CTZ_GS  0.846635  0.438202  0.912727\n",
              "4      CTZ_SY  0.848200  0.438202  0.914545\n",
              "..        ...       ...       ...       ...\n",
              "67      CIP_S  0.854460  0.753425  0.884381\n",
              "68     CIP_GY  0.949922  0.842466  0.981744\n",
              "69     CIP_GS  0.849765  0.746575  0.880325\n",
              "70     CIP_SY  0.841941  0.753425  0.868154\n",
              "71    CIP_GYS  0.859155  0.767123  0.886410\n",
              "\n",
              "[72 rows x 4 columns]"
            ],
            "text/html": [
              "\n",
              "  <div id=\"df-7be0589f-feb7-44d9-8d5e-4944edbc4da9\">\n",
              "    <div class=\"colab-df-container\">\n",
              "      <div>\n",
              "<style scoped>\n",
              "    .dataframe tbody tr th:only-of-type {\n",
              "        vertical-align: middle;\n",
              "    }\n",
              "\n",
              "    .dataframe tbody tr th {\n",
              "        vertical-align: top;\n",
              "    }\n",
              "\n",
              "    .dataframe thead th {\n",
              "        text-align: right;\n",
              "    }\n",
              "</style>\n",
              "<table border=\"1\" class=\"dataframe\">\n",
              "  <thead>\n",
              "    <tr style=\"text-align: right;\">\n",
              "      <th></th>\n",
              "      <th>Drug_combo</th>\n",
              "      <th>Accuracy</th>\n",
              "      <th>R_recall</th>\n",
              "      <th>S_recall</th>\n",
              "    </tr>\n",
              "  </thead>\n",
              "  <tbody>\n",
              "    <tr>\n",
              "      <th>0</th>\n",
              "      <td>CTZ_G</td>\n",
              "      <td>0.935837</td>\n",
              "      <td>0.662921</td>\n",
              "      <td>0.980000</td>\n",
              "    </tr>\n",
              "    <tr>\n",
              "      <th>1</th>\n",
              "      <td>CTZ_S</td>\n",
              "      <td>0.845070</td>\n",
              "      <td>0.438202</td>\n",
              "      <td>0.910909</td>\n",
              "    </tr>\n",
              "    <tr>\n",
              "      <th>2</th>\n",
              "      <td>CTZ_GY</td>\n",
              "      <td>0.935837</td>\n",
              "      <td>0.662921</td>\n",
              "      <td>0.980000</td>\n",
              "    </tr>\n",
              "    <tr>\n",
              "      <th>3</th>\n",
              "      <td>CTZ_GS</td>\n",
              "      <td>0.846635</td>\n",
              "      <td>0.438202</td>\n",
              "      <td>0.912727</td>\n",
              "    </tr>\n",
              "    <tr>\n",
              "      <th>4</th>\n",
              "      <td>CTZ_SY</td>\n",
              "      <td>0.848200</td>\n",
              "      <td>0.438202</td>\n",
              "      <td>0.914545</td>\n",
              "    </tr>\n",
              "    <tr>\n",
              "      <th>...</th>\n",
              "      <td>...</td>\n",
              "      <td>...</td>\n",
              "      <td>...</td>\n",
              "      <td>...</td>\n",
              "    </tr>\n",
              "    <tr>\n",
              "      <th>67</th>\n",
              "      <td>CIP_S</td>\n",
              "      <td>0.854460</td>\n",
              "      <td>0.753425</td>\n",
              "      <td>0.884381</td>\n",
              "    </tr>\n",
              "    <tr>\n",
              "      <th>68</th>\n",
              "      <td>CIP_GY</td>\n",
              "      <td>0.949922</td>\n",
              "      <td>0.842466</td>\n",
              "      <td>0.981744</td>\n",
              "    </tr>\n",
              "    <tr>\n",
              "      <th>69</th>\n",
              "      <td>CIP_GS</td>\n",
              "      <td>0.849765</td>\n",
              "      <td>0.746575</td>\n",
              "      <td>0.880325</td>\n",
              "    </tr>\n",
              "    <tr>\n",
              "      <th>70</th>\n",
              "      <td>CIP_SY</td>\n",
              "      <td>0.841941</td>\n",
              "      <td>0.753425</td>\n",
              "      <td>0.868154</td>\n",
              "    </tr>\n",
              "    <tr>\n",
              "      <th>71</th>\n",
              "      <td>CIP_GYS</td>\n",
              "      <td>0.859155</td>\n",
              "      <td>0.767123</td>\n",
              "      <td>0.886410</td>\n",
              "    </tr>\n",
              "  </tbody>\n",
              "</table>\n",
              "<p>72 rows × 4 columns</p>\n",
              "</div>\n",
              "      <button class=\"colab-df-convert\" onclick=\"convertToInteractive('df-7be0589f-feb7-44d9-8d5e-4944edbc4da9')\"\n",
              "              title=\"Convert this dataframe to an interactive table.\"\n",
              "              style=\"display:none;\">\n",
              "        \n",
              "  <svg xmlns=\"http://www.w3.org/2000/svg\" height=\"24px\"viewBox=\"0 0 24 24\"\n",
              "       width=\"24px\">\n",
              "    <path d=\"M0 0h24v24H0V0z\" fill=\"none\"/>\n",
              "    <path d=\"M18.56 5.44l.94 2.06.94-2.06 2.06-.94-2.06-.94-.94-2.06-.94 2.06-2.06.94zm-11 1L8.5 8.5l.94-2.06 2.06-.94-2.06-.94L8.5 2.5l-.94 2.06-2.06.94zm10 10l.94 2.06.94-2.06 2.06-.94-2.06-.94-.94-2.06-.94 2.06-2.06.94z\"/><path d=\"M17.41 7.96l-1.37-1.37c-.4-.4-.92-.59-1.43-.59-.52 0-1.04.2-1.43.59L10.3 9.45l-7.72 7.72c-.78.78-.78 2.05 0 2.83L4 21.41c.39.39.9.59 1.41.59.51 0 1.02-.2 1.41-.59l7.78-7.78 2.81-2.81c.8-.78.8-2.07 0-2.86zM5.41 20L4 18.59l7.72-7.72 1.47 1.35L5.41 20z\"/>\n",
              "  </svg>\n",
              "      </button>\n",
              "      \n",
              "  <style>\n",
              "    .colab-df-container {\n",
              "      display:flex;\n",
              "      flex-wrap:wrap;\n",
              "      gap: 12px;\n",
              "    }\n",
              "\n",
              "    .colab-df-convert {\n",
              "      background-color: #E8F0FE;\n",
              "      border: none;\n",
              "      border-radius: 50%;\n",
              "      cursor: pointer;\n",
              "      display: none;\n",
              "      fill: #1967D2;\n",
              "      height: 32px;\n",
              "      padding: 0 0 0 0;\n",
              "      width: 32px;\n",
              "    }\n",
              "\n",
              "    .colab-df-convert:hover {\n",
              "      background-color: #E2EBFA;\n",
              "      box-shadow: 0px 1px 2px rgba(60, 64, 67, 0.3), 0px 1px 3px 1px rgba(60, 64, 67, 0.15);\n",
              "      fill: #174EA6;\n",
              "    }\n",
              "\n",
              "    [theme=dark] .colab-df-convert {\n",
              "      background-color: #3B4455;\n",
              "      fill: #D2E3FC;\n",
              "    }\n",
              "\n",
              "    [theme=dark] .colab-df-convert:hover {\n",
              "      background-color: #434B5C;\n",
              "      box-shadow: 0px 1px 3px 1px rgba(0, 0, 0, 0.15);\n",
              "      filter: drop-shadow(0px 1px 2px rgba(0, 0, 0, 0.3));\n",
              "      fill: #FFFFFF;\n",
              "    }\n",
              "  </style>\n",
              "\n",
              "      <script>\n",
              "        const buttonEl =\n",
              "          document.querySelector('#df-7be0589f-feb7-44d9-8d5e-4944edbc4da9 button.colab-df-convert');\n",
              "        buttonEl.style.display =\n",
              "          google.colab.kernel.accessAllowed ? 'block' : 'none';\n",
              "\n",
              "        async function convertToInteractive(key) {\n",
              "          const element = document.querySelector('#df-7be0589f-feb7-44d9-8d5e-4944edbc4da9');\n",
              "          const dataTable =\n",
              "            await google.colab.kernel.invokeFunction('convertToInteractive',\n",
              "                                                     [key], {});\n",
              "          if (!dataTable) return;\n",
              "\n",
              "          const docLinkHtml = 'Like what you see? Visit the ' +\n",
              "            '<a target=\"_blank\" href=https://colab.research.google.com/notebooks/data_table.ipynb>data table notebook</a>'\n",
              "            + ' to learn more about interactive tables.';\n",
              "          element.innerHTML = '';\n",
              "          dataTable['output_type'] = 'display_data';\n",
              "          await google.colab.output.renderOutput(dataTable, element);\n",
              "          const docLink = document.createElement('div');\n",
              "          docLink.innerHTML = docLinkHtml;\n",
              "          element.appendChild(docLink);\n",
              "        }\n",
              "      </script>\n",
              "    </div>\n",
              "  </div>\n",
              "  "
            ]
          },
          "metadata": {},
          "execution_count": 21
        }
      ]
    },
    {
      "cell_type": "markdown",
      "source": [
        "## **Task 5:**\n",
        "- Create a bar chart showcasing all the results from the Logistic Regression model, after tunning your model.\n",
        "\n",
        "- What do you think about the performance of your Logistic Regression model in comparison to all the models you have created before?"
      ],
      "metadata": {
        "id": "2-6NzvrsbZaH"
      }
    },
    {
      "cell_type": "code",
      "source": [
        "# Input your code for task 5 in this cell!"
      ],
      "metadata": {
        "id": "EjJPvIVeRrPr"
      },
      "execution_count": null,
      "outputs": []
    },
    {
      "cell_type": "markdown",
      "source": [
        "**Task 5 answer:**"
      ],
      "metadata": {
        "id": "JHA_FYC-Rt9Z"
      }
    },
    {
      "cell_type": "markdown",
      "source": [
        "# 🙂 Woohoo, you finished working on a complex project using three different machine learning models (gradient boosted tree, random forest and logistic regression) ! You are almost done with all the modules, we hope you feel proud of all the knownledge you had acquired. "
      ],
      "metadata": {
        "id": "1UsrBTAk5buA"
      }
    }
  ]
}