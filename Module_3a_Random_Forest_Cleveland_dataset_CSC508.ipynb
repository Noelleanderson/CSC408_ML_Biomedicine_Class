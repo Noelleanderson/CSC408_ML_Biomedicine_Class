{
  "nbformat": 4,
  "nbformat_minor": 0,
  "metadata": {
    "colab": {
      "provenance": [],
      "include_colab_link": true
    },
    "kernelspec": {
      "name": "python3",
      "display_name": "Python 3"
    }
  },
  "cells": [
    {
      "cell_type": "markdown",
      "metadata": {
        "id": "view-in-github",
        "colab_type": "text"
      },
      "source": [
        "<a href=\"https://colab.research.google.com/github/pleunipennings/CSC508_ML_Biomedicine_Class/blob/main/Module_3a_Random_Forest_Cleveland_dataset_CSC508.ipynb\" target=\"_parent\"><img src=\"https://colab.research.google.com/assets/colab-badge.svg\" alt=\"Open In Colab\"/></a>"
      ]
    },
    {
      "cell_type": "markdown",
      "metadata": {
        "id": "z7WqFNeW_z3y"
      },
      "source": [
        "## **Welcome to the module 3a coding part: Random Forest!**\n",
        "\n",
        "*This notebook was originally created at San Francisco State University (SFSU) by Vaisakh Kusabhadran, Amisha Dhawan, Yuomi Zavaleta (all SFSU students) and Pleuni Pennings (SFSU bio professor).* \n",
        "\n",
        "*This notebook was edited for the Promoting INclusivity and Computing (PINC) and gSTAR programs by Dr. Pleuni Pennings, Lucy Moctezuma Tan and Lorena Benitez-Rivera (master students) all members of the COde to understand Drug resistance Evolution (CODE) lab at SFSU in 2023.*"
      ]
    },
    {
      "cell_type": "markdown",
      "source": [
        "#OBJECTIVE OF THIS NOTEBOOK:\n",
        "\n",
        "In this notebook we will revisit the Cleaveland heart disease dataset, this time we will use a **Random Forest** to make our predictions rather than just using a single Decision Tree. Below is a summary of the variables that this dataset contains.\n",
        "\n",
        "<ul type = \"square\">\n",
        "<li> [1] #3 Age: age in years</li>\n",
        "<li> [2] #4 Sex: sex (1 = male; 0 = female)</li>\n",
        "<li> [3] #9 Chest_pain_type\n",
        "<ul>\n",
        "<li>Value 1: typical angina\n",
        "<li>Value 2: atypical angina\n",
        "<li>Value 3: non-anginal pain\n",
        "<li>Value 4: asymptomatic</li>\n",
        "</ul>\n",
        "<li> [4] #10 At_rest_bp: resting blood pressure (in mm Hg on admission to the hospital)</li>\n",
        "<li> [5] #12 Cholesterol: serum cholestoral in mg/dl </li>\n",
        "<li> [6] #16 Fast_blood_sug: (fasting blood sugar > 120 mg/dl) (1 = true; 0 = false)</li>\n",
        "<li> [7] #19 Rest_ecg: resting electrocardiographic results\n",
        "<ul>\n",
        "<li>Value 0: normal\n",
        "<li>Value 1: having ST-T wave abnormality (T wave inversions and/or ST elevation or depression of > 0.05 mV)\n",
        "<li>Value 2: showing probable or definite left ventricular hypertrophy by Estes' criteria</li>\n",
        "</ul>\n",
        "<li> [8] #32 Maxhr: thalach: maximum heart rate achieved</li>\n",
        "<li> [9] #38 Exer_angina: exang: exercise induced angina (1 = yes; 0 = no)</li>\n",
        "<li> [10] #40 Oldpeak: ST depression induced by exercise relative to rest </li>\n",
        "<li> [11] #41 Slope: the slope of the peak exercise ST segment\n",
        "<ul>\n",
        "<li> Value 1: upsloping</li>\n",
        "<li> Value 2: flat</li>\n",
        "<li> Value 3: downsloping</li>\n",
        "</ul>\n",
        "<li> [12] #44 Ca: number of major vessels (0-3) colored by flourosopy</li>\n",
        "<li> [13] #51 Thal: Thallium or stress test 3 = normal; 6 = fixed defect; 7 = reversable defect. See this\n",
        "<a href=\"https://www.healthline.com/health/thallium-stress-test\">website</a>\n",
        "for more info on the thallium or stress test.\n",
        "</li>\n",
        "<li> [14] #58 Diag: num: diagnosis of heart disease (angiographic disease status)\n",
        "<ul>\n",
        "<li>Value 0: no vessel with 50% diameter narrowing</li>\n",
        "<li>Value 1: one vessel with 50% diameter narrowing</li>\n",
        "<li>Value 2,3,4: 2,3,4 vessels with 50% diameter narrowing</li>\n",
        "</ul>\n",
        "</li>\n",
        "</ul>\n",
        "\n",
        "The **goal** of this notebook is to work with a random forest model. \n",
        "\n",
        "Your mission is to run each cell, see what happens, and answer some questions based on the code. \n",
        "\n",
        "# Let's look at the Cleveland dataset again using a **Random Forest model**. "
      ],
      "metadata": {
        "id": "w8mECq8USHsd"
      }
    },
    {
      "cell_type": "markdown",
      "source": [
        "#WHAT ARE RANDOM FOREST?\n",
        "\n",
        "In this notebook you will make a random forest. A random forest is a collection of random-ish decision trees. This model essentially combines the output of multiple decision trees to reach a particular prediction. Most jargon in Machine Learning is just ugly, imo. But Random Forest sounds nice to me, a little poetic. If I were a singer-songwriter, I could imagine titling my album after random forests.  \n",
        "\n",
        "![PleunismusicAlbum.png](https://drive.google.com/uc?export=view&id=1-CtmRWaxAVuq8twD_rx6-qxS2kUJ1z0U)\n",
        "\n",
        "You can find more information about Random Forest here: [Scikit-learn: Random Forest](https://scikit-learn.org/stable/modules/generated/sklearn.ensemble.RandomForestClassifier.html)"
      ],
      "metadata": {
        "id": "-_PIWEAUN64B"
      }
    },
    {
      "cell_type": "markdown",
      "metadata": {
        "id": "cImVL7v-FJAn"
      },
      "source": [
        "### **Task 1:** Exploring the data (Questions 1-4)"
      ]
    },
    {
      "cell_type": "markdown",
      "metadata": {
        "id": "s9E3Qi2A-gc3"
      },
      "source": [
        "##**Step 1) Preparing packages**\n",
        "\n",
        "Importing all the necessary packages needed for processing"
      ]
    },
    {
      "cell_type": "code",
      "metadata": {
        "id": "q1v9MGH25h_K"
      },
      "source": [
        "# Importing packages that deal with Data manipulation and visualization\n",
        "import pandas as pd\n",
        "import numpy as np\n",
        "\n",
        "# importing libraries for ML model\n",
        "from sklearn.metrics import ConfusionMatrixDisplay\n",
        "from sklearn import metrics\n",
        "from sklearn.model_selection import train_test_split\n",
        "from sklearn.ensemble import RandomForestClassifier\n",
        "from sklearn import tree\n",
        "\n",
        "# packages for plotting\n",
        "import matplotlib.pyplot as plt\n",
        "import seaborn as sns\n",
        "import graphviz"
      ],
      "execution_count": 1,
      "outputs": []
    },
    {
      "cell_type": "markdown",
      "metadata": {
        "id": "hfHd_SKo-9oy"
      },
      "source": [
        "##**Step 2) Importing Cleveland dataset**\n",
        "\n",
        "Reading the dataset from the github repository"
      ]
    },
    {
      "cell_type": "code",
      "metadata": {
        "id": "H6xyLXa-4sBA",
        "colab": {
          "base_uri": "https://localhost:8080/",
          "height": 206
        },
        "outputId": "ebb7c847-a047-4496-b84c-3a48032918bc"
      },
      "source": [
        "# Loading Data from Class github\n",
        "columns = [\"Age\",\"Sex\",\"Chest_pain_type\",\"At_rest_bp\",\"Cholesterol\",\"Fast_blood_sug\",\"Rest_ecg\",\"Maxhr\",\"Exer_angina\",\"Oldpeak\",\"Slope\",\"Ca\",\"Thal\",\"Diag\"]\n",
        "cleveland_data = pd.read_csv('https://raw.githubusercontent.com/pleunipennings/CSC508Data/main/processed.cleveland.data.txt',header=None,names=columns )\n",
        "\n",
        "cleveland_data.head()"
      ],
      "execution_count": 2,
      "outputs": [
        {
          "output_type": "execute_result",
          "data": {
            "text/plain": [
              "    Age  Sex  Chest_pain_type  At_rest_bp  Cholesterol  Fast_blood_sug  \\\n",
              "0  63.0  1.0              1.0       145.0        233.0             1.0   \n",
              "1  67.0  1.0              4.0       160.0        286.0             0.0   \n",
              "2  67.0  1.0              4.0       120.0        229.0             0.0   \n",
              "3  37.0  1.0              3.0       130.0        250.0             0.0   \n",
              "4  41.0  0.0              2.0       130.0        204.0             0.0   \n",
              "\n",
              "   Rest_ecg  Maxhr  Exer_angina  Oldpeak  Slope   Ca Thal  Diag  \n",
              "0       2.0  150.0          0.0      2.3    3.0  0.0  6.0     0  \n",
              "1       2.0  108.0          1.0      1.5    2.0  3.0  3.0     2  \n",
              "2       2.0  129.0          1.0      2.6    2.0  2.0  7.0     1  \n",
              "3       0.0  187.0          0.0      3.5    3.0  0.0  3.0     0  \n",
              "4       2.0  172.0          0.0      1.4    1.0  0.0  3.0     0  "
            ],
            "text/html": [
              "\n",
              "  <div id=\"df-6a781cd2-db14-4e31-9fdf-343f4b52fbaf\">\n",
              "    <div class=\"colab-df-container\">\n",
              "      <div>\n",
              "<style scoped>\n",
              "    .dataframe tbody tr th:only-of-type {\n",
              "        vertical-align: middle;\n",
              "    }\n",
              "\n",
              "    .dataframe tbody tr th {\n",
              "        vertical-align: top;\n",
              "    }\n",
              "\n",
              "    .dataframe thead th {\n",
              "        text-align: right;\n",
              "    }\n",
              "</style>\n",
              "<table border=\"1\" class=\"dataframe\">\n",
              "  <thead>\n",
              "    <tr style=\"text-align: right;\">\n",
              "      <th></th>\n",
              "      <th>Age</th>\n",
              "      <th>Sex</th>\n",
              "      <th>Chest_pain_type</th>\n",
              "      <th>At_rest_bp</th>\n",
              "      <th>Cholesterol</th>\n",
              "      <th>Fast_blood_sug</th>\n",
              "      <th>Rest_ecg</th>\n",
              "      <th>Maxhr</th>\n",
              "      <th>Exer_angina</th>\n",
              "      <th>Oldpeak</th>\n",
              "      <th>Slope</th>\n",
              "      <th>Ca</th>\n",
              "      <th>Thal</th>\n",
              "      <th>Diag</th>\n",
              "    </tr>\n",
              "  </thead>\n",
              "  <tbody>\n",
              "    <tr>\n",
              "      <th>0</th>\n",
              "      <td>63.0</td>\n",
              "      <td>1.0</td>\n",
              "      <td>1.0</td>\n",
              "      <td>145.0</td>\n",
              "      <td>233.0</td>\n",
              "      <td>1.0</td>\n",
              "      <td>2.0</td>\n",
              "      <td>150.0</td>\n",
              "      <td>0.0</td>\n",
              "      <td>2.3</td>\n",
              "      <td>3.0</td>\n",
              "      <td>0.0</td>\n",
              "      <td>6.0</td>\n",
              "      <td>0</td>\n",
              "    </tr>\n",
              "    <tr>\n",
              "      <th>1</th>\n",
              "      <td>67.0</td>\n",
              "      <td>1.0</td>\n",
              "      <td>4.0</td>\n",
              "      <td>160.0</td>\n",
              "      <td>286.0</td>\n",
              "      <td>0.0</td>\n",
              "      <td>2.0</td>\n",
              "      <td>108.0</td>\n",
              "      <td>1.0</td>\n",
              "      <td>1.5</td>\n",
              "      <td>2.0</td>\n",
              "      <td>3.0</td>\n",
              "      <td>3.0</td>\n",
              "      <td>2</td>\n",
              "    </tr>\n",
              "    <tr>\n",
              "      <th>2</th>\n",
              "      <td>67.0</td>\n",
              "      <td>1.0</td>\n",
              "      <td>4.0</td>\n",
              "      <td>120.0</td>\n",
              "      <td>229.0</td>\n",
              "      <td>0.0</td>\n",
              "      <td>2.0</td>\n",
              "      <td>129.0</td>\n",
              "      <td>1.0</td>\n",
              "      <td>2.6</td>\n",
              "      <td>2.0</td>\n",
              "      <td>2.0</td>\n",
              "      <td>7.0</td>\n",
              "      <td>1</td>\n",
              "    </tr>\n",
              "    <tr>\n",
              "      <th>3</th>\n",
              "      <td>37.0</td>\n",
              "      <td>1.0</td>\n",
              "      <td>3.0</td>\n",
              "      <td>130.0</td>\n",
              "      <td>250.0</td>\n",
              "      <td>0.0</td>\n",
              "      <td>0.0</td>\n",
              "      <td>187.0</td>\n",
              "      <td>0.0</td>\n",
              "      <td>3.5</td>\n",
              "      <td>3.0</td>\n",
              "      <td>0.0</td>\n",
              "      <td>3.0</td>\n",
              "      <td>0</td>\n",
              "    </tr>\n",
              "    <tr>\n",
              "      <th>4</th>\n",
              "      <td>41.0</td>\n",
              "      <td>0.0</td>\n",
              "      <td>2.0</td>\n",
              "      <td>130.0</td>\n",
              "      <td>204.0</td>\n",
              "      <td>0.0</td>\n",
              "      <td>2.0</td>\n",
              "      <td>172.0</td>\n",
              "      <td>0.0</td>\n",
              "      <td>1.4</td>\n",
              "      <td>1.0</td>\n",
              "      <td>0.0</td>\n",
              "      <td>3.0</td>\n",
              "      <td>0</td>\n",
              "    </tr>\n",
              "  </tbody>\n",
              "</table>\n",
              "</div>\n",
              "      <button class=\"colab-df-convert\" onclick=\"convertToInteractive('df-6a781cd2-db14-4e31-9fdf-343f4b52fbaf')\"\n",
              "              title=\"Convert this dataframe to an interactive table.\"\n",
              "              style=\"display:none;\">\n",
              "        \n",
              "  <svg xmlns=\"http://www.w3.org/2000/svg\" height=\"24px\"viewBox=\"0 0 24 24\"\n",
              "       width=\"24px\">\n",
              "    <path d=\"M0 0h24v24H0V0z\" fill=\"none\"/>\n",
              "    <path d=\"M18.56 5.44l.94 2.06.94-2.06 2.06-.94-2.06-.94-.94-2.06-.94 2.06-2.06.94zm-11 1L8.5 8.5l.94-2.06 2.06-.94-2.06-.94L8.5 2.5l-.94 2.06-2.06.94zm10 10l.94 2.06.94-2.06 2.06-.94-2.06-.94-.94-2.06-.94 2.06-2.06.94z\"/><path d=\"M17.41 7.96l-1.37-1.37c-.4-.4-.92-.59-1.43-.59-.52 0-1.04.2-1.43.59L10.3 9.45l-7.72 7.72c-.78.78-.78 2.05 0 2.83L4 21.41c.39.39.9.59 1.41.59.51 0 1.02-.2 1.41-.59l7.78-7.78 2.81-2.81c.8-.78.8-2.07 0-2.86zM5.41 20L4 18.59l7.72-7.72 1.47 1.35L5.41 20z\"/>\n",
              "  </svg>\n",
              "      </button>\n",
              "      \n",
              "  <style>\n",
              "    .colab-df-container {\n",
              "      display:flex;\n",
              "      flex-wrap:wrap;\n",
              "      gap: 12px;\n",
              "    }\n",
              "\n",
              "    .colab-df-convert {\n",
              "      background-color: #E8F0FE;\n",
              "      border: none;\n",
              "      border-radius: 50%;\n",
              "      cursor: pointer;\n",
              "      display: none;\n",
              "      fill: #1967D2;\n",
              "      height: 32px;\n",
              "      padding: 0 0 0 0;\n",
              "      width: 32px;\n",
              "    }\n",
              "\n",
              "    .colab-df-convert:hover {\n",
              "      background-color: #E2EBFA;\n",
              "      box-shadow: 0px 1px 2px rgba(60, 64, 67, 0.3), 0px 1px 3px 1px rgba(60, 64, 67, 0.15);\n",
              "      fill: #174EA6;\n",
              "    }\n",
              "\n",
              "    [theme=dark] .colab-df-convert {\n",
              "      background-color: #3B4455;\n",
              "      fill: #D2E3FC;\n",
              "    }\n",
              "\n",
              "    [theme=dark] .colab-df-convert:hover {\n",
              "      background-color: #434B5C;\n",
              "      box-shadow: 0px 1px 3px 1px rgba(0, 0, 0, 0.15);\n",
              "      filter: drop-shadow(0px 1px 2px rgba(0, 0, 0, 0.3));\n",
              "      fill: #FFFFFF;\n",
              "    }\n",
              "  </style>\n",
              "\n",
              "      <script>\n",
              "        const buttonEl =\n",
              "          document.querySelector('#df-6a781cd2-db14-4e31-9fdf-343f4b52fbaf button.colab-df-convert');\n",
              "        buttonEl.style.display =\n",
              "          google.colab.kernel.accessAllowed ? 'block' : 'none';\n",
              "\n",
              "        async function convertToInteractive(key) {\n",
              "          const element = document.querySelector('#df-6a781cd2-db14-4e31-9fdf-343f4b52fbaf');\n",
              "          const dataTable =\n",
              "            await google.colab.kernel.invokeFunction('convertToInteractive',\n",
              "                                                     [key], {});\n",
              "          if (!dataTable) return;\n",
              "\n",
              "          const docLinkHtml = 'Like what you see? Visit the ' +\n",
              "            '<a target=\"_blank\" href=https://colab.research.google.com/notebooks/data_table.ipynb>data table notebook</a>'\n",
              "            + ' to learn more about interactive tables.';\n",
              "          element.innerHTML = '';\n",
              "          dataTable['output_type'] = 'display_data';\n",
              "          await google.colab.output.renderOutput(dataTable, element);\n",
              "          const docLink = document.createElement('div');\n",
              "          docLink.innerHTML = docLinkHtml;\n",
              "          element.appendChild(docLink);\n",
              "        }\n",
              "      </script>\n",
              "    </div>\n",
              "  </div>\n",
              "  "
            ]
          },
          "metadata": {},
          "execution_count": 2
        }
      ]
    },
    {
      "cell_type": "markdown",
      "metadata": {
        "id": "D1S_Tos3_z0G"
      },
      "source": [
        "##**Step 3) Dealing with missing data**\n",
        "\n",
        "Replacing '?' in the dataset with the median value for that column. "
      ]
    },
    {
      "cell_type": "code",
      "metadata": {
        "id": "jqUVxOto5g9J",
        "colab": {
          "base_uri": "https://localhost:8080/"
        },
        "outputId": "24afed66-3800-440d-feeb-dffa4e9f3bfe"
      },
      "source": [
        "# dealing with missing values\n",
        "cleveland_data = cleveland_data.replace('?', np.nan)\n",
        "cleveland_data['Thal'] = cleveland_data['Thal'].fillna(cleveland_data['Thal'].median())\n",
        "cleveland_data['Ca'] = cleveland_data['Ca'].fillna(cleveland_data['Ca'].median())\n",
        "\n",
        "# checking number of missing values afterwards \n",
        "(cleveland_data==np.nan).sum()"
      ],
      "execution_count": 3,
      "outputs": [
        {
          "output_type": "execute_result",
          "data": {
            "text/plain": [
              "Age                0\n",
              "Sex                0\n",
              "Chest_pain_type    0\n",
              "At_rest_bp         0\n",
              "Cholesterol        0\n",
              "Fast_blood_sug     0\n",
              "Rest_ecg           0\n",
              "Maxhr              0\n",
              "Exer_angina        0\n",
              "Oldpeak            0\n",
              "Slope              0\n",
              "Ca                 0\n",
              "Thal               0\n",
              "Diag               0\n",
              "dtype: int64"
            ]
          },
          "metadata": {},
          "execution_count": 3
        }
      ]
    },
    {
      "cell_type": "code",
      "metadata": {
        "id": "vMXdqdNu5VvU",
        "colab": {
          "base_uri": "https://localhost:8080/"
        },
        "outputId": "b2f53474-3a67-4ef1-d2b5-452a743c6618"
      },
      "source": [
        "# Checking the dimensions of the dataset\n",
        "print(\"The dimension of the table is:\",cleveland_data.shape)"
      ],
      "execution_count": 4,
      "outputs": [
        {
          "output_type": "stream",
          "name": "stdout",
          "text": [
            "The dimension of the table is: (303, 14)\n"
          ]
        }
      ]
    },
    {
      "cell_type": "markdown",
      "metadata": {
        "id": "rIgKTDmC_sBj"
      },
      "source": [
        "##**Step 4) Splitting target and features**\n",
        "\n",
        "Separating out the target (label) which is what we want to predict, the \"Diag\" column from the rest of the dataset (the features). \n",
        "\n",
        "Converting the labels to binary values so that the model is trained just to predict the presence/absence of heart disease. "
      ]
    },
    {
      "cell_type": "code",
      "metadata": {
        "id": "fPtNNPXz7pl4",
        "colab": {
          "base_uri": "https://localhost:8080/"
        },
        "outputId": "e9905837-d477-4a91-b691-72d548e2c77c"
      },
      "source": [
        "# Converting the label into a binary variable \n",
        "labels = np.array(cleveland_data[\"Diag\"])\n",
        "labels = np.where(labels >= 1,1,0)\n",
        "labels"
      ],
      "execution_count": 5,
      "outputs": [
        {
          "output_type": "execute_result",
          "data": {
            "text/plain": [
              "array([0, 1, 1, 0, 0, 0, 1, 0, 1, 1, 0, 0, 1, 0, 0, 0, 1, 0, 0, 0, 0, 0,\n",
              "       1, 1, 1, 0, 0, 0, 0, 1, 0, 1, 1, 0, 0, 0, 1, 1, 1, 0, 1, 0, 0, 0,\n",
              "       1, 1, 0, 1, 0, 0, 0, 0, 1, 0, 1, 1, 1, 1, 0, 0, 1, 0, 1, 0, 1, 1,\n",
              "       1, 0, 1, 1, 0, 1, 1, 1, 1, 0, 1, 0, 0, 1, 0, 0, 0, 1, 0, 0, 0, 0,\n",
              "       0, 0, 0, 1, 0, 0, 0, 1, 1, 1, 0, 0, 0, 0, 0, 0, 1, 0, 1, 1, 1, 1,\n",
              "       1, 1, 0, 1, 1, 0, 0, 0, 1, 1, 1, 1, 0, 1, 1, 0, 1, 1, 0, 0, 0, 0,\n",
              "       0, 0, 0, 0, 1, 1, 1, 0, 0, 1, 0, 1, 0, 1, 1, 0, 0, 0, 0, 0, 0, 1,\n",
              "       1, 1, 1, 1, 1, 0, 0, 1, 0, 0, 0, 0, 0, 0, 1, 0, 1, 0, 1, 0, 1, 1,\n",
              "       0, 1, 0, 0, 1, 1, 0, 0, 1, 0, 0, 1, 1, 1, 0, 1, 1, 1, 0, 1, 0, 0,\n",
              "       0, 1, 0, 0, 0, 0, 0, 1, 1, 1, 0, 1, 0, 1, 0, 1, 1, 0, 0, 0, 0, 0,\n",
              "       0, 0, 0, 1, 1, 0, 0, 0, 1, 1, 0, 1, 1, 0, 0, 1, 1, 1, 0, 0, 0, 0,\n",
              "       0, 1, 0, 1, 1, 1, 1, 0, 0, 1, 0, 0, 0, 0, 0, 0, 0, 1, 0, 1, 0, 0,\n",
              "       1, 1, 1, 1, 1, 0, 1, 0, 1, 0, 1, 0, 0, 0, 1, 0, 1, 0, 1, 0, 1, 1,\n",
              "       1, 0, 0, 0, 1, 0, 1, 1, 1, 0, 1, 1, 1, 1, 1, 1, 0])"
            ]
          },
          "metadata": {},
          "execution_count": 5
        }
      ]
    },
    {
      "cell_type": "markdown",
      "metadata": {
        "id": "QjXOO07mc4tZ"
      },
      "source": [
        "###**Question 1:** \n",
        "\n",
        "What does 0 and 1 represent in this array?"
      ]
    },
    {
      "cell_type": "markdown",
      "metadata": {
        "id": "3rrm0eWoc4tx"
      },
      "source": [
        "**Question 1 answer:**"
      ]
    },
    {
      "cell_type": "markdown",
      "metadata": {
        "id": "5L7VEtlnABm0"
      },
      "source": [
        "Dropping the label from the dataset. Now since the label has got removed, we can use this dataset to train the model"
      ]
    },
    {
      "cell_type": "code",
      "metadata": {
        "id": "0ggouqQh8JMx",
        "colab": {
          "base_uri": "https://localhost:8080/",
          "height": 423
        },
        "outputId": "2b12b415-3e31-4698-c4bb-d12bba2e5313"
      },
      "source": [
        "# Isolating the features Dataset\n",
        "features = cleveland_data.drop(columns='Diag')\n",
        "features"
      ],
      "execution_count": 6,
      "outputs": [
        {
          "output_type": "execute_result",
          "data": {
            "text/plain": [
              "      Age  Sex  Chest_pain_type  At_rest_bp  Cholesterol  Fast_blood_sug  \\\n",
              "0    63.0  1.0              1.0       145.0        233.0             1.0   \n",
              "1    67.0  1.0              4.0       160.0        286.0             0.0   \n",
              "2    67.0  1.0              4.0       120.0        229.0             0.0   \n",
              "3    37.0  1.0              3.0       130.0        250.0             0.0   \n",
              "4    41.0  0.0              2.0       130.0        204.0             0.0   \n",
              "..    ...  ...              ...         ...          ...             ...   \n",
              "298  45.0  1.0              1.0       110.0        264.0             0.0   \n",
              "299  68.0  1.0              4.0       144.0        193.0             1.0   \n",
              "300  57.0  1.0              4.0       130.0        131.0             0.0   \n",
              "301  57.0  0.0              2.0       130.0        236.0             0.0   \n",
              "302  38.0  1.0              3.0       138.0        175.0             0.0   \n",
              "\n",
              "     Rest_ecg  Maxhr  Exer_angina  Oldpeak  Slope   Ca Thal  \n",
              "0         2.0  150.0          0.0      2.3    3.0  0.0  6.0  \n",
              "1         2.0  108.0          1.0      1.5    2.0  3.0  3.0  \n",
              "2         2.0  129.0          1.0      2.6    2.0  2.0  7.0  \n",
              "3         0.0  187.0          0.0      3.5    3.0  0.0  3.0  \n",
              "4         2.0  172.0          0.0      1.4    1.0  0.0  3.0  \n",
              "..        ...    ...          ...      ...    ...  ...  ...  \n",
              "298       0.0  132.0          0.0      1.2    2.0  0.0  7.0  \n",
              "299       0.0  141.0          0.0      3.4    2.0  2.0  7.0  \n",
              "300       0.0  115.0          1.0      1.2    2.0  1.0  7.0  \n",
              "301       2.0  174.0          0.0      0.0    2.0  1.0  3.0  \n",
              "302       0.0  173.0          0.0      0.0    1.0  0.0  3.0  \n",
              "\n",
              "[303 rows x 13 columns]"
            ],
            "text/html": [
              "\n",
              "  <div id=\"df-3fb475b9-3c05-4d9e-a9a2-c326a15a81c3\">\n",
              "    <div class=\"colab-df-container\">\n",
              "      <div>\n",
              "<style scoped>\n",
              "    .dataframe tbody tr th:only-of-type {\n",
              "        vertical-align: middle;\n",
              "    }\n",
              "\n",
              "    .dataframe tbody tr th {\n",
              "        vertical-align: top;\n",
              "    }\n",
              "\n",
              "    .dataframe thead th {\n",
              "        text-align: right;\n",
              "    }\n",
              "</style>\n",
              "<table border=\"1\" class=\"dataframe\">\n",
              "  <thead>\n",
              "    <tr style=\"text-align: right;\">\n",
              "      <th></th>\n",
              "      <th>Age</th>\n",
              "      <th>Sex</th>\n",
              "      <th>Chest_pain_type</th>\n",
              "      <th>At_rest_bp</th>\n",
              "      <th>Cholesterol</th>\n",
              "      <th>Fast_blood_sug</th>\n",
              "      <th>Rest_ecg</th>\n",
              "      <th>Maxhr</th>\n",
              "      <th>Exer_angina</th>\n",
              "      <th>Oldpeak</th>\n",
              "      <th>Slope</th>\n",
              "      <th>Ca</th>\n",
              "      <th>Thal</th>\n",
              "    </tr>\n",
              "  </thead>\n",
              "  <tbody>\n",
              "    <tr>\n",
              "      <th>0</th>\n",
              "      <td>63.0</td>\n",
              "      <td>1.0</td>\n",
              "      <td>1.0</td>\n",
              "      <td>145.0</td>\n",
              "      <td>233.0</td>\n",
              "      <td>1.0</td>\n",
              "      <td>2.0</td>\n",
              "      <td>150.0</td>\n",
              "      <td>0.0</td>\n",
              "      <td>2.3</td>\n",
              "      <td>3.0</td>\n",
              "      <td>0.0</td>\n",
              "      <td>6.0</td>\n",
              "    </tr>\n",
              "    <tr>\n",
              "      <th>1</th>\n",
              "      <td>67.0</td>\n",
              "      <td>1.0</td>\n",
              "      <td>4.0</td>\n",
              "      <td>160.0</td>\n",
              "      <td>286.0</td>\n",
              "      <td>0.0</td>\n",
              "      <td>2.0</td>\n",
              "      <td>108.0</td>\n",
              "      <td>1.0</td>\n",
              "      <td>1.5</td>\n",
              "      <td>2.0</td>\n",
              "      <td>3.0</td>\n",
              "      <td>3.0</td>\n",
              "    </tr>\n",
              "    <tr>\n",
              "      <th>2</th>\n",
              "      <td>67.0</td>\n",
              "      <td>1.0</td>\n",
              "      <td>4.0</td>\n",
              "      <td>120.0</td>\n",
              "      <td>229.0</td>\n",
              "      <td>0.0</td>\n",
              "      <td>2.0</td>\n",
              "      <td>129.0</td>\n",
              "      <td>1.0</td>\n",
              "      <td>2.6</td>\n",
              "      <td>2.0</td>\n",
              "      <td>2.0</td>\n",
              "      <td>7.0</td>\n",
              "    </tr>\n",
              "    <tr>\n",
              "      <th>3</th>\n",
              "      <td>37.0</td>\n",
              "      <td>1.0</td>\n",
              "      <td>3.0</td>\n",
              "      <td>130.0</td>\n",
              "      <td>250.0</td>\n",
              "      <td>0.0</td>\n",
              "      <td>0.0</td>\n",
              "      <td>187.0</td>\n",
              "      <td>0.0</td>\n",
              "      <td>3.5</td>\n",
              "      <td>3.0</td>\n",
              "      <td>0.0</td>\n",
              "      <td>3.0</td>\n",
              "    </tr>\n",
              "    <tr>\n",
              "      <th>4</th>\n",
              "      <td>41.0</td>\n",
              "      <td>0.0</td>\n",
              "      <td>2.0</td>\n",
              "      <td>130.0</td>\n",
              "      <td>204.0</td>\n",
              "      <td>0.0</td>\n",
              "      <td>2.0</td>\n",
              "      <td>172.0</td>\n",
              "      <td>0.0</td>\n",
              "      <td>1.4</td>\n",
              "      <td>1.0</td>\n",
              "      <td>0.0</td>\n",
              "      <td>3.0</td>\n",
              "    </tr>\n",
              "    <tr>\n",
              "      <th>...</th>\n",
              "      <td>...</td>\n",
              "      <td>...</td>\n",
              "      <td>...</td>\n",
              "      <td>...</td>\n",
              "      <td>...</td>\n",
              "      <td>...</td>\n",
              "      <td>...</td>\n",
              "      <td>...</td>\n",
              "      <td>...</td>\n",
              "      <td>...</td>\n",
              "      <td>...</td>\n",
              "      <td>...</td>\n",
              "      <td>...</td>\n",
              "    </tr>\n",
              "    <tr>\n",
              "      <th>298</th>\n",
              "      <td>45.0</td>\n",
              "      <td>1.0</td>\n",
              "      <td>1.0</td>\n",
              "      <td>110.0</td>\n",
              "      <td>264.0</td>\n",
              "      <td>0.0</td>\n",
              "      <td>0.0</td>\n",
              "      <td>132.0</td>\n",
              "      <td>0.0</td>\n",
              "      <td>1.2</td>\n",
              "      <td>2.0</td>\n",
              "      <td>0.0</td>\n",
              "      <td>7.0</td>\n",
              "    </tr>\n",
              "    <tr>\n",
              "      <th>299</th>\n",
              "      <td>68.0</td>\n",
              "      <td>1.0</td>\n",
              "      <td>4.0</td>\n",
              "      <td>144.0</td>\n",
              "      <td>193.0</td>\n",
              "      <td>1.0</td>\n",
              "      <td>0.0</td>\n",
              "      <td>141.0</td>\n",
              "      <td>0.0</td>\n",
              "      <td>3.4</td>\n",
              "      <td>2.0</td>\n",
              "      <td>2.0</td>\n",
              "      <td>7.0</td>\n",
              "    </tr>\n",
              "    <tr>\n",
              "      <th>300</th>\n",
              "      <td>57.0</td>\n",
              "      <td>1.0</td>\n",
              "      <td>4.0</td>\n",
              "      <td>130.0</td>\n",
              "      <td>131.0</td>\n",
              "      <td>0.0</td>\n",
              "      <td>0.0</td>\n",
              "      <td>115.0</td>\n",
              "      <td>1.0</td>\n",
              "      <td>1.2</td>\n",
              "      <td>2.0</td>\n",
              "      <td>1.0</td>\n",
              "      <td>7.0</td>\n",
              "    </tr>\n",
              "    <tr>\n",
              "      <th>301</th>\n",
              "      <td>57.0</td>\n",
              "      <td>0.0</td>\n",
              "      <td>2.0</td>\n",
              "      <td>130.0</td>\n",
              "      <td>236.0</td>\n",
              "      <td>0.0</td>\n",
              "      <td>2.0</td>\n",
              "      <td>174.0</td>\n",
              "      <td>0.0</td>\n",
              "      <td>0.0</td>\n",
              "      <td>2.0</td>\n",
              "      <td>1.0</td>\n",
              "      <td>3.0</td>\n",
              "    </tr>\n",
              "    <tr>\n",
              "      <th>302</th>\n",
              "      <td>38.0</td>\n",
              "      <td>1.0</td>\n",
              "      <td>3.0</td>\n",
              "      <td>138.0</td>\n",
              "      <td>175.0</td>\n",
              "      <td>0.0</td>\n",
              "      <td>0.0</td>\n",
              "      <td>173.0</td>\n",
              "      <td>0.0</td>\n",
              "      <td>0.0</td>\n",
              "      <td>1.0</td>\n",
              "      <td>0.0</td>\n",
              "      <td>3.0</td>\n",
              "    </tr>\n",
              "  </tbody>\n",
              "</table>\n",
              "<p>303 rows × 13 columns</p>\n",
              "</div>\n",
              "      <button class=\"colab-df-convert\" onclick=\"convertToInteractive('df-3fb475b9-3c05-4d9e-a9a2-c326a15a81c3')\"\n",
              "              title=\"Convert this dataframe to an interactive table.\"\n",
              "              style=\"display:none;\">\n",
              "        \n",
              "  <svg xmlns=\"http://www.w3.org/2000/svg\" height=\"24px\"viewBox=\"0 0 24 24\"\n",
              "       width=\"24px\">\n",
              "    <path d=\"M0 0h24v24H0V0z\" fill=\"none\"/>\n",
              "    <path d=\"M18.56 5.44l.94 2.06.94-2.06 2.06-.94-2.06-.94-.94-2.06-.94 2.06-2.06.94zm-11 1L8.5 8.5l.94-2.06 2.06-.94-2.06-.94L8.5 2.5l-.94 2.06-2.06.94zm10 10l.94 2.06.94-2.06 2.06-.94-2.06-.94-.94-2.06-.94 2.06-2.06.94z\"/><path d=\"M17.41 7.96l-1.37-1.37c-.4-.4-.92-.59-1.43-.59-.52 0-1.04.2-1.43.59L10.3 9.45l-7.72 7.72c-.78.78-.78 2.05 0 2.83L4 21.41c.39.39.9.59 1.41.59.51 0 1.02-.2 1.41-.59l7.78-7.78 2.81-2.81c.8-.78.8-2.07 0-2.86zM5.41 20L4 18.59l7.72-7.72 1.47 1.35L5.41 20z\"/>\n",
              "  </svg>\n",
              "      </button>\n",
              "      \n",
              "  <style>\n",
              "    .colab-df-container {\n",
              "      display:flex;\n",
              "      flex-wrap:wrap;\n",
              "      gap: 12px;\n",
              "    }\n",
              "\n",
              "    .colab-df-convert {\n",
              "      background-color: #E8F0FE;\n",
              "      border: none;\n",
              "      border-radius: 50%;\n",
              "      cursor: pointer;\n",
              "      display: none;\n",
              "      fill: #1967D2;\n",
              "      height: 32px;\n",
              "      padding: 0 0 0 0;\n",
              "      width: 32px;\n",
              "    }\n",
              "\n",
              "    .colab-df-convert:hover {\n",
              "      background-color: #E2EBFA;\n",
              "      box-shadow: 0px 1px 2px rgba(60, 64, 67, 0.3), 0px 1px 3px 1px rgba(60, 64, 67, 0.15);\n",
              "      fill: #174EA6;\n",
              "    }\n",
              "\n",
              "    [theme=dark] .colab-df-convert {\n",
              "      background-color: #3B4455;\n",
              "      fill: #D2E3FC;\n",
              "    }\n",
              "\n",
              "    [theme=dark] .colab-df-convert:hover {\n",
              "      background-color: #434B5C;\n",
              "      box-shadow: 0px 1px 3px 1px rgba(0, 0, 0, 0.15);\n",
              "      filter: drop-shadow(0px 1px 2px rgba(0, 0, 0, 0.3));\n",
              "      fill: #FFFFFF;\n",
              "    }\n",
              "  </style>\n",
              "\n",
              "      <script>\n",
              "        const buttonEl =\n",
              "          document.querySelector('#df-3fb475b9-3c05-4d9e-a9a2-c326a15a81c3 button.colab-df-convert');\n",
              "        buttonEl.style.display =\n",
              "          google.colab.kernel.accessAllowed ? 'block' : 'none';\n",
              "\n",
              "        async function convertToInteractive(key) {\n",
              "          const element = document.querySelector('#df-3fb475b9-3c05-4d9e-a9a2-c326a15a81c3');\n",
              "          const dataTable =\n",
              "            await google.colab.kernel.invokeFunction('convertToInteractive',\n",
              "                                                     [key], {});\n",
              "          if (!dataTable) return;\n",
              "\n",
              "          const docLinkHtml = 'Like what you see? Visit the ' +\n",
              "            '<a target=\"_blank\" href=https://colab.research.google.com/notebooks/data_table.ipynb>data table notebook</a>'\n",
              "            + ' to learn more about interactive tables.';\n",
              "          element.innerHTML = '';\n",
              "          dataTable['output_type'] = 'display_data';\n",
              "          await google.colab.output.renderOutput(dataTable, element);\n",
              "          const docLink = document.createElement('div');\n",
              "          docLink.innerHTML = docLinkHtml;\n",
              "          element.appendChild(docLink);\n",
              "        }\n",
              "      </script>\n",
              "    </div>\n",
              "  </div>\n",
              "  "
            ]
          },
          "metadata": {},
          "execution_count": 6
        }
      ]
    },
    {
      "cell_type": "markdown",
      "metadata": {
        "id": "eokVKD5-b-CK"
      },
      "source": [
        "###**Question 2:** \n",
        "\n",
        "What do you think it could happen if we don't drop the target or the label column?"
      ]
    },
    {
      "cell_type": "markdown",
      "metadata": {
        "id": "gFbsT1VUb-Ck"
      },
      "source": [
        "**Question 2 answer:**"
      ]
    },
    {
      "cell_type": "markdown",
      "metadata": {
        "id": "Op16ZEnDATcg"
      },
      "source": [
        "Converting the dataframe into an Numpy array as the algorithm requires a Numpy array for processing"
      ]
    },
    {
      "cell_type": "code",
      "metadata": {
        "id": "jj-yNr3D8XKh"
      },
      "source": [
        "# Converting the features dataset into an array\n",
        "features_arr = np.array(features)"
      ],
      "execution_count": 7,
      "outputs": []
    },
    {
      "cell_type": "markdown",
      "metadata": {
        "id": "ct6PZxP1Bk96"
      },
      "source": [
        "##**Step 5) Separating train and test data**\n",
        "\n",
        "* **test_size = 0.25** Gives the propotion of the dataset to include in the test set. 0.25 represents 25%. <br>\n",
        "* **random_state = 1** Random state ensures that the splits that you generate are reproducible. \n",
        "\n",
        "Scikit-learn uses random permutations to generate the splits. The random state that you provide is used as a seed to the random number generator. This ensures that the random numbers are generated in the same order. More details - [Scikit-learn: Random numbers](https://scikit-learn.org/stable/glossary.html#term-random_state)"
      ]
    },
    {
      "cell_type": "markdown",
      "metadata": {
        "id": "jEBtKmLsaZxC"
      },
      "source": [
        "###**Question 3:** \n",
        "\n",
        "For the decision tree model, we used random_state = 2. Here we are using 1 only, do you think that would make a big difference, why or why not?"
      ]
    },
    {
      "cell_type": "markdown",
      "metadata": {
        "id": "9Wgy5iqaaZxg"
      },
      "source": [
        "**Question 3 answer:**"
      ]
    },
    {
      "cell_type": "code",
      "metadata": {
        "id": "wKD1uq-e8ZAO"
      },
      "source": [
        "# Making 4 groups for training and testing purposes\n",
        "train_features, test_features, train_labels, test_labels = train_test_split(features_arr, labels, test_size = 0.25, random_state = 42)\n"
      ],
      "execution_count": 8,
      "outputs": []
    },
    {
      "cell_type": "markdown",
      "source": [
        "###**Question 4:** \n",
        "\n",
        "What percentage of the data is used for training?"
      ],
      "metadata": {
        "id": "1pH30R86EuBZ"
      }
    },
    {
      "cell_type": "markdown",
      "source": [
        "**Question 4 answer:**"
      ],
      "metadata": {
        "id": "YCD_BP2OFgmq"
      }
    },
    {
      "cell_type": "code",
      "metadata": {
        "id": "IJZJlOZuFP_F",
        "colab": {
          "base_uri": "https://localhost:8080/"
        },
        "outputId": "05d13526-b457-4fa4-a77d-7c7682f0110a"
      },
      "source": [
        "# looking at the training data labels\n",
        "print(\"Number of people without Heart Disease: \",np.bincount(train_labels)[0])\n",
        "print(\"Number of people with Heart Disease: \",np.bincount(train_labels)[1])"
      ],
      "execution_count": 9,
      "outputs": [
        {
          "output_type": "stream",
          "name": "stdout",
          "text": [
            "Number of people without Heart Disease:  125\n",
            "Number of people with Heart Disease:  102\n"
          ]
        }
      ]
    },
    {
      "cell_type": "code",
      "metadata": {
        "id": "6beACalEHUl1",
        "colab": {
          "base_uri": "https://localhost:8080/"
        },
        "outputId": "5c916cac-0a12-4120-e498-37e6ff7a647e"
      },
      "source": [
        "# looking at the testing data labels\n",
        "print(\"Number of people without Heart Disease: \",np.bincount(test_labels)[0])\n",
        "print(\"Number of people with Heart Disease: \",np.bincount(test_labels)[1])"
      ],
      "execution_count": 10,
      "outputs": [
        {
          "output_type": "stream",
          "name": "stdout",
          "text": [
            "Number of people without Heart Disease:  39\n",
            "Number of people with Heart Disease:  37\n"
          ]
        }
      ]
    },
    {
      "cell_type": "markdown",
      "source": [
        "### **Task 2:** Undestanding the Random Forest model (Questions 5-7)"
      ],
      "metadata": {
        "id": "Nfsqd74eelhM"
      }
    },
    {
      "cell_type": "markdown",
      "metadata": {
        "id": "vW8GlfhJS_fu"
      },
      "source": [
        "###**Question 5:** \n",
        "\n",
        "Do some google search, what is the difference between random forest classifier and random forest regressor, which one is the most used? "
      ]
    },
    {
      "cell_type": "markdown",
      "metadata": {
        "id": "GYHItZEPTah7"
      },
      "source": [
        "**Question 5 answer:**"
      ]
    },
    {
      "cell_type": "markdown",
      "metadata": {
        "id": "MTaNYbH6ZV5h"
      },
      "source": [
        "###**Question 6:** \n",
        "\n",
        "In this notebook, are we using random forest classifier or random forest regressor, how do you know?"
      ]
    },
    {
      "cell_type": "markdown",
      "metadata": {
        "id": "zbrTowSlZV6A"
      },
      "source": [
        "**Question 6 answer:**"
      ]
    },
    {
      "cell_type": "markdown",
      "metadata": {
        "id": "lU5rlOYuB3-J"
      },
      "source": [
        "## **Step 6) Making the random forest tree and making predictions with it**\n",
        "\n",
        "Training the model using test set. \n",
        "You will see here that actually training the model is super easy and fast. \n",
        "\n",
        "We just need to decide how many random trees we'll make, we use:\n",
        "\n",
        "**random state = 42** so that we can all get exactly the same results, but if you change the random state, you'll get slightly different results. It's called random for a reason!  "
      ]
    },
    {
      "cell_type": "code",
      "metadata": {
        "id": "Cutyhw1V8cD8",
        "colab": {
          "base_uri": "https://localhost:8080/",
          "height": 74
        },
        "outputId": "f67c8124-721b-4e3e-fa15-5d979fe9eb32"
      },
      "source": [
        "# Create and fit Random Forest Trees\n",
        "rf = RandomForestClassifier(n_estimators = 1000, max_features = 'sqrt', bootstrap = True, random_state = 42)\n",
        "rf.fit(train_features, train_labels)"
      ],
      "execution_count": 11,
      "outputs": [
        {
          "output_type": "execute_result",
          "data": {
            "text/plain": [
              "RandomForestClassifier(n_estimators=1000, random_state=42)"
            ],
            "text/html": [
              "<style>#sk-container-id-1 {color: black;background-color: white;}#sk-container-id-1 pre{padding: 0;}#sk-container-id-1 div.sk-toggleable {background-color: white;}#sk-container-id-1 label.sk-toggleable__label {cursor: pointer;display: block;width: 100%;margin-bottom: 0;padding: 0.3em;box-sizing: border-box;text-align: center;}#sk-container-id-1 label.sk-toggleable__label-arrow:before {content: \"▸\";float: left;margin-right: 0.25em;color: #696969;}#sk-container-id-1 label.sk-toggleable__label-arrow:hover:before {color: black;}#sk-container-id-1 div.sk-estimator:hover label.sk-toggleable__label-arrow:before {color: black;}#sk-container-id-1 div.sk-toggleable__content {max-height: 0;max-width: 0;overflow: hidden;text-align: left;background-color: #f0f8ff;}#sk-container-id-1 div.sk-toggleable__content pre {margin: 0.2em;color: black;border-radius: 0.25em;background-color: #f0f8ff;}#sk-container-id-1 input.sk-toggleable__control:checked~div.sk-toggleable__content {max-height: 200px;max-width: 100%;overflow: auto;}#sk-container-id-1 input.sk-toggleable__control:checked~label.sk-toggleable__label-arrow:before {content: \"▾\";}#sk-container-id-1 div.sk-estimator input.sk-toggleable__control:checked~label.sk-toggleable__label {background-color: #d4ebff;}#sk-container-id-1 div.sk-label input.sk-toggleable__control:checked~label.sk-toggleable__label {background-color: #d4ebff;}#sk-container-id-1 input.sk-hidden--visually {border: 0;clip: rect(1px 1px 1px 1px);clip: rect(1px, 1px, 1px, 1px);height: 1px;margin: -1px;overflow: hidden;padding: 0;position: absolute;width: 1px;}#sk-container-id-1 div.sk-estimator {font-family: monospace;background-color: #f0f8ff;border: 1px dotted black;border-radius: 0.25em;box-sizing: border-box;margin-bottom: 0.5em;}#sk-container-id-1 div.sk-estimator:hover {background-color: #d4ebff;}#sk-container-id-1 div.sk-parallel-item::after {content: \"\";width: 100%;border-bottom: 1px solid gray;flex-grow: 1;}#sk-container-id-1 div.sk-label:hover label.sk-toggleable__label {background-color: #d4ebff;}#sk-container-id-1 div.sk-serial::before {content: \"\";position: absolute;border-left: 1px solid gray;box-sizing: border-box;top: 0;bottom: 0;left: 50%;z-index: 0;}#sk-container-id-1 div.sk-serial {display: flex;flex-direction: column;align-items: center;background-color: white;padding-right: 0.2em;padding-left: 0.2em;position: relative;}#sk-container-id-1 div.sk-item {position: relative;z-index: 1;}#sk-container-id-1 div.sk-parallel {display: flex;align-items: stretch;justify-content: center;background-color: white;position: relative;}#sk-container-id-1 div.sk-item::before, #sk-container-id-1 div.sk-parallel-item::before {content: \"\";position: absolute;border-left: 1px solid gray;box-sizing: border-box;top: 0;bottom: 0;left: 50%;z-index: -1;}#sk-container-id-1 div.sk-parallel-item {display: flex;flex-direction: column;z-index: 1;position: relative;background-color: white;}#sk-container-id-1 div.sk-parallel-item:first-child::after {align-self: flex-end;width: 50%;}#sk-container-id-1 div.sk-parallel-item:last-child::after {align-self: flex-start;width: 50%;}#sk-container-id-1 div.sk-parallel-item:only-child::after {width: 0;}#sk-container-id-1 div.sk-dashed-wrapped {border: 1px dashed gray;margin: 0 0.4em 0.5em 0.4em;box-sizing: border-box;padding-bottom: 0.4em;background-color: white;}#sk-container-id-1 div.sk-label label {font-family: monospace;font-weight: bold;display: inline-block;line-height: 1.2em;}#sk-container-id-1 div.sk-label-container {text-align: center;}#sk-container-id-1 div.sk-container {/* jupyter's `normalize.less` sets `[hidden] { display: none; }` but bootstrap.min.css set `[hidden] { display: none !important; }` so we also need the `!important` here to be able to override the default hidden behavior on the sphinx rendered scikit-learn.org. See: https://github.com/scikit-learn/scikit-learn/issues/21755 */display: inline-block !important;position: relative;}#sk-container-id-1 div.sk-text-repr-fallback {display: none;}</style><div id=\"sk-container-id-1\" class=\"sk-top-container\"><div class=\"sk-text-repr-fallback\"><pre>RandomForestClassifier(n_estimators=1000, random_state=42)</pre><b>In a Jupyter environment, please rerun this cell to show the HTML representation or trust the notebook. <br />On GitHub, the HTML representation is unable to render, please try loading this page with nbviewer.org.</b></div><div class=\"sk-container\" hidden><div class=\"sk-item\"><div class=\"sk-estimator sk-toggleable\"><input class=\"sk-toggleable__control sk-hidden--visually\" id=\"sk-estimator-id-1\" type=\"checkbox\" checked><label for=\"sk-estimator-id-1\" class=\"sk-toggleable__label sk-toggleable__label-arrow\">RandomForestClassifier</label><div class=\"sk-toggleable__content\"><pre>RandomForestClassifier(n_estimators=1000, random_state=42)</pre></div></div></div></div></div>"
            ]
          },
          "metadata": {},
          "execution_count": 11
        }
      ]
    },
    {
      "cell_type": "markdown",
      "source": [
        "There are **1000 trees** that have been created in the code above, This means that we can actually checkout a single decision tree. Since python starts counts from 0. In the code below try changing the index to any value from [0, 999] so that you can see exactly how each of the decision tree looks like!\n",
        "\n",
        "### **Question 7**  \n",
        "Try using index [1] and then index [2] in the code below. You can change the index in the first argument of the function tree.export_graphiz(rf.estimators_[index]). Are the root nodes different for these trees? Why do you think the root nodes are different for those trees?\n"
      ],
      "metadata": {
        "id": "twlaK_rwJ_8Q"
      }
    },
    {
      "cell_type": "markdown",
      "source": [
        "**Question 7 answer:**"
      ],
      "metadata": {
        "id": "48Vy7QIKsExz"
      }
    },
    {
      "cell_type": "code",
      "source": [
        "# looking at a single Decision tree inside the random forest\n",
        "single_tree = tree.export_graphviz(rf.estimators_[1], out_file=None, \n",
        "                                  feature_names=features.columns,  \n",
        "                                  filled=True, rounded=True,  \n",
        "                                  special_characters=True,\n",
        "                                  max_depth= 3)\n",
        "graph = graphviz.Source(single_tree)\n",
        "graph.render(\"Classification tree\")\n",
        "display(graph)"
      ],
      "metadata": {
        "id": "07tOojCBmoX5",
        "colab": {
          "base_uri": "https://localhost:8080/",
          "height": 655
        },
        "outputId": "fbc574e8-686a-4744-c826-d3b930f7f84e"
      },
      "execution_count": null,
      "outputs": [
        {
          "output_type": "display_data",
          "data": {
            "image/svg+xml": "<?xml version=\"1.0\" encoding=\"UTF-8\" standalone=\"no\"?>\n<!DOCTYPE svg PUBLIC \"-//W3C//DTD SVG 1.1//EN\"\n \"http://www.w3.org/Graphics/SVG/1.1/DTD/svg11.dtd\">\n<!-- Generated by graphviz version 2.43.0 (0)\n -->\n<!-- Title: Tree Pages: 1 -->\n<svg width=\"1056pt\" height=\"460pt\"\n viewBox=\"0.00 0.00 1056.00 460.00\" xmlns=\"http://www.w3.org/2000/svg\" xmlns:xlink=\"http://www.w3.org/1999/xlink\">\n<g id=\"graph0\" class=\"graph\" transform=\"scale(1 1) rotate(0) translate(4 456)\">\n<title>Tree</title>\n<polygon fill=\"white\" stroke=\"transparent\" points=\"-4,4 -4,-456 1052,-456 1052,4 -4,4\"/>\n<!-- 0 -->\n<g id=\"node1\" class=\"node\">\n<title>0</title>\n<path fill=\"#fcf1ea\" stroke=\"black\" d=\"M592.5,-452C592.5,-452 491.5,-452 491.5,-452 485.5,-452 479.5,-446 479.5,-440 479.5,-440 479.5,-396 479.5,-396 479.5,-390 485.5,-384 491.5,-384 491.5,-384 592.5,-384 592.5,-384 598.5,-384 604.5,-390 604.5,-396 604.5,-396 604.5,-440 604.5,-440 604.5,-446 598.5,-452 592.5,-452\"/>\n<text text-anchor=\"start\" x=\"516\" y=\"-436.8\" font-family=\"Helvetica,sans-Serif\" font-size=\"14.00\">Ca ≤ 0.5</text>\n<text text-anchor=\"start\" x=\"506.5\" y=\"-421.8\" font-family=\"Helvetica,sans-Serif\" font-size=\"14.00\">gini = 0.498</text>\n<text text-anchor=\"start\" x=\"497\" y=\"-406.8\" font-family=\"Helvetica,sans-Serif\" font-size=\"14.00\">samples = 144</text>\n<text text-anchor=\"start\" x=\"487.5\" y=\"-391.8\" font-family=\"Helvetica,sans-Serif\" font-size=\"14.00\">value = [120, 107]</text>\n</g>\n<!-- 1 -->\n<g id=\"node2\" class=\"node\">\n<title>1</title>\n<path fill=\"#eeae80\" stroke=\"black\" d=\"M469,-348C469,-348 367,-348 367,-348 361,-348 355,-342 355,-336 355,-336 355,-292 355,-292 355,-286 361,-280 367,-280 367,-280 469,-280 469,-280 475,-280 481,-286 481,-292 481,-292 481,-336 481,-336 481,-342 475,-348 469,-348\"/>\n<text text-anchor=\"start\" x=\"363\" y=\"-332.8\" font-family=\"Helvetica,sans-Serif\" font-size=\"14.00\">Exer_angina ≤ 0.5</text>\n<text text-anchor=\"start\" x=\"382.5\" y=\"-317.8\" font-family=\"Helvetica,sans-Serif\" font-size=\"14.00\">gini = 0.389</text>\n<text text-anchor=\"start\" x=\"377\" y=\"-302.8\" font-family=\"Helvetica,sans-Serif\" font-size=\"14.00\">samples = 87</text>\n<text text-anchor=\"start\" x=\"367.5\" y=\"-287.8\" font-family=\"Helvetica,sans-Serif\" font-size=\"14.00\">value = [103, 37]</text>\n</g>\n<!-- 0&#45;&gt;1 -->\n<g id=\"edge1\" class=\"edge\">\n<title>0&#45;&gt;1</title>\n<path fill=\"none\" stroke=\"black\" d=\"M501.74,-383.88C490.48,-374.62 478.12,-364.45 466.44,-354.85\"/>\n<polygon fill=\"black\" stroke=\"black\" points=\"468.43,-351.95 458.48,-348.3 463.98,-357.36 468.43,-351.95\"/>\n<text text-anchor=\"middle\" x=\"460.9\" y=\"-369.48\" font-family=\"Helvetica,sans-Serif\" font-size=\"14.00\">True</text>\n</g>\n<!-- 52 -->\n<g id=\"node17\" class=\"node\">\n<title>52</title>\n<path fill=\"#69b5eb\" stroke=\"black\" d=\"M713,-348C713,-348 627,-348 627,-348 621,-348 615,-342 615,-336 615,-336 615,-292 615,-292 615,-286 621,-280 627,-280 627,-280 713,-280 713,-280 719,-280 725,-286 725,-292 725,-292 725,-336 725,-336 725,-342 719,-348 713,-348\"/>\n<text text-anchor=\"start\" x=\"623.5\" y=\"-332.8\" font-family=\"Helvetica,sans-Serif\" font-size=\"14.00\">Oldpeak ≤ 0.55</text>\n<text text-anchor=\"start\" x=\"634.5\" y=\"-317.8\" font-family=\"Helvetica,sans-Serif\" font-size=\"14.00\">gini = 0.314</text>\n<text text-anchor=\"start\" x=\"629\" y=\"-302.8\" font-family=\"Helvetica,sans-Serif\" font-size=\"14.00\">samples = 57</text>\n<text text-anchor=\"start\" x=\"623\" y=\"-287.8\" font-family=\"Helvetica,sans-Serif\" font-size=\"14.00\">value = [17, 70]</text>\n</g>\n<!-- 0&#45;&gt;52 -->\n<g id=\"edge16\" class=\"edge\">\n<title>0&#45;&gt;52</title>\n<path fill=\"none\" stroke=\"black\" d=\"M583.56,-383.88C595.29,-374.53 608.18,-364.26 620.35,-354.57\"/>\n<polygon fill=\"black\" stroke=\"black\" points=\"622.57,-357.27 628.21,-348.3 618.21,-351.79 622.57,-357.27\"/>\n<text text-anchor=\"middle\" x=\"625.4\" y=\"-369.44\" font-family=\"Helvetica,sans-Serif\" font-size=\"14.00\">False</text>\n</g>\n<!-- 2 -->\n<g id=\"node3\" class=\"node\">\n<title>2</title>\n<path fill=\"#eb9d65\" stroke=\"black\" d=\"M277,-244C277,-244 167,-244 167,-244 161,-244 155,-238 155,-232 155,-232 155,-188 155,-188 155,-182 161,-176 167,-176 167,-176 277,-176 277,-176 283,-176 289,-182 289,-188 289,-188 289,-232 289,-232 289,-238 283,-244 277,-244\"/>\n<text text-anchor=\"start\" x=\"163\" y=\"-228.8\" font-family=\"Helvetica,sans-Serif\" font-size=\"14.00\">Cholesterol ≤ 228.5</text>\n<text text-anchor=\"start\" x=\"194\" y=\"-213.8\" font-family=\"Helvetica,sans-Serif\" font-size=\"14.00\">gini = 0.3</text>\n<text text-anchor=\"start\" x=\"181\" y=\"-198.8\" font-family=\"Helvetica,sans-Serif\" font-size=\"14.00\">samples = 66</text>\n<text text-anchor=\"start\" x=\"175\" y=\"-183.8\" font-family=\"Helvetica,sans-Serif\" font-size=\"14.00\">value = [89, 20]</text>\n</g>\n<!-- 1&#45;&gt;2 -->\n<g id=\"edge2\" class=\"edge\">\n<title>1&#45;&gt;2</title>\n<path fill=\"none\" stroke=\"black\" d=\"M354.91,-280.17C335.69,-270.17 314.42,-259.09 294.62,-248.79\"/>\n<polygon fill=\"black\" stroke=\"black\" points=\"296.13,-245.63 285.65,-244.12 292.9,-251.84 296.13,-245.63\"/>\n</g>\n<!-- 37 -->\n<g id=\"node10\" class=\"node\">\n<title>37</title>\n<path fill=\"#dceefa\" stroke=\"black\" d=\"M461,-244C461,-244 375,-244 375,-244 369,-244 363,-238 363,-232 363,-232 363,-188 363,-188 363,-182 369,-176 375,-176 375,-176 461,-176 461,-176 467,-176 473,-182 473,-188 473,-188 473,-232 473,-232 473,-238 467,-244 461,-244\"/>\n<text text-anchor=\"start\" x=\"383.5\" y=\"-228.8\" font-family=\"Helvetica,sans-Serif\" font-size=\"14.00\">Slope ≤ 1.5</text>\n<text text-anchor=\"start\" x=\"382.5\" y=\"-213.8\" font-family=\"Helvetica,sans-Serif\" font-size=\"14.00\">gini = 0.495</text>\n<text text-anchor=\"start\" x=\"377\" y=\"-198.8\" font-family=\"Helvetica,sans-Serif\" font-size=\"14.00\">samples = 21</text>\n<text text-anchor=\"start\" x=\"371\" y=\"-183.8\" font-family=\"Helvetica,sans-Serif\" font-size=\"14.00\">value = [14, 17]</text>\n</g>\n<!-- 1&#45;&gt;37 -->\n<g id=\"edge9\" class=\"edge\">\n<title>1&#45;&gt;37</title>\n<path fill=\"none\" stroke=\"black\" d=\"M418,-279.88C418,-271.78 418,-262.98 418,-254.47\"/>\n<polygon fill=\"black\" stroke=\"black\" points=\"421.5,-254.3 418,-244.3 414.5,-254.3 421.5,-254.3\"/>\n</g>\n<!-- 3 -->\n<g id=\"node4\" class=\"node\">\n<title>3</title>\n<path fill=\"#e78946\" stroke=\"black\" d=\"M137,-140C137,-140 59,-140 59,-140 53,-140 47,-134 47,-128 47,-128 47,-84 47,-84 47,-78 53,-72 59,-72 59,-72 137,-72 137,-72 143,-72 149,-78 149,-84 149,-84 149,-128 149,-128 149,-134 143,-140 137,-140\"/>\n<text text-anchor=\"start\" x=\"65\" y=\"-124.8\" font-family=\"Helvetica,sans-Serif\" font-size=\"14.00\">Age ≤ 59.0</text>\n<text text-anchor=\"start\" x=\"62.5\" y=\"-109.8\" font-family=\"Helvetica,sans-Serif\" font-size=\"14.00\">gini = 0.117</text>\n<text text-anchor=\"start\" x=\"57\" y=\"-94.8\" font-family=\"Helvetica,sans-Serif\" font-size=\"14.00\">samples = 31</text>\n<text text-anchor=\"start\" x=\"55\" y=\"-79.8\" font-family=\"Helvetica,sans-Serif\" font-size=\"14.00\">value = [45, 3]</text>\n</g>\n<!-- 2&#45;&gt;3 -->\n<g id=\"edge3\" class=\"edge\">\n<title>2&#45;&gt;3</title>\n<path fill=\"none\" stroke=\"black\" d=\"M181.74,-175.88C170.48,-166.62 158.12,-156.45 146.44,-146.85\"/>\n<polygon fill=\"black\" stroke=\"black\" points=\"148.43,-143.95 138.48,-140.3 143.98,-149.36 148.43,-143.95\"/>\n</g>\n<!-- 12 -->\n<g id=\"node7\" class=\"node\">\n<title>12</title>\n<path fill=\"#efb286\" stroke=\"black\" d=\"M265,-140C265,-140 179,-140 179,-140 173,-140 167,-134 167,-128 167,-128 167,-84 167,-84 167,-78 173,-72 179,-72 179,-72 265,-72 265,-72 271,-72 277,-78 277,-84 277,-84 277,-128 277,-128 277,-134 271,-140 265,-140\"/>\n<text text-anchor=\"start\" x=\"191.5\" y=\"-124.8\" font-family=\"Helvetica,sans-Serif\" font-size=\"14.00\">Thal ≤ 6.5</text>\n<text text-anchor=\"start\" x=\"186.5\" y=\"-109.8\" font-family=\"Helvetica,sans-Serif\" font-size=\"14.00\">gini = 0.402</text>\n<text text-anchor=\"start\" x=\"181\" y=\"-94.8\" font-family=\"Helvetica,sans-Serif\" font-size=\"14.00\">samples = 35</text>\n<text text-anchor=\"start\" x=\"175\" y=\"-79.8\" font-family=\"Helvetica,sans-Serif\" font-size=\"14.00\">value = [44, 17]</text>\n</g>\n<!-- 2&#45;&gt;12 -->\n<g id=\"edge6\" class=\"edge\">\n<title>2&#45;&gt;12</title>\n<path fill=\"none\" stroke=\"black\" d=\"M222,-175.88C222,-167.78 222,-158.98 222,-150.47\"/>\n<polygon fill=\"black\" stroke=\"black\" points=\"225.5,-150.3 222,-140.3 218.5,-150.3 225.5,-150.3\"/>\n</g>\n<!-- 4 -->\n<g id=\"node5\" class=\"node\">\n<title>4</title>\n<path fill=\"#c0c0c0\" stroke=\"black\" d=\"M42,-36C42,-36 12,-36 12,-36 6,-36 0,-30 0,-24 0,-24 0,-12 0,-12 0,-6 6,0 12,0 12,0 42,0 42,0 48,0 54,-6 54,-12 54,-12 54,-24 54,-24 54,-30 48,-36 42,-36\"/>\n<text text-anchor=\"middle\" x=\"27\" y=\"-14.3\" font-family=\"Helvetica,sans-Serif\" font-size=\"14.00\">(...)</text>\n</g>\n<!-- 3&#45;&gt;4 -->\n<g id=\"edge4\" class=\"edge\">\n<title>3&#45;&gt;4</title>\n<path fill=\"none\" stroke=\"black\" d=\"M70.75,-72C63.17,-62.81 55.05,-52.97 47.89,-44.3\"/>\n<polygon fill=\"black\" stroke=\"black\" points=\"50.43,-41.89 41.37,-36.4 45.04,-46.34 50.43,-41.89\"/>\n</g>\n<!-- 5 -->\n<g id=\"node6\" class=\"node\">\n<title>5</title>\n<path fill=\"#c0c0c0\" stroke=\"black\" d=\"M114,-36C114,-36 84,-36 84,-36 78,-36 72,-30 72,-24 72,-24 72,-12 72,-12 72,-6 78,0 84,0 84,0 114,0 114,0 120,0 126,-6 126,-12 126,-12 126,-24 126,-24 126,-30 120,-36 114,-36\"/>\n<text text-anchor=\"middle\" x=\"99\" y=\"-14.3\" font-family=\"Helvetica,sans-Serif\" font-size=\"14.00\">(...)</text>\n</g>\n<!-- 3&#45;&gt;5 -->\n<g id=\"edge5\" class=\"edge\">\n<title>3&#45;&gt;5</title>\n<path fill=\"none\" stroke=\"black\" d=\"M98.38,-72C98.48,-63.56 98.59,-54.59 98.68,-46.47\"/>\n<polygon fill=\"black\" stroke=\"black\" points=\"102.18,-46.44 98.8,-36.4 95.18,-46.36 102.18,-46.44\"/>\n</g>\n<!-- 13 -->\n<g id=\"node8\" class=\"node\">\n<title>13</title>\n<path fill=\"#c0c0c0\" stroke=\"black\" d=\"M186,-36C186,-36 156,-36 156,-36 150,-36 144,-30 144,-24 144,-24 144,-12 144,-12 144,-6 150,0 156,0 156,0 186,0 186,0 192,0 198,-6 198,-12 198,-12 198,-24 198,-24 198,-30 192,-36 186,-36\"/>\n<text text-anchor=\"middle\" x=\"171\" y=\"-14.3\" font-family=\"Helvetica,sans-Serif\" font-size=\"14.00\">(...)</text>\n</g>\n<!-- 12&#45;&gt;13 -->\n<g id=\"edge7\" class=\"edge\">\n<title>12&#45;&gt;13</title>\n<path fill=\"none\" stroke=\"black\" d=\"M202.43,-72C197.15,-63.09 191.51,-53.58 186.48,-45.11\"/>\n<polygon fill=\"black\" stroke=\"black\" points=\"189.43,-43.22 181.32,-36.4 183.41,-46.79 189.43,-43.22\"/>\n</g>\n<!-- 24 -->\n<g id=\"node9\" class=\"node\">\n<title>24</title>\n<path fill=\"#c0c0c0\" stroke=\"black\" d=\"M258,-36C258,-36 228,-36 228,-36 222,-36 216,-30 216,-24 216,-24 216,-12 216,-12 216,-6 222,0 228,0 228,0 258,0 258,0 264,0 270,-6 270,-12 270,-12 270,-24 270,-24 270,-30 264,-36 258,-36\"/>\n<text text-anchor=\"middle\" x=\"243\" y=\"-14.3\" font-family=\"Helvetica,sans-Serif\" font-size=\"14.00\">(...)</text>\n</g>\n<!-- 12&#45;&gt;24 -->\n<g id=\"edge8\" class=\"edge\">\n<title>12&#45;&gt;24</title>\n<path fill=\"none\" stroke=\"black\" d=\"M230.06,-72C232.14,-63.47 234.36,-54.39 236.36,-46.2\"/>\n<polygon fill=\"black\" stroke=\"black\" points=\"239.78,-46.95 238.75,-36.4 232.98,-45.29 239.78,-46.95\"/>\n</g>\n<!-- 38 -->\n<g id=\"node11\" class=\"node\">\n<title>38</title>\n<path fill=\"#e99355\" stroke=\"black\" d=\"M378.5,-140C378.5,-140 307.5,-140 307.5,-140 301.5,-140 295.5,-134 295.5,-128 295.5,-128 295.5,-84 295.5,-84 295.5,-78 301.5,-72 307.5,-72 307.5,-72 378.5,-72 378.5,-72 384.5,-72 390.5,-78 390.5,-84 390.5,-84 390.5,-128 390.5,-128 390.5,-134 384.5,-140 378.5,-140\"/>\n<text text-anchor=\"start\" x=\"310\" y=\"-124.8\" font-family=\"Helvetica,sans-Serif\" font-size=\"14.00\">Age ≤ 55.5</text>\n<text text-anchor=\"start\" x=\"307.5\" y=\"-109.8\" font-family=\"Helvetica,sans-Serif\" font-size=\"14.00\">gini = 0.219</text>\n<text text-anchor=\"start\" x=\"305.5\" y=\"-94.8\" font-family=\"Helvetica,sans-Serif\" font-size=\"14.00\">samples = 6</text>\n<text text-anchor=\"start\" x=\"303.5\" y=\"-79.8\" font-family=\"Helvetica,sans-Serif\" font-size=\"14.00\">value = [7, 1]</text>\n</g>\n<!-- 37&#45;&gt;38 -->\n<g id=\"edge10\" class=\"edge\">\n<title>37&#45;&gt;38</title>\n<path fill=\"none\" stroke=\"black\" d=\"M393.65,-175.88C387.23,-167.15 380.22,-157.62 373.52,-148.51\"/>\n<polygon fill=\"black\" stroke=\"black\" points=\"376.23,-146.28 367.48,-140.3 370.59,-150.43 376.23,-146.28\"/>\n</g>\n<!-- 43 -->\n<g id=\"node14\" class=\"node\">\n<title>43</title>\n<path fill=\"#90c8f0\" stroke=\"black\" d=\"M527.5,-140C527.5,-140 420.5,-140 420.5,-140 414.5,-140 408.5,-134 408.5,-128 408.5,-128 408.5,-84 408.5,-84 408.5,-78 414.5,-72 420.5,-72 420.5,-72 527.5,-72 527.5,-72 533.5,-72 539.5,-78 539.5,-84 539.5,-84 539.5,-128 539.5,-128 539.5,-134 533.5,-140 527.5,-140\"/>\n<text text-anchor=\"start\" x=\"416.5\" y=\"-124.8\" font-family=\"Helvetica,sans-Serif\" font-size=\"14.00\">At_rest_bp ≤ 115.0</text>\n<text text-anchor=\"start\" x=\"438.5\" y=\"-109.8\" font-family=\"Helvetica,sans-Serif\" font-size=\"14.00\">gini = 0.423</text>\n<text text-anchor=\"start\" x=\"433\" y=\"-94.8\" font-family=\"Helvetica,sans-Serif\" font-size=\"14.00\">samples = 15</text>\n<text text-anchor=\"start\" x=\"431\" y=\"-79.8\" font-family=\"Helvetica,sans-Serif\" font-size=\"14.00\">value = [7, 16]</text>\n</g>\n<!-- 37&#45;&gt;43 -->\n<g id=\"edge13\" class=\"edge\">\n<title>37&#45;&gt;43</title>\n<path fill=\"none\" stroke=\"black\" d=\"M436.18,-175.88C440.88,-167.33 445.99,-158.01 450.9,-149.07\"/>\n<polygon fill=\"black\" stroke=\"black\" points=\"453.97,-150.75 455.72,-140.3 447.84,-147.38 453.97,-150.75\"/>\n</g>\n<!-- 39 -->\n<g id=\"node12\" class=\"node\">\n<title>39</title>\n<path fill=\"#c0c0c0\" stroke=\"black\" d=\"M330,-36C330,-36 300,-36 300,-36 294,-36 288,-30 288,-24 288,-24 288,-12 288,-12 288,-6 294,0 300,0 300,0 330,0 330,0 336,0 342,-6 342,-12 342,-12 342,-24 342,-24 342,-30 336,-36 330,-36\"/>\n<text text-anchor=\"middle\" x=\"315\" y=\"-14.3\" font-family=\"Helvetica,sans-Serif\" font-size=\"14.00\">(...)</text>\n</g>\n<!-- 38&#45;&gt;39 -->\n<g id=\"edge11\" class=\"edge\">\n<title>38&#45;&gt;39</title>\n<path fill=\"none\" stroke=\"black\" d=\"M332.25,-72C329.45,-63.38 326.46,-54.19 323.77,-45.92\"/>\n<polygon fill=\"black\" stroke=\"black\" points=\"327.09,-44.83 320.67,-36.4 320.43,-47 327.09,-44.83\"/>\n</g>\n<!-- 40 -->\n<g id=\"node13\" class=\"node\">\n<title>40</title>\n<path fill=\"#c0c0c0\" stroke=\"black\" d=\"M402,-36C402,-36 372,-36 372,-36 366,-36 360,-30 360,-24 360,-24 360,-12 360,-12 360,-6 366,0 372,0 372,0 402,0 402,0 408,0 414,-6 414,-12 414,-12 414,-24 414,-24 414,-30 408,-36 402,-36\"/>\n<text text-anchor=\"middle\" x=\"387\" y=\"-14.3\" font-family=\"Helvetica,sans-Serif\" font-size=\"14.00\">(...)</text>\n</g>\n<!-- 38&#45;&gt;40 -->\n<g id=\"edge12\" class=\"edge\">\n<title>38&#45;&gt;40</title>\n<path fill=\"none\" stroke=\"black\" d=\"M359.89,-72C364.39,-63.19 369.2,-53.78 373.5,-45.38\"/>\n<polygon fill=\"black\" stroke=\"black\" points=\"376.66,-46.9 378.1,-36.4 370.43,-43.71 376.66,-46.9\"/>\n</g>\n<!-- 44 -->\n<g id=\"node15\" class=\"node\">\n<title>44</title>\n<path fill=\"#c0c0c0\" stroke=\"black\" d=\"M474,-36C474,-36 444,-36 444,-36 438,-36 432,-30 432,-24 432,-24 432,-12 432,-12 432,-6 438,0 444,0 444,0 474,0 474,0 480,0 486,-6 486,-12 486,-12 486,-24 486,-24 486,-30 480,-36 474,-36\"/>\n<text text-anchor=\"middle\" x=\"459\" y=\"-14.3\" font-family=\"Helvetica,sans-Serif\" font-size=\"14.00\">(...)</text>\n</g>\n<!-- 43&#45;&gt;44 -->\n<g id=\"edge14\" class=\"edge\">\n<title>43&#45;&gt;44</title>\n<path fill=\"none\" stroke=\"black\" d=\"M468.24,-72C466.77,-63.56 465.21,-54.59 463.79,-46.47\"/>\n<polygon fill=\"black\" stroke=\"black\" points=\"467.2,-45.65 462.04,-36.4 460.31,-46.86 467.2,-45.65\"/>\n</g>\n<!-- 45 -->\n<g id=\"node16\" class=\"node\">\n<title>45</title>\n<path fill=\"#c0c0c0\" stroke=\"black\" d=\"M546,-36C546,-36 516,-36 516,-36 510,-36 504,-30 504,-24 504,-24 504,-12 504,-12 504,-6 510,0 516,0 516,0 546,0 546,0 552,0 558,-6 558,-12 558,-12 558,-24 558,-24 558,-30 552,-36 546,-36\"/>\n<text text-anchor=\"middle\" x=\"531\" y=\"-14.3\" font-family=\"Helvetica,sans-Serif\" font-size=\"14.00\">(...)</text>\n</g>\n<!-- 43&#45;&gt;45 -->\n<g id=\"edge15\" class=\"edge\">\n<title>43&#45;&gt;45</title>\n<path fill=\"none\" stroke=\"black\" d=\"M495.87,-72C501.84,-63 508.21,-53.38 513.87,-44.84\"/>\n<polygon fill=\"black\" stroke=\"black\" points=\"516.86,-46.67 519.47,-36.4 511.02,-42.81 516.86,-46.67\"/>\n</g>\n<!-- 53 -->\n<g id=\"node18\" class=\"node\">\n<title>53</title>\n<path fill=\"#c9e4f8\" stroke=\"black\" d=\"M713,-244C713,-244 627,-244 627,-244 621,-244 615,-238 615,-232 615,-232 615,-188 615,-188 615,-182 621,-176 627,-176 627,-176 713,-176 713,-176 719,-176 725,-182 725,-188 725,-188 725,-232 725,-232 725,-238 719,-244 713,-244\"/>\n<text text-anchor=\"start\" x=\"641\" y=\"-228.8\" font-family=\"Helvetica,sans-Serif\" font-size=\"14.00\">Sex ≤ 0.5</text>\n<text text-anchor=\"start\" x=\"634.5\" y=\"-213.8\" font-family=\"Helvetica,sans-Serif\" font-size=\"14.00\">gini = 0.488</text>\n<text text-anchor=\"start\" x=\"629\" y=\"-198.8\" font-family=\"Helvetica,sans-Serif\" font-size=\"14.00\">samples = 23</text>\n<text text-anchor=\"start\" x=\"623\" y=\"-183.8\" font-family=\"Helvetica,sans-Serif\" font-size=\"14.00\">value = [16, 22]</text>\n</g>\n<!-- 52&#45;&gt;53 -->\n<g id=\"edge17\" class=\"edge\">\n<title>52&#45;&gt;53</title>\n<path fill=\"none\" stroke=\"black\" d=\"M670,-279.88C670,-271.78 670,-262.98 670,-254.47\"/>\n<polygon fill=\"black\" stroke=\"black\" points=\"673.5,-254.3 670,-244.3 666.5,-254.3 673.5,-254.3\"/>\n</g>\n<!-- 68 -->\n<g id=\"node25\" class=\"node\">\n<title>68</title>\n<path fill=\"#3d9fe6\" stroke=\"black\" d=\"M944,-244C944,-244 816,-244 816,-244 810,-244 804,-238 804,-232 804,-232 804,-188 804,-188 804,-182 810,-176 816,-176 816,-176 944,-176 944,-176 950,-176 956,-182 956,-188 956,-188 956,-232 956,-232 956,-238 950,-244 944,-244\"/>\n<text text-anchor=\"start\" x=\"812\" y=\"-228.8\" font-family=\"Helvetica,sans-Serif\" font-size=\"14.00\">Chest_pain_type ≤ 2.0</text>\n<text text-anchor=\"start\" x=\"848\" y=\"-213.8\" font-family=\"Helvetica,sans-Serif\" font-size=\"14.00\">gini = 0.04</text>\n<text text-anchor=\"start\" x=\"839\" y=\"-198.8\" font-family=\"Helvetica,sans-Serif\" font-size=\"14.00\">samples = 34</text>\n<text text-anchor=\"start\" x=\"837\" y=\"-183.8\" font-family=\"Helvetica,sans-Serif\" font-size=\"14.00\">value = [1, 48]</text>\n</g>\n<!-- 52&#45;&gt;68 -->\n<g id=\"edge24\" class=\"edge\">\n<title>52&#45;&gt;68</title>\n<path fill=\"none\" stroke=\"black\" d=\"M725.18,-286.2C748.77,-274.74 776.73,-261.16 802.36,-248.71\"/>\n<polygon fill=\"black\" stroke=\"black\" points=\"804.22,-251.7 811.68,-244.18 801.16,-245.4 804.22,-251.7\"/>\n</g>\n<!-- 54 -->\n<g id=\"node19\" class=\"node\">\n<title>54</title>\n<path fill=\"#eb9c63\" stroke=\"black\" d=\"M650,-140C650,-140 570,-140 570,-140 564,-140 558,-134 558,-128 558,-128 558,-84 558,-84 558,-78 564,-72 570,-72 570,-72 650,-72 650,-72 656,-72 662,-78 662,-84 662,-84 662,-128 662,-128 662,-134 656,-140 650,-140\"/>\n<text text-anchor=\"start\" x=\"566\" y=\"-124.8\" font-family=\"Helvetica,sans-Serif\" font-size=\"14.00\">Maxhr ≤ 173.0</text>\n<text text-anchor=\"start\" x=\"574.5\" y=\"-109.8\" font-family=\"Helvetica,sans-Serif\" font-size=\"14.00\">gini = 0.291</text>\n<text text-anchor=\"start\" x=\"569\" y=\"-94.8\" font-family=\"Helvetica,sans-Serif\" font-size=\"14.00\">samples = 10</text>\n<text text-anchor=\"start\" x=\"567\" y=\"-79.8\" font-family=\"Helvetica,sans-Serif\" font-size=\"14.00\">value = [14, 3]</text>\n</g>\n<!-- 53&#45;&gt;54 -->\n<g id=\"edge18\" class=\"edge\">\n<title>53&#45;&gt;54</title>\n<path fill=\"none\" stroke=\"black\" d=\"M650.52,-175.88C645.49,-167.33 640.01,-158.01 634.75,-149.07\"/>\n<polygon fill=\"black\" stroke=\"black\" points=\"637.67,-147.14 629.59,-140.3 631.64,-150.69 637.67,-147.14\"/>\n</g>\n<!-- 61 -->\n<g id=\"node22\" class=\"node\">\n<title>61</title>\n<path fill=\"#4ea7e8\" stroke=\"black\" d=\"M802,-140C802,-140 692,-140 692,-140 686,-140 680,-134 680,-128 680,-128 680,-84 680,-84 680,-78 686,-72 692,-72 692,-72 802,-72 802,-72 808,-72 814,-78 814,-84 814,-84 814,-128 814,-128 814,-134 808,-140 802,-140\"/>\n<text text-anchor=\"start\" x=\"688\" y=\"-124.8\" font-family=\"Helvetica,sans-Serif\" font-size=\"14.00\">Cholesterol ≤ 278.0</text>\n<text text-anchor=\"start\" x=\"711.5\" y=\"-109.8\" font-family=\"Helvetica,sans-Serif\" font-size=\"14.00\">gini = 0.172</text>\n<text text-anchor=\"start\" x=\"706\" y=\"-94.8\" font-family=\"Helvetica,sans-Serif\" font-size=\"14.00\">samples = 13</text>\n<text text-anchor=\"start\" x=\"704\" y=\"-79.8\" font-family=\"Helvetica,sans-Serif\" font-size=\"14.00\">value = [2, 19]</text>\n</g>\n<!-- 53&#45;&gt;61 -->\n<g id=\"edge21\" class=\"edge\">\n<title>53&#45;&gt;61</title>\n<path fill=\"none\" stroke=\"black\" d=\"M695,-175.88C701.59,-167.15 708.78,-157.62 715.66,-148.51\"/>\n<polygon fill=\"black\" stroke=\"black\" points=\"718.63,-150.39 721.86,-140.3 713.04,-146.17 718.63,-150.39\"/>\n</g>\n<!-- 55 -->\n<g id=\"node20\" class=\"node\">\n<title>55</title>\n<path fill=\"#c0c0c0\" stroke=\"black\" d=\"M618,-36C618,-36 588,-36 588,-36 582,-36 576,-30 576,-24 576,-24 576,-12 576,-12 576,-6 582,0 588,0 588,0 618,0 618,0 624,0 630,-6 630,-12 630,-12 630,-24 630,-24 630,-30 624,-36 618,-36\"/>\n<text text-anchor=\"middle\" x=\"603\" y=\"-14.3\" font-family=\"Helvetica,sans-Serif\" font-size=\"14.00\">(...)</text>\n</g>\n<!-- 54&#45;&gt;55 -->\n<g id=\"edge19\" class=\"edge\">\n<title>54&#45;&gt;55</title>\n<path fill=\"none\" stroke=\"black\" d=\"M607.31,-72C606.63,-63.56 605.9,-54.59 605.24,-46.47\"/>\n<polygon fill=\"black\" stroke=\"black\" points=\"608.72,-46.09 604.42,-36.4 601.74,-46.65 608.72,-46.09\"/>\n</g>\n<!-- 60 -->\n<g id=\"node21\" class=\"node\">\n<title>60</title>\n<path fill=\"#c0c0c0\" stroke=\"black\" d=\"M690,-36C690,-36 660,-36 660,-36 654,-36 648,-30 648,-24 648,-24 648,-12 648,-12 648,-6 654,0 660,0 660,0 690,0 690,0 696,0 702,-6 702,-12 702,-12 702,-24 702,-24 702,-30 696,-36 690,-36\"/>\n<text text-anchor=\"middle\" x=\"675\" y=\"-14.3\" font-family=\"Helvetica,sans-Serif\" font-size=\"14.00\">(...)</text>\n</g>\n<!-- 54&#45;&gt;60 -->\n<g id=\"edge20\" class=\"edge\">\n<title>54&#45;&gt;60</title>\n<path fill=\"none\" stroke=\"black\" d=\"M634.94,-72C641.82,-62.9 649.17,-53.18 655.67,-44.57\"/>\n<polygon fill=\"black\" stroke=\"black\" points=\"658.61,-46.49 661.85,-36.4 653.02,-42.27 658.61,-46.49\"/>\n</g>\n<!-- 62 -->\n<g id=\"node23\" class=\"node\">\n<title>62</title>\n<path fill=\"#c0c0c0\" stroke=\"black\" d=\"M762,-36C762,-36 732,-36 732,-36 726,-36 720,-30 720,-24 720,-24 720,-12 720,-12 720,-6 726,0 732,0 732,0 762,0 762,0 768,0 774,-6 774,-12 774,-12 774,-24 774,-24 774,-30 768,-36 762,-36\"/>\n<text text-anchor=\"middle\" x=\"747\" y=\"-14.3\" font-family=\"Helvetica,sans-Serif\" font-size=\"14.00\">(...)</text>\n</g>\n<!-- 61&#45;&gt;62 -->\n<g id=\"edge22\" class=\"edge\">\n<title>61&#45;&gt;62</title>\n<path fill=\"none\" stroke=\"black\" d=\"M747,-72C747,-63.56 747,-54.59 747,-46.47\"/>\n<polygon fill=\"black\" stroke=\"black\" points=\"750.5,-46.4 747,-36.4 743.5,-46.4 750.5,-46.4\"/>\n</g>\n<!-- 67 -->\n<g id=\"node24\" class=\"node\">\n<title>67</title>\n<path fill=\"#c0c0c0\" stroke=\"black\" d=\"M834,-36C834,-36 804,-36 804,-36 798,-36 792,-30 792,-24 792,-24 792,-12 792,-12 792,-6 798,0 804,0 804,0 834,0 834,0 840,0 846,-6 846,-12 846,-12 846,-24 846,-24 846,-30 840,-36 834,-36\"/>\n<text text-anchor=\"middle\" x=\"819\" y=\"-14.3\" font-family=\"Helvetica,sans-Serif\" font-size=\"14.00\">(...)</text>\n</g>\n<!-- 61&#45;&gt;67 -->\n<g id=\"edge23\" class=\"edge\">\n<title>61&#45;&gt;67</title>\n<path fill=\"none\" stroke=\"black\" d=\"M774.63,-72C782.32,-62.81 790.56,-52.97 797.82,-44.3\"/>\n<polygon fill=\"black\" stroke=\"black\" points=\"800.69,-46.32 804.43,-36.4 795.33,-41.82 800.69,-46.32\"/>\n</g>\n<!-- 69 -->\n<g id=\"node26\" class=\"node\">\n<title>69</title>\n<path fill=\"#e58139\" stroke=\"black\" d=\"M915.5,-132.5C915.5,-132.5 844.5,-132.5 844.5,-132.5 838.5,-132.5 832.5,-126.5 832.5,-120.5 832.5,-120.5 832.5,-91.5 832.5,-91.5 832.5,-85.5 838.5,-79.5 844.5,-79.5 844.5,-79.5 915.5,-79.5 915.5,-79.5 921.5,-79.5 927.5,-85.5 927.5,-91.5 927.5,-91.5 927.5,-120.5 927.5,-120.5 927.5,-126.5 921.5,-132.5 915.5,-132.5\"/>\n<text text-anchor=\"start\" x=\"852\" y=\"-117.3\" font-family=\"Helvetica,sans-Serif\" font-size=\"14.00\">gini = 0.0</text>\n<text text-anchor=\"start\" x=\"842.5\" y=\"-102.3\" font-family=\"Helvetica,sans-Serif\" font-size=\"14.00\">samples = 1</text>\n<text text-anchor=\"start\" x=\"840.5\" y=\"-87.3\" font-family=\"Helvetica,sans-Serif\" font-size=\"14.00\">value = [1, 0]</text>\n</g>\n<!-- 68&#45;&gt;69 -->\n<g id=\"edge25\" class=\"edge\">\n<title>68&#45;&gt;69</title>\n<path fill=\"none\" stroke=\"black\" d=\"M880,-175.88C880,-165.33 880,-153.6 880,-142.85\"/>\n<polygon fill=\"black\" stroke=\"black\" points=\"883.5,-142.52 880,-132.52 876.5,-142.52 883.5,-142.52\"/>\n</g>\n<!-- 70 -->\n<g id=\"node27\" class=\"node\">\n<title>70</title>\n<path fill=\"#399de5\" stroke=\"black\" d=\"M1036,-132.5C1036,-132.5 958,-132.5 958,-132.5 952,-132.5 946,-126.5 946,-120.5 946,-120.5 946,-91.5 946,-91.5 946,-85.5 952,-79.5 958,-79.5 958,-79.5 1036,-79.5 1036,-79.5 1042,-79.5 1048,-85.5 1048,-91.5 1048,-91.5 1048,-120.5 1048,-120.5 1048,-126.5 1042,-132.5 1036,-132.5\"/>\n<text text-anchor=\"start\" x=\"969\" y=\"-117.3\" font-family=\"Helvetica,sans-Serif\" font-size=\"14.00\">gini = 0.0</text>\n<text text-anchor=\"start\" x=\"956\" y=\"-102.3\" font-family=\"Helvetica,sans-Serif\" font-size=\"14.00\">samples = 33</text>\n<text text-anchor=\"start\" x=\"954\" y=\"-87.3\" font-family=\"Helvetica,sans-Serif\" font-size=\"14.00\">value = [0, 48]</text>\n</g>\n<!-- 68&#45;&gt;70 -->\n<g id=\"edge26\" class=\"edge\">\n<title>68&#45;&gt;70</title>\n<path fill=\"none\" stroke=\"black\" d=\"M917.99,-175.88C931.48,-164.12 946.65,-150.89 960.06,-139.2\"/>\n<polygon fill=\"black\" stroke=\"black\" points=\"962.49,-141.73 967.73,-132.52 957.89,-136.45 962.49,-141.73\"/>\n</g>\n</g>\n</svg>\n",
            "text/plain": [
              "<graphviz.sources.Source at 0x7fab3c7bb490>"
            ]
          },
          "metadata": {}
        }
      ]
    },
    {
      "cell_type": "markdown",
      "metadata": {
        "id": "UDnRMiOUCzDE"
      },
      "source": [
        "## **Step 7) Looking at the results and looking at the accuracy of the model**\n",
        "\n",
        "Now that we have seen that our random forest is made out of many trees! lets look at how our random forest chooses its final prediction based on this fact. The code below uses a single row (the second row) from our test data and runs it through each of the trees of our forest."
      ]
    },
    {
      "cell_type": "code",
      "source": [
        "# Code below shows the number of trees that predicted one of the two outcomes\n",
        "votes_for_healthy = 0 #we start with 0 trees \"voting\" for healthy\n",
        "votes_for_heart_disease = 0 #and 0 trees \"voting\" for heart-disease\n",
        "for i in range(0,len(rf)): #loop over each of the trees in the random forest\n",
        "  pred = rf.estimators_[i].predict(test_features[[1]]) #get a prediction from one tree\n",
        "  if pred == 1.00: #if the prediction is \"1\" that's a vote for heart disease\n",
        "    votes_for_heart_disease = votes_for_heart_disease + 1 \n",
        "  else: #if the prediction is \"0\" that's a vote for healthy\n",
        "    votes_for_healthy = votes_for_healthy + 1\n",
        "\n",
        "print(\"Number of trees that predicted Healthy: \",votes_for_healthy)\n",
        "print(\"Number of trees that predicted Heart Disease: \",votes_for_heart_disease)"
      ],
      "metadata": {
        "id": "82yxgctLtQUW",
        "colab": {
          "base_uri": "https://localhost:8080/"
        },
        "outputId": "9090b960-31d5-41c0-df18-0ce0a34f6259"
      },
      "execution_count": 12,
      "outputs": [
        {
          "output_type": "stream",
          "name": "stdout",
          "text": [
            "Number of trees that predicted Healthy:  254\n",
            "Number of trees that predicted Heart Disease:  746\n"
          ]
        }
      ]
    },
    {
      "cell_type": "markdown",
      "source": [
        "Based on the fact that most of our trees have chosen **\"Heart Disease\" [1]** over **\"Healthy\" [0]**, what do you think our random forest would predict? Let's see what our random forest would predict for the second row of our test data."
      ],
      "metadata": {
        "id": "py9_b0TpyXyR"
      }
    },
    {
      "cell_type": "code",
      "source": [
        "# prediction using the second value of our test features\n",
        "pred = rf.predict(test_features[[1]])\n",
        "print(\"Prediction by the entire random forest: \", pred)"
      ],
      "metadata": {
        "id": "idP5SIkJwr-i",
        "colab": {
          "base_uri": "https://localhost:8080/"
        },
        "outputId": "9044af0b-8bfd-49ce-e76d-f0f870b81b1b"
      },
      "execution_count": 13,
      "outputs": [
        {
          "output_type": "stream",
          "name": "stdout",
          "text": [
            "Prediction by the entire random forest:  [1]\n"
          ]
        }
      ]
    },
    {
      "cell_type": "markdown",
      "source": [
        "Now that we have seen a bit under the hood of how our random forest makes it's final prediction, let's make all our predictions for all our test data to see the accuracy of our model."
      ],
      "metadata": {
        "id": "qevVMlQUzNi6"
      }
    },
    {
      "cell_type": "code",
      "metadata": {
        "id": "a_8DefHs9fMz",
        "colab": {
          "base_uri": "https://localhost:8080/"
        },
        "outputId": "34dc6069-e297-4a6c-90ec-fce6c0241d9c"
      },
      "source": [
        "# Predictions made for all the test data features\n",
        "predictions = rf.predict(test_features)\n",
        "predictions"
      ],
      "execution_count": 14,
      "outputs": [
        {
          "output_type": "execute_result",
          "data": {
            "text/plain": [
              "array([0, 1, 1, 1, 1, 1, 1, 1, 0, 1, 0, 0, 1, 1, 1, 0, 0, 1, 1, 0, 0, 0,\n",
              "       1, 0, 1, 0, 0, 1, 1, 1, 0, 1, 0, 0, 0, 1, 1, 0, 1, 0, 1, 0, 1, 0,\n",
              "       0, 1, 0, 0, 1, 0, 0, 0, 0, 0, 1, 0, 0, 1, 1, 1, 0, 0, 0, 1, 0, 1,\n",
              "       0, 0, 1, 1, 0, 0, 1, 0, 0, 1])"
            ]
          },
          "metadata": {},
          "execution_count": 14
        }
      ]
    },
    {
      "cell_type": "markdown",
      "metadata": {
        "id": "GQ32NIYq7Gsi"
      },
      "source": [
        "We use the confusion matrix to visualize how well our model did. "
      ]
    },
    {
      "cell_type": "markdown",
      "source": [
        "### **Task 3:** Testing accuracy (Questions 8-11)"
      ],
      "metadata": {
        "id": "KAuMbwEhlFVo"
      }
    },
    {
      "cell_type": "code",
      "metadata": {
        "id": "CjHCZ53ZUQCj",
        "colab": {
          "base_uri": "https://localhost:8080/",
          "height": 606
        },
        "outputId": "ac5a453c-d8ef-4b00-9c36-6691df566b21"
      },
      "source": [
        "# Creating a Confusion matrix for our results\n",
        "sns.set(rc={'figure.figsize':(8.7,6.27)})\n",
        "print(metrics.confusion_matrix(test_labels, predictions))\n",
        "plt1 = metrics.ConfusionMatrixDisplay.from_estimator(rf, test_features, test_labels)\n",
        "plt.grid(visible=None)"
      ],
      "execution_count": 15,
      "outputs": [
        {
          "output_type": "stream",
          "name": "stdout",
          "text": [
            "[[34  5]\n",
            " [ 6 31]]\n"
          ]
        },
        {
          "output_type": "display_data",
          "data": {
            "text/plain": [
              "<Figure size 870x627 with 2 Axes>"
            ],
            "image/png": "[encoded data removed]"
          },
          "metadata": {}
        }
      ]
    },
    {
      "cell_type": "markdown",
      "metadata": {
        "id": "HA3o1ovMnsBj"
      },
      "source": [
        "### **Question 8**\n",
        "\n",
        "What did you get for: True Positive (TP), True Negative (TN), False Positive (FP) and False Negative (FN)?"
      ]
    },
    {
      "cell_type": "markdown",
      "source": [
        "**Question 8 answer:**"
      ],
      "metadata": {
        "id": "08FBzdt2nsB0"
      }
    },
    {
      "cell_type": "code",
      "metadata": {
        "id": "l1lQ7eYX93zp",
        "colab": {
          "base_uri": "https://localhost:8080/"
        },
        "outputId": "295b5fa7-8e0c-4252-dee6-9e4c31a8eae2"
      },
      "source": [
        "# calculating the accuracy\n",
        "acc = round(100*metrics.accuracy_score(predictions, test_labels),2)\n",
        "print(\"Accuracy:\",acc,\"%\")"
      ],
      "execution_count": 16,
      "outputs": [
        {
          "output_type": "stream",
          "name": "stdout",
          "text": [
            "Accuracy: 85.53 %\n"
          ]
        }
      ]
    },
    {
      "cell_type": "markdown",
      "metadata": {
        "id": "ES_CXJAZ_mBP"
      },
      "source": [
        "### **Question 9**\n",
        "\n",
        "How does the accuracy of the random forest classifier compare to the decision tree? \n",
        "If you only made 2 random trees in your random forest, would that change your accuracy? Try it out and report here. "
      ]
    },
    {
      "cell_type": "code",
      "execution_count": null,
      "metadata": {
        "id": "1tb730HITjgx"
      },
      "outputs": [],
      "source": [
        "#Code line to answer question 9"
      ]
    },
    {
      "cell_type": "markdown",
      "source": [
        "**Question 9 answer:**"
      ],
      "metadata": {
        "id": "zwxnDUu8ggCt"
      }
    },
    {
      "cell_type": "markdown",
      "metadata": {
        "id": "uT9XyTDll40o"
      },
      "source": [
        "### **Question 10**\n",
        "\n",
        "How does the accuracy of the random forest classifier compare to the decision tree? \n",
        "If you only made 4 random trees in your random forest, would that change your accuracy? Try it out and report here. "
      ]
    },
    {
      "cell_type": "code",
      "execution_count": null,
      "metadata": {
        "id": "eLUSmQN1l40r"
      },
      "outputs": [],
      "source": [
        "#Code line to answer question 10"
      ]
    },
    {
      "cell_type": "markdown",
      "source": [
        "**Question 10 answer:**"
      ],
      "metadata": {
        "id": "EZ0z5qIFl40r"
      }
    },
    {
      "cell_type": "markdown",
      "metadata": {
        "id": "sz93qDCel5Jc"
      },
      "source": [
        "### **Question 11**\n",
        "\n",
        "How does the accuracy of the random forest classifier compare to the decision tree? \n",
        "If you only made 10 random trees in your random forest, would that change your accuracy? Try it out and report here. "
      ]
    },
    {
      "cell_type": "code",
      "execution_count": null,
      "metadata": {
        "id": "fzuwt9all5Jd"
      },
      "outputs": [],
      "source": [
        "#Code line to answer question 11"
      ]
    },
    {
      "cell_type": "markdown",
      "source": [
        "**Question 11 answer:**"
      ],
      "metadata": {
        "id": "lcRHsjUql5Jd"
      }
    },
    {
      "cell_type": "markdown",
      "source": [
        "### **Task 4:** Visualizing features importance and final thoughts (Questions 12-14)"
      ],
      "metadata": {
        "id": "8pnDsQjljihI"
      }
    },
    {
      "cell_type": "markdown",
      "metadata": {
        "id": "gK53ZSeU-_1D"
      },
      "source": [
        "## Feature importance\n",
        "\n",
        "Visualizing your results is always an important part of any data science project. Now that we have a random forest based on 1000 random trees, we cannot easily visualize all the trees at once like we did for the decision tree, because it would be an overwhelming set of diagrams. But we can visualize the feature importance. I've seen this kind of plot in published articles. I like it because it helps us understand which features are most important for making predictions. \n",
        "\n",
        "Feature importance is a measurement of how each feature decreases the amount of impurity **(Gini index)** in a node, weighted by the probability of reaching that node. The higher the value the more important the feature. This is usually calculated for each tree in the random forest and then averaged over the total number of trees. The graph below shows these averages.\n",
        "\n",
        "[This blog has a fairly good explanation](https://www.analyticsvidhya.com/blog/2021/10/an-introduction-to-random-forest-algorithm-for-beginners/#:~:text=To%20calculate%20feature%20importance%20using,the%20average%20of%20these%20numbers.). "
      ]
    },
    {
      "cell_type": "code",
      "metadata": {
        "id": "2-WsdlpT99H_",
        "colab": {
          "base_uri": "https://localhost:8080/",
          "height": 599
        },
        "outputId": "aece7599-054d-4acd-be21-3555bd205527"
      },
      "source": [
        "importance = rf.feature_importances_\n",
        "# summarize feature importance\n",
        "print(importance)\n",
        "from matplotlib import pyplot\n",
        "pyplot.barh([x for x in range(len(importance))], importance, tick_label = columns[:-1], )\n",
        "pyplot.show()"
      ],
      "execution_count": 17,
      "outputs": [
        {
          "output_type": "stream",
          "name": "stdout",
          "text": [
            "[0.09359969 0.04243293 0.12195644 0.07935762 0.08087072 0.00814534\n",
            " 0.02044649 0.11524036 0.05901268 0.10381362 0.04582646 0.1281699\n",
            " 0.10112772]\n"
          ]
        },
        {
          "output_type": "display_data",
          "data": {
            "text/plain": [
              "<Figure size 870x627 with 1 Axes>"
            ],
            "image/png": "[encoded data removed]"
          },
          "metadata": {}
        }
      ]
    },
    {
      "cell_type": "markdown",
      "metadata": {
        "id": "45gB467qojnX"
      },
      "source": [
        "### **Question 12**\n",
        "\n",
        "Which are the three features (variables) with the highest importance?"
      ]
    },
    {
      "cell_type": "markdown",
      "source": [
        "**Question 12 answer:**\n",
        "\n",
        "1.   List item\n",
        "2.   List item\n",
        "3.   List item\n",
        "\n",
        "\n"
      ],
      "metadata": {
        "id": "WF4ep72kojno"
      }
    },
    {
      "cell_type": "markdown",
      "source": [
        "###**Question 13** \n",
        "Do the features that were important in the decision tree we made earlier have high feature importace? "
      ],
      "metadata": {
        "id": "FJD6k16Af4NE"
      }
    },
    {
      "cell_type": "markdown",
      "source": [
        "**Question 13 answer:**"
      ],
      "metadata": {
        "id": "5R7iFqf3o_AB"
      }
    },
    {
      "cell_type": "markdown",
      "source": [
        "###**Question 14** \n",
        "Now that you have experimented with two machine learning models, which model would you consider using for data analysis that is of your interest in your job or school projects? "
      ],
      "metadata": {
        "id": "eHuvB06jpMsi"
      }
    },
    {
      "cell_type": "markdown",
      "source": [
        "**Question 14 answer:**"
      ],
      "metadata": {
        "id": "hqjvD0bGpMs3"
      }
    },
    {
      "cell_type": "markdown",
      "source": [
        "# 🙂 Congratulations! You are learning a second machine learning model. You might feel more familiarized with the steps to follow to build machine learning models now, if not, don't worry there are other notebooks."
      ],
      "metadata": {
        "id": "1UsrBTAk5buA"
      }
    }
  ]
}