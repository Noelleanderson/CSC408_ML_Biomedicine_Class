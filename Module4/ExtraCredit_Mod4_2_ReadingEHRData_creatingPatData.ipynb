{
  "nbformat": 4,
  "nbformat_minor": 0,
  "metadata": {
    "colab": {
      "provenance": [],
      "toc_visible": true,
      "include_colab_link": true
    },
    "kernelspec": {
      "name": "python3",
      "display_name": "Python 3"
    },
    "language_info": {
      "name": "python"
    }
  },
  "cells": [
    {
      "cell_type": "markdown",
      "metadata": {
        "id": "view-in-github",
        "colab_type": "text"
      },
      "source": [
        "<a href=\"https://colab.research.google.com/github/pleunipennings/CSC508_ML_Biomedicine_Class/blob/main/Module4/ExtraCredit_Mod4_2_ReadingEHRData_creatingPatData.ipynb\" target=\"_parent\"><img src=\"https://colab.research.google.com/assets/colab-badge.svg\" alt=\"Open In Colab\"/></a>"
      ]
    },
    {
      "cell_type": "markdown",
      "metadata": {
        "id": "3gcHlauN5a11"
      },
      "source": [
        "# Alzheimer's data, creating PatData.csv"
      ]
    },
    {
      "cell_type": "markdown",
      "metadata": {
        "id": "KM6rJacwvjrj"
      },
      "source": [
        "Many people are affected by Alzheimers (the Alzheimer’s Association estimates 6 million patients and 11 million unpaid caregivers in the US, see [link](https://www.alz.org/alzheimers-dementia/facts-figures))\n",
        "\n",
        "Here is some information, written by Dr Raven Baxter [link text](https://threadreaderapp.com/thread/1380339786515423232.html)\n",
        "\n",
        "Have a look at this short video on [youtube](https://www.youtube.com/watch?v=Eq_Er-tqPsA)"
      ]
    },
    {
      "cell_type": "markdown",
      "metadata": {
        "id": "kRgPQXfvm5EP"
      },
      "source": [
        "# Having a first look at the data "
      ]
    },
    {
      "cell_type": "markdown",
      "metadata": {
        "id": "nsVSh3LgwHxQ"
      },
      "source": [
        "The dataset we are using comes from the ADNI project, a huge project to gather data on people with Alzheimer’s disease and healthy controls. "
      ]
    },
    {
      "cell_type": "markdown",
      "metadata": {
        "id": "NBRgtFMe8KSY"
      },
      "source": [
        "## Opening the file location and loading libraries"
      ]
    },
    {
      "cell_type": "markdown",
      "metadata": {
        "id": "6THmyzHC5w6S"
      },
      "source": [
        "Import libraries"
      ]
    },
    {
      "cell_type": "code",
      "metadata": {
        "id": "9acQ9UM03BoT"
      },
      "source": [
        "import pandas as pd\n",
        "from pandas.api.types import CategoricalDtype\n",
        "import numpy as np\n",
        "from google.colab import files #For exporting files from google colab notebook"
      ],
      "execution_count": null,
      "outputs": []
    },
    {
      "cell_type": "markdown",
      "metadata": {
        "id": "5e9jLiED2nJL"
      },
      "source": [
        "Read the dataset \"TADPOLE_D1_D2_57columns.csv\" from GitHib\n",
        "\n",
        "The full repo is here https://github.com/pleunipennings/CSC508Data\n"
      ]
    },
    {
      "cell_type": "code",
      "metadata": {
        "id": "yEle9YOg2UZV"
      },
      "source": [
        "url = \"https://raw.githubusercontent.com/pleunipennings/CSC508Data/main/TADPOLE_D1_D2_57columns.csv\" \n",
        "data = pd.read_csv(url)"
      ],
      "execution_count": null,
      "outputs": []
    },
    {
      "cell_type": "markdown",
      "metadata": {
        "id": "EnTwmoDW4xOz"
      },
      "source": [
        "Look at the first few rows of the data"
      ]
    },
    {
      "cell_type": "code",
      "metadata": {
        "id": "NVI_Wl7h4bLP"
      },
      "source": [
        "data.head()"
      ],
      "execution_count": null,
      "outputs": []
    },
    {
      "cell_type": "markdown",
      "metadata": {
        "id": "w515hdJ64kvi"
      },
      "source": [
        "Find out how big is the data?"
      ]
    },
    {
      "cell_type": "code",
      "metadata": {
        "id": "_rQD_qKN4Y_f"
      },
      "source": [
        "data.shape"
      ],
      "execution_count": null,
      "outputs": []
    },
    {
      "cell_type": "markdown",
      "metadata": {
        "id": "8UAmNLSb7BxS"
      },
      "source": [
        "Two columns that are important are **PTID** and **EXAMDATE**. \n",
        "PTID is the patient ID and EXAMDATE is –  you guessed it – the date at which the medical exam took place! \n",
        "\n",
        "Let's take a look at one patient with the ID: 011_S_0003"
      ]
    },
    {
      "cell_type": "code",
      "metadata": {
        "id": "_xcV6OAN6Sgo"
      },
      "source": [
        "data.loc[data['PTID'] == '011_S_0003']"
      ],
      "execution_count": null,
      "outputs": []
    },
    {
      "cell_type": "markdown",
      "metadata": {
        "id": "6VyzV1GwnTJ5"
      },
      "source": [
        "## Question 1: Looking at the data\n",
        "\n",
        "In which years did this patient come in for exams?  \n",
        "What is the age, marital status and race of the patient?\n"
      ]
    },
    {
      "cell_type": "markdown",
      "metadata": {
        "id": "TqlmH2u2oX53"
      },
      "source": [
        "# Categoricals and Ordered Categories! \n"
      ]
    },
    {
      "cell_type": "markdown",
      "metadata": {
        "id": "EoyGT04JAJct"
      },
      "source": [
        "Some examples of categorical data are gender, social class, blood type, or rating scale.\n",
        "\n",
        "Here, we're going to make the column Diagnosis 'DX' into a categorical data type and specify an order on the categories. We need to do this so that we can use the ordering to select the data we need. \n",
        "\n",
        "Here are what the abbreviations are:\n",
        "*   **NL** = no Alzheimers (cognitive normal)\n",
        "*   **MCI** = Mild Cognitive Impairement\n",
        "*   **Dementia** = has Alzheimers\n",
        "\n",
        "Here is a guide for Categorical data types: https://pandas.pydata.org/pandas-docs/stable/user_guide/categorical.html#categoricaldtype\n"
      ]
    },
    {
      "cell_type": "code",
      "metadata": {
        "id": "MFXcIo4CvpjV"
      },
      "source": [
        "DX_type = CategoricalDtype(categories=['NL', 'NL to MCI', 'MCI to NL', 'MCI', \n",
        "                           'Dementia to MCI', 'MCI to Dementia', \n",
        "                           'Dementia', 'NL to Dementia'], ordered=True)\n",
        "data['DX'] = data['DX'].astype(DX_type)"
      ],
      "execution_count": null,
      "outputs": []
    },
    {
      "cell_type": "markdown",
      "metadata": {
        "id": "QiXsXY2nHi7-"
      },
      "source": [
        "## Question 2: Ordered Categories\n",
        "\n",
        "Create ordered categories for the column 'DX_bl' (diagnosis at baseline). The levels are:\n",
        "*   **CN**: cognitive normal\n",
        "*   **SMC**: subjective memory concerns\n",
        "*   **EMCI**: Early Mild Cognitive Impairment\n",
        "*   **LMCI**: Late Mild Cognitive Impairment\n",
        "*   **AD**: Alzheimer’s Disease\n",
        "\n",
        "Check that your code worked. \n",
        "Take a screenshot of your code and include it in the pdf or wordfile you submit on iLearn. \n"
      ]
    },
    {
      "cell_type": "code",
      "metadata": {
        "id": "Ig6NHdqJA-iw"
      },
      "source": [
        "# Put your code here and take a screenshot to include in your word file to hand in on iLearn. \n"
      ],
      "execution_count": null,
      "outputs": []
    },
    {
      "cell_type": "markdown",
      "metadata": {
        "id": "h9WS6xfuynP6"
      },
      "source": [
        "# Grouping data: One row per patient"
      ]
    },
    {
      "cell_type": "markdown",
      "metadata": {
        "id": "27qcEt2fQ8qo"
      },
      "source": [
        "For some types of analysis, it is useful to have just one row per patient instead of multiple. \n",
        "\n",
        "Let's create a dataset that has just one row per patient. To do so, we need to 'group' the data based on something unique. In this dataset, we can use the Patient ID and group all the entries that have the same ID. Then we can aggregate (this means to combine the data) and grab the max entry or calculate the mean for the groupings that are the same. \n",
        "\n",
        "Note: Real-life data is always messy and may be missing. So we want to make sure we use the pandas dropna argument and set it to False, otherwise all entries with 'NA's will be removed. You'll actually be missing important patient data! \n",
        "\n",
        "Guide for Summarising, Aggregating, Grouping data in Python: https://www.shanelynn.ie/summarising-aggregation-and-grouping-data-in-python-pandas/\n",
        "\n",
        "Guide for handling missing data: https://machinelearningmastery.com/handle-missing-data-python/"
      ]
    },
    {
      "cell_type": "code",
      "metadata": {
        "id": "wvvJylkrWI9C"
      },
      "source": [
        "Pat_Data = data.groupby(\n",
        "    ['PTID', 'PTGENDER', 'PTEDUCAT','PTETHCAT', 'PTRACCAT','PTMARRY','APOE4'], dropna=False\n",
        "    ).aggregate(\n",
        "        {'DX': 'max',\n",
        "         'AGE': 'median',\n",
        "         'Ventricles': 'mean',\n",
        "         'Hippocampus': 'mean',\n",
        "         'WholeBrain': 'mean', \n",
        "         'Entorhinal': 'mean', \n",
        "         'Fusiform': 'mean', \n",
        "         'MidTemp': 'mean', \n",
        "         'ICV': 'mean'}\n",
        "          ).reset_index()"
      ],
      "execution_count": null,
      "outputs": []
    },
    {
      "cell_type": "code",
      "metadata": {
        "id": "W_qa64OOTdQj"
      },
      "source": [
        "Pat_Data.shape"
      ],
      "execution_count": null,
      "outputs": []
    },
    {
      "cell_type": "code",
      "source": [
        "#Let's see what happened to the patient we looked at earlier. Patient 011_S_0003. \n",
        "Pat_Data.loc[Pat_Data['PTID'] == '011_S_0003']"
      ],
      "metadata": {
        "id": "znsiKy9kAx8O"
      },
      "execution_count": null,
      "outputs": []
    },
    {
      "cell_type": "markdown",
      "metadata": {
        "id": "JUumeQx8ZhBR"
      },
      "source": [
        "#Assigment 3: shape of the dataframe\n",
        "How did the shape of the dataframe change? How many rows did the original datafram have per patient approximately? "
      ]
    },
    {
      "cell_type": "markdown",
      "metadata": {
        "id": "kgm7aELwYyXB"
      },
      "source": [
        "#More categorical variables"
      ]
    },
    {
      "cell_type": "markdown",
      "metadata": {
        "id": "0KcW3WgRLslD"
      },
      "source": [
        "What if we had multiple columns that were categorical? Here, we can make multiple columns into categoricals by using the lambda function. A lambda function can take any number of arguments, but can only have one expression.\n",
        "\n",
        "\n",
        "Here are some guides on the lambda function and the apply function\n",
        "*   lambda function: https://www.w3schools.com/python/python_lambda.asp\n",
        "\n",
        "*   apply function: https://pandas.pydata.org/pandas-docs/stable/reference/api/pandas.DataFrame.apply.html?highlight=apply\n",
        "\n",
        "\n",
        "\n",
        "\n"
      ]
    },
    {
      "cell_type": "markdown",
      "metadata": {
        "id": "mXnUirsOSpfH"
      },
      "source": [
        "Now, we can take a look at the data type of each column. We can check to see if the columns we have changed (DX, DX_bl, PTGENDER, PTETHCAT, PTRACCAT, and PTMARRY) are correct and listed as 'category'. "
      ]
    },
    {
      "cell_type": "code",
      "metadata": {
        "id": "RWpfp2B_X3jv"
      },
      "source": [
        "cols = ['PTGENDER', 'PTETHCAT', 'PTRACCAT', 'PTMARRY']\n",
        "data[cols] = data[cols].apply(lambda x: x.astype('category'))"
      ],
      "execution_count": null,
      "outputs": []
    },
    {
      "cell_type": "code",
      "metadata": {
        "id": "OkC8PprAPcZx"
      },
      "source": [
        "data.dtypes"
      ],
      "execution_count": null,
      "outputs": []
    },
    {
      "cell_type": "markdown",
      "metadata": {
        "id": "A0q9RkfjVVHv"
      },
      "source": [
        "# Summary Statistics"
      ]
    },
    {
      "cell_type": "markdown",
      "metadata": {
        "id": "18_ZmIGWVPTq"
      },
      "source": [
        "You may be curious about the patients in the study. By using the describe() function, you could take a look at the summary statistics. In this case, we see that there are more males in the study.\n",
        "\n",
        "*   count = the number of elements in your dataset\n",
        "*   unique = the total number of unique elements\n",
        "*   top = most frequent entry\n",
        "*   freq = Frequency of the most frequent entry\n",
        "\n",
        "Depending on the column data type, the summary statistics could also include the mean, std, min max, etc\n",
        "\n",
        "Guide on summary statistics: https://www.askpython.com/python/examples/calculate-summary-statistics\n",
        "\n",
        "What happens if you want to know the count of all of the cateogories? You can use the value_counts() function. Take a look at the two code chunks below."
      ]
    },
    {
      "cell_type": "code",
      "metadata": {
        "id": "X1zYn7uhVaq3"
      },
      "source": [
        "Pat_Data['PTGENDER'].describe()"
      ],
      "execution_count": null,
      "outputs": []
    },
    {
      "cell_type": "code",
      "metadata": {
        "id": "e_CL27wbZ87c"
      },
      "source": [
        "Pat_Data['PTGENDER'].value_counts()"
      ],
      "execution_count": null,
      "outputs": []
    },
    {
      "cell_type": "markdown",
      "metadata": {
        "id": "mgez10MuVONF"
      },
      "source": [
        "## Assignment 4: Summary\n",
        "\n",
        "After you created PatData, use head() to have a look at the first rows.  \n",
        "\n",
        "1.   Look at the summary statistics for race ('PTRACCAT'). What is the most frequent answer? Use describe() and value_counts(). Which function do you like best? \n",
        "2.   Try Pat_Data.describe() and look at the summary statistics for the whole dataset. What is the average age? What is the age of the youngest patient? What is the age of the oldest patient? Does it show all variables? \n",
        "\n",
        "\n",
        "\n"
      ]
    },
    {
      "cell_type": "markdown",
      "metadata": {
        "id": "d18XPO7p51aL"
      },
      "source": [
        "# Exporting as a csv file"
      ]
    },
    {
      "cell_type": "markdown",
      "metadata": {
        "id": "PUPaBZnzfAlV"
      },
      "source": [
        "Save the newly created dataset that contains one row per patient.\n",
        "This will be saved onto your Desktop.\n",
        "Replace \"YourVersion\" by your own name so that you know that this file was made by you. "
      ]
    },
    {
      "cell_type": "code",
      "metadata": {
        "id": "azkvO5eZaH2R"
      },
      "source": [
        "Pat_Data.to_csv('PatData_YourVersion.csv')\n",
        "files.download('PatData_YourVersion.csv')"
      ],
      "execution_count": null,
      "outputs": []
    }
  ]
}